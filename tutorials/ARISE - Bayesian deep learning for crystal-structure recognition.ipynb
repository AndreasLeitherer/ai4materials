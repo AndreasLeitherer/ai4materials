{
 "cells": [
  {
   "cell_type": "markdown",
   "metadata": {},
   "source": [
    "#  Robust recognition and exploratory analysis of crystal structures via Bayesian deep learning"
   ]
  },
  {
   "cell_type": "markdown",
   "metadata": {},
   "source": [
    "In the following, we will explain all the necessary steps, with code examples, to use AI-SYM for crystal-structure recognition in single- and polycyrstalline systems using the ai4materials python package. For additional details, please refer to \n",
    "\n",
    "[1] AI-SYM: A. Leitherer, A. Ziletti, and L. M. Ghiringhelli, arxiV:??, (2021)\n",
    "\n",
    "[//]: <> ([2] ai4materials: A. Leitherer, A.Ziletti, and L. M. Ghiringhelli, https://joss.theoj.org/papers ?)\n",
    "\n",
    "\n",
    "For a better overview, we provide an outline for the tutorial:\n",
    "\n",
    "* Quickstart (jump here if you want to directly use ARISE)\n",
    "* Single-Crystal classification\n",
    "* Polycyrstal classification\n",
    "* Unsupervised learning (including exploratory analysis tools)"
   ]
  },
  {
   "cell_type": "code",
   "execution_count": 1,
   "metadata": {},
   "outputs": [
    {
     "name": "stderr",
     "output_type": "stream",
     "text": [
      "/usr/local/lib/python2.7/dist-packages/pymatgen/__init__.py:87: UserWarning: \n",
      "Pymatgen will drop Py2k support from v2019.1.1. Pls consult the documentation\n",
      "at https://www.pymatgen.org for more details.\n",
      "  at https://www.pymatgen.org for more details.\"\"\")\n",
      "/usr/local/lib/python2.7/dist-packages/h5py/__init__.py:36: FutureWarning: Conversion of the second argument of issubdtype from `float` to `np.floating` is deprecated. In future, it will be treated as `np.float64 == np.dtype(float).type`.\n",
      "  from ._conv import register_converters as _register_converters\n",
      "Using TensorFlow backend.\n"
     ]
    }
   ],
   "source": [
    "import ase\n",
    "from ase.io import read\n",
    "from ase.visualize import view\n",
    "\n",
    "from timeit import default_timer as timer\n",
    "\n",
    "from collections import defaultdict\n",
    "\n",
    "\n",
    "from ai4materials.utils.utils_crystals import get_nn_distance, scale_structure\n",
    "from ai4materials.descriptors.quippy_soap_descriptor import quippy_SOAP_descriptor\n",
    "from ai4materials.utils.utils_config import set_configs, setup_logger\n",
    "from ai4materials.models.cnn_polycrystals import predict_with_uncertainty\n",
    "from ai4materials.models import AI_SYM\n",
    "\n",
    "import quippy\n",
    "from quippy import Atoms as quippy_Atoms\n",
    "from quippy import descriptors\n",
    "\n",
    "import matplotlib.pyplot as plt\n",
    "\n",
    "import os\n",
    "\n",
    "import numpy as np\n",
    "\n",
    "from keras.models import load_model\n",
    "\n",
    "import json\n",
    "import pickle\n",
    "\n",
    "# filepaths\n",
    "geometry_files = './geometry_files'\n",
    "prototype_path = './geometry_files/single_crystals/AI_SYM_paper/PROTOTYPES'\n",
    "bcc_prototype_path = os.path.join(prototype_path, \n",
    "                                  'Elemental_solids',\n",
    "                                  'bcc_W_A_cI2_229_a',\n",
    "                                  'bcc_W_A_cI2_229_a.txt' )\n",
    "\n",
    "NaCl_prototype_path = os.path.join(prototype_path, \n",
    "                                  'Binaries',\n",
    "                                  'RockSalt_NaCl',\n",
    "                                  'RockSalt_NaCl.txt' )\n",
    "\n",
    "nn_model_path = './data/nn_model/AI_SYM_Leitherer_et_al_2021.h5'\n",
    "nn_model_class_info_path = './data/nn_model'\n",
    "\n"
   ]
  },
  {
   "cell_type": "markdown",
   "metadata": {},
   "source": [
    "## Quickstart"
   ]
  },
  {
   "cell_type": "markdown",
   "metadata": {},
   "source": [
    "Please specify the geometry files that you want to analyze in the list 'geometry_files'.\n",
    "\n",
    "ARISE can be used in two modes: Local and global (controlled via the keyword 'mode'). \n",
    "\n",
    "If mode = 'local', then stride and box size need to be defined (standard setting: stride=1.0, box_size=12.0)."
   ]
  },
  {
   "cell_type": "code",
   "execution_count": 2,
   "metadata": {},
   "outputs": [
    {
     "data": {
      "text/plain": [
       "\"\\nfrom ai4materials.models import AI_SYM\\n\\ngeometry_files = [ ... ]\\n\\npredictions, uncertainty = AI_SYM.analyze(geometry_files, mode='global') \\n\\npredictions, uncertainty = AI_SYM.analyze(geometry_files, mode='local',\\n                                          stride=1.0, box_size=12.0)\\n\""
      ]
     },
     "execution_count": 2,
     "metadata": {},
     "output_type": "execute_result"
    }
   ],
   "source": [
    "\"\"\"\n",
    "from ai4materials.models import ARISE\n",
    "\n",
    "geometry_files = [ ... ]\n",
    "\n",
    "predictions, uncertainty = AI_SYM.analyze(geometry_files, mode='global') \n",
    "\n",
    "predictions, uncertainty = AI_SYM.analyze(geometry_files, mode='local',\n",
    "                                          stride=1.0, box_size=12.0)\n",
    "\"\"\""
   ]
  },
  {
   "cell_type": "markdown",
   "metadata": {},
   "source": [
    "Typically, one uses the global mode for single crystals an the local mode for large (polycrystalline) samples (too zoom into and detect structural defects such as grain boundaries). However, one can also mix this up and investigate, for instance, the global assignments  for polycrystals (see for instance the analysis of STEM graphene images with grain boundaries in Fig. 3 of Ref. [1]).\n",
    "\n",
    "The following sections provide more details on how exactly this method works. "
   ]
  },
  {
   "cell_type": "markdown",
   "metadata": {},
   "source": [
    "## The Bayesian-deep-learning model"
   ]
  },
  {
   "cell_type": "markdown",
   "metadata": {},
   "source": [
    "Given an unknown atomic structure, the goal is to find the most similar prototype (that is currently known to be found in nature, for example). Here, this list includes fcc, bcc, diamond, and hcp symmetry but as we will see later, our frameworks allows to treat a much broader range of materials.\n",
    "\n",
    "![](./assets/cs_classification_first_example.svg)\n",
    "\n",
    "The initial input that describes a given atomic structure (single- or polycyrstalline) are atomic positions, chemical species symbols (and lattice vectors for periodic systems).\n",
    "\n",
    "The first step is to lay down how this input will be treated in the AI-SYM framework, i.e., how we arrive at a meaningful prediction.\n",
    "\n",
    "Considering exemplarily  the body-centered cubic system (see http://www.aflowlib.org/prototype-encyclopedia/A_cI2_229_a.html), we describe in the following the prediction pipeline for single crystals that is schematically summarized in the following figure:\n",
    "![](./assets/concept_figure_global.svg)"
   ]
  },
  {
   "cell_type": "markdown",
   "metadata": {},
   "source": [
    "We first load the geometry file using ASE (https://wiki.fysik.dtu.dk/ase/index.html). We typically use the aims format for the geometry files (while compatibility with many other formats is provided due to the use of ASE https://wiki.fysik.dtu.dk/ase/index.html for parsing geometry files). "
   ]
  },
  {
   "cell_type": "code",
   "execution_count": 3,
   "metadata": {},
   "outputs": [],
   "source": [
    "structure = read(bcc_prototype_path, ':', 'aims')[0]\n",
    "# view(structure, viewer='x3d')"
   ]
  },
  {
   "cell_type": "markdown",
   "metadata": {},
   "source": [
    "To avoid dependence on the lattice parameters, we isotropically scale the structure using the function 'get_nn_distance' from the ai4materials package, where by default, we compute the radial distribution function (as approximated by the histogram of nearest neighbor distances) and then choose the center of the maximally populated bin as the nearest neighbor distance (i.e., the mode):"
   ]
  },
  {
   "cell_type": "code",
   "execution_count": 4,
   "metadata": {},
   "outputs": [
    {
     "name": "stderr",
     "output_type": "stream",
     "text": [
      "DEBUG:ai4materials:List of neighbors of atom number 0\n"
     ]
    },
    {
     "name": "stdout",
     "output_type": "stream",
     "text": [
      "Scale factor for fcc structure = 2.73731014894\n"
     ]
    }
   ],
   "source": [
    "scale_factor = get_nn_distance(structure)\n",
    "print('Scale factor for fcc structure = {}'.format(scale_factor))"
   ]
  },
  {
   "cell_type": "markdown",
   "metadata": {},
   "source": [
    "Given an atomic structure, scaling of atomic positions and unit cell is summarized in the function 'scale_structure' (see ai4materials docs for the definition of all keywords).  Before we conduct this calculation, we discuss the logging feature of ai4materials. Specifically, we define a configuration object, that introduces a specific folder structure. \n",
    "\n",
    "Specifically, three different folders are created automatically:\n",
    "* 'desc_folder': Here the descriptors that we are going to calculate later will be saved (as  file_name.tar.gz)\n",
    "* 'tmp_folder': temporary folder in which individual files that are calculated will be temporarily saved and later merged into .tar.gz files and moved to 'desc_folder'\n",
    "* 'results': folder where some of the results are saved.\n",
    "\n",
    "In practice, you only need to define the main folder in which the calculations should be saved. Here we choose the same path as the tutorial notebook:"
   ]
  },
  {
   "cell_type": "code",
   "execution_count": 5,
   "metadata": {},
   "outputs": [],
   "source": [
    "# set config file\n",
    "main_folder = os.getcwd()\n",
    "configs = set_configs(main_folder=main_folder)"
   ]
  },
  {
   "cell_type": "markdown",
   "metadata": {},
   "source": [
    "Now we define a logger object, depending on the configuration:"
   ]
  },
  {
   "cell_type": "code",
   "execution_count": 6,
   "metadata": {},
   "outputs": [],
   "source": [
    "logger = setup_logger(configs, level='INFO', display_configs=False)"
   ]
  },
  {
   "cell_type": "markdown",
   "metadata": {},
   "source": [
    "You can see that the logger defined at the very beginning of this tutorial provides you with some information on the calculation steps being performed. You can adapt this by setting the level of the logger object, where the levels are defined as (see https://docs.python.org/3/library/logging.html#levels):\n",
    "\n",
    "* CRITICAL = 50\n",
    "* ERROR = 40\n",
    "* WARNING = 30\n",
    "* INFO = 20\n",
    "* DEBUG = 10\n",
    "* NOTSET = 0\n",
    "\n",
    "Depending on your choice, different levels of details will be saved to file (into the 'tmp_folder' as 'output.log')"
   ]
  },
  {
   "cell_type": "code",
   "execution_count": 7,
   "metadata": {},
   "outputs": [
    {
     "name": "stdout",
     "output_type": "stream",
     "text": [
      "Previous logger level = 20\n",
      "New logger level = 20\n"
     ]
    }
   ],
   "source": [
    "print('Previous logger level = {}'.format(logger.level))\n",
    "logger.setLevel('INFO')\n",
    "print('New logger level = {}'.format(logger.level))"
   ]
  },
  {
   "cell_type": "markdown",
   "metadata": {},
   "source": [
    "Now we calculate the scaling using the function 'scale_structure' with the most important steps (depending on the logger level) being printed out:"
   ]
  },
  {
   "cell_type": "code",
   "execution_count": 8,
   "metadata": {},
   "outputs": [
    {
     "name": "stderr",
     "output_type": "stream",
     "text": [
      "INFO: Scale factor: 2.73731014894\n"
     ]
    },
    {
     "name": "stdout",
     "output_type": "stream",
     "text": [
      "2.737310148939904\n"
     ]
    }
   ],
   "source": [
    "scaled_structure = scale_structure(structure, scaling_type='quantile_nn',\n",
    "                                   atoms_scaling_cutoffs=[10., 20., 30., 40.],\n",
    "                                   extrinsic_scale_factor=1.0,\n",
    "                                   element_sensitive=False, \n",
    "                                   central_atom_species=structure.get_atomic_numbers()[0],\n",
    "                                   neighbor_atoms_species=structure.get_atomic_numbers()[0],\n",
    "                                   constrain_nn_distances=False)"
   ]
  },
  {
   "cell_type": "markdown",
   "metadata": {},
   "source": [
    "Using atomic positions $\\mathbf{r}_i$ labeled by chemical species $c_i$ ($i = 1, ..., \\text{N}_{\\text{atoms}}$) directly as input to a classification model introduces several issues. Most importantly, physically meaningful invariances that we know to be true are not respected (translational / rotational invariance and permutations of idential atoms). Also the input dimension would depend on the number of atoms (while this could be tackled with the use of convolutional neural networks).\n",
    "\n",
    "A well-known and -tested materials science descriptor that captures physical invariances is the so-called  SOAP descriptor [3-5].  In this tutorial we will employ the SOAP implementaion that is being made available via the quippy package (https://github.com/libAtoms/QUIP) for non-commercial use. Note that ai4materials also contains an interface to the Dscribe package (https://singroup.github.io/dscribe/latest/).\n",
    "\n",
    "In short, given an atomic structure with N atoms, we obtain N SOAP vectors (respecting the mentioned invariances) that represent the local atomic environments of each atom. The local atomic environments of an atom is defined as a sphere (centered at that particular atom) that has a certain (tunable) cutoff radius $R_C$. Each atom within that sphere is represented by a Gaussian function (with a certain, tunable width $\\sigma$) and the sum of these Gaussians defines the local density:\n",
    "\n",
    "$\\begin{equation}  \\rho_\\mathscr{X}(\\vec{r})=\\sum_{i\\in \\mathscr{X}} \\exp{\\left(-\\frac{(\\vec{r}-\\vec{r}_i)^2}{2\\sigma^2}\\right)} \\end{equation}$\n",
    "\n",
    "The local density is expanded in terms of radial basis functions and spherical harmonics, giving a set of basis set expansion coefficients $c_{blm}$:\n",
    "$\\begin{equation}  \\rho_\\mathscr{X}(\\vec{r})=\\sum_{i\\in \\mathscr{X}} \\exp{\\left(-\\frac{(\\vec{r}-\\vec{r}_i)^2}{2\\sigma^2}\\right)} =\\sum_{blm}c_{blm}u_b(r) Y_{lm}(\\hat{\\vec{r}}) \\end{equation}$\n",
    "\n",
    "\n",
    "A rotational average of these coefficients  yields the SOAP representation of the original local atomic environment:\n",
    "\n",
    "$\\begin{equation}\n",
    " p(\\mathscr{X})_{b_1b_2l}=\\pi\\sqrt{\\frac{8}{2l+1}}\\sum_{m}(c_{b_1 lm})^{\\dagger} c_{b_2 lm}.\n",
    "\\end{equation}$\n",
    "\n",
    "Applying this procedure to every atom, gives a collection of SOAP vectors, which one may average. The default behaviour in quippy is though to average the coefficients and then perform the rotational average.\n",
    "\n",
    "We adapt the raw output of quippy using a typical averaging procedure (while additional details such as the treatment of \"cross-correlation terms\" is discussed in the supplementary material of [1]).\n",
    "\n",
    "We first have to define some parameters that define the SOAP descriptor and are summarized in the string \n",
    "descriptor_options that is used to create the SOAP descritptor object:"
   ]
  },
  {
   "cell_type": "code",
   "execution_count": 9,
   "metadata": {},
   "outputs": [],
   "source": [
    "cutoff = 4.0\n",
    "central_weight = 0.0\n",
    "atom_sigma = 0.1\n",
    "p_b_c = True\n",
    "\n",
    "l_max = 6\n",
    "n_max = 9\n",
    "n_Z = 1\n",
    "n_species = 1\n",
    "species_Z = structure.get_atomic_numbers()[0]\n",
    "Z = structure.get_atomic_numbers()[0]\n",
    "average = True\n",
    "\n",
    "descriptor_options = 'soap '+'cutoff='+str(cutoff)+' l_max='+str(l_max)+' n_max='+str(n_max) + \\\n",
    "                     ' atom_sigma='+str(atom_sigma)+ ' n_Z='+str(n_Z) + \\\n",
    "                     ' Z={'+str(Z)+'} n_species='+str(n_species)+' species_Z={'+str(species_Z) + \\\n",
    "                     '} central_weight='+str(central_weight)+' average='+str(average)\n",
    "            \n",
    "desc = descriptors.Descriptor(descriptor_options)\n",
    "struct = quippy_Atoms(scaled_structure)\n",
    "struct.set_pbc(p_b_c)"
   ]
  },
  {
   "cell_type": "markdown",
   "metadata": {},
   "source": [
    "Now we can calculate the SOAP descriptor and plot its components:"
   ]
  },
  {
   "cell_type": "code",
   "execution_count": 10,
   "metadata": {},
   "outputs": [
    {
     "data": {
      "image/png": "[encoded data removed]",
      "text/plain": [
       "<matplotlib.figure.Figure at 0x7f0538588f50>"
      ]
     },
     "metadata": {},
     "output_type": "display_data"
    }
   ],
   "source": [
    "#Compute SOAP descriptor\n",
    "struct.set_cutoff(desc.cutoff())\n",
    "struct.calc_connect()\n",
    "SOAP_descriptor = desc.calc(struct)['descriptor']\n",
    "\n",
    "# visualize descriptor\n",
    "def vis_desc(SOAP_descriptor):\n",
    "    fig, ax = plt.subplots(1,2, figsize=(15,2))\n",
    "    ax[0].plot(SOAP_descriptor[0])\n",
    "    ax[0].set_xlabel('SOAP component #')\n",
    "    ax[0].set_ylabel('SOAP component value (normalized)')\n",
    "\n",
    "\n",
    "    m = ax[1].imshow(SOAP_descriptor, aspect=150, cmap=\"viridis\", extent=[0, 315, 0, 1])\n",
    "    ax[1].set_yticks([])\n",
    "    ax[1].set_xticks([])\n",
    "    fig.colorbar(m, ax=ax)\n",
    "\n",
    "\n",
    "    plt.show()\n",
    "vis_desc(SOAP_descriptor)"
   ]
  },
  {
   "cell_type": "markdown",
   "metadata": {},
   "source": [
    "All these steps are summarized in the ai4materials package and the SOAP descriptor for a general structure can be obtained the following way:"
   ]
  },
  {
   "cell_type": "code",
   "execution_count": 11,
   "metadata": {},
   "outputs": [
    {
     "name": "stderr",
     "output_type": "stream",
     "text": [
      "INFO: Metadata for descriptor quippy_SOAP_descriptor: [u'quippy_SOAP', u'quippy_SOAP_image', u'quippy_SOAP_coordinates']\n",
      "INFO: Structure: Atoms(symbols='W', pbc=True, cell=[[-1.5775, 1.5775, 1.5775], [1.5775, -1.5775, 1.5775], [1.5775, 1.5775, -1.5775]])\n",
      "INFO: Scale factor: 2.73731014894\n"
     ]
    },
    {
     "name": "stdout",
     "output_type": "stream",
     "text": [
      "[ True  True  True]\n",
      "2.737310148939904\n"
     ]
    },
    {
     "data": {
      "image/png": "[encoded data removed]",
      "text/plain": [
       "<matplotlib.figure.Figure at 0x7f05430df650>"
      ]
     },
     "metadata": {},
     "output_type": "display_data"
    }
   ],
   "source": [
    "# Define the descriptor\n",
    "descriptor = quippy_SOAP_descriptor()\n",
    "\n",
    "soap_desc = descriptor.calculate(structure).info['descriptor']['SOAP_descriptor']\n",
    "\n",
    "\n",
    "# visualize descriptor\n",
    "vis_desc(SOAP_descriptor)"
   ]
  },
  {
   "cell_type": "markdown",
   "metadata": {},
   "source": [
    "The object 'quippy_SOAP_descriptor' contains more arguments which where chosen automatically above. The full function structure is as follows:"
   ]
  },
  {
   "cell_type": "code",
   "execution_count": 12,
   "metadata": {},
   "outputs": [
    {
     "name": "stderr",
     "output_type": "stream",
     "text": [
      "INFO: Metadata for descriptor quippy_SOAP_descriptor: [u'quippy_SOAP', u'quippy_SOAP_image', u'quippy_SOAP_coordinates']\n"
     ]
    }
   ],
   "source": [
    "descriptor = quippy_SOAP_descriptor(configs=configs, p_b_c=False,\n",
    "                                    cutoff=cutoff, l_max=l_max,\n",
    "                                    n_max=n_max, atom_sigma=atom_sigma,\n",
    "                                    central_weight=central_weight,\n",
    "                                    average=True,\n",
    "                                    atoms_scaling='quantile_nn',\n",
    "                                    atoms_scaling_cutoffs=[10., 20., 30., 40.],\n",
    "                                    extrinsic_scale_factor=1.0, \n",
    "                                    n_Z=1, Z=1, n_species=1, \n",
    "                                    species_Z=1, scale_element_sensitive=False,\n",
    "                                    return_binary_descriptor=True,\n",
    "                                    average_binary_descriptor=True, min_atoms=1,\n",
    "                                    shape_soap=316, constrain_nn_distances=False)"
   ]
  },
  {
   "cell_type": "markdown",
   "metadata": {},
   "source": [
    "Now we can have a look at the predictions from the neural network model used in the AI-SYM publication. For this, we have to first load the model:"
   ]
  },
  {
   "cell_type": "code",
   "execution_count": 13,
   "metadata": {},
   "outputs": [
    {
     "name": "stdout",
     "output_type": "stream",
     "text": [
      "_________________________________________________________________\n",
      "Layer (type)                 Output Shape              Param #   \n",
      "=================================================================\n",
      "input_11 (InputLayer)        (None, 316)               0         \n",
      "_________________________________________________________________\n",
      "dropout_layer_0 (Dropout)    (None, 316)               0         \n",
      "_________________________________________________________________\n",
      "dense_0 (Dense)              (None, 256)               81152     \n",
      "_________________________________________________________________\n",
      "LeakyRELU_layer_0 (LeakyReLU (None, 256)               0         \n",
      "_________________________________________________________________\n",
      "dropout_layer_1 (Dropout)    (None, 256)               0         \n",
      "_________________________________________________________________\n",
      "dense_1 (Dense)              (None, 512)               131584    \n",
      "_________________________________________________________________\n",
      "LeakyRELU_layer_1 (LeakyReLU (None, 512)               0         \n",
      "_________________________________________________________________\n",
      "dropout_layer_2 (Dropout)    (None, 512)               0         \n",
      "_________________________________________________________________\n",
      "dense_2 (Dense)              (None, 256)               131328    \n",
      "_________________________________________________________________\n",
      "LeakyRELU_layer_2 (LeakyReLU (None, 256)               0         \n",
      "_________________________________________________________________\n",
      "dropout_final_layer (Dropout (None, 256)               0         \n",
      "_________________________________________________________________\n",
      "final_dense (Dense)          (None, 108)               27756     \n",
      "_________________________________________________________________\n",
      "final_softmax_activation (Ac (None, 108)               0         \n",
      "=================================================================\n",
      "Total params: 371,820\n",
      "Trainable params: 371,820\n",
      "Non-trainable params: 0\n",
      "_________________________________________________________________\n"
     ]
    }
   ],
   "source": [
    "model = load_model(nn_model_path)\n",
    "model.summary()"
   ]
  },
  {
   "cell_type": "markdown",
   "metadata": {},
   "source": [
    "The neurons in the final layer each correspond to a specific class. This information is saved in a json file that we are loading below:"
   ]
  },
  {
   "cell_type": "code",
   "execution_count": 14,
   "metadata": {},
   "outputs": [],
   "source": [
    "with open(os.path.join(nn_model_class_info_path, 'class_info.json')) as file_name:\n",
    "    data = json.load(file_name) \n",
    "\n",
    "class_labels = data[\"data\"][0]['classes']\n",
    "numerical_to_text_label = dict(zip(range(len(class_labels)), class_labels))    \n",
    "text_to_numerical_label = dict(zip(class_labels, range(len(class_labels))))"
   ]
  },
  {
   "cell_type": "markdown",
   "metadata": {},
   "source": [
    "ARISEe employs a Bayesian neural network, which it does not only yield classification probabilities, but also allows to quantify the predictive uncertainty. \n",
    "\n",
    "Specifically, given an input and computing the model output for several iterations yields a collection of (differing) probability vectors (while in a standard, deterministic neural network, all predictions will be equal). Sampling the output layer of the Bayesian neural network actually corresponds to sampling from the (approximated) true probability distribution of outputs. Averaging these forward-passes gives an average classification probability vector, and the predicted class label can be inferred from taking the most likely class. Additional, statistical information on the predictive uncertainty is contained in the classification probability samples.  In ai4materials,  mutual information, predictive entropy, and variation ratio are implemented for obtaining \n",
    "a single uncertainty quantifying number from the output samples. \n",
    "\n",
    "Prediction and uncertainty quantification is performed in the following cell:"
   ]
  },
  {
   "cell_type": "code",
   "execution_count": 15,
   "metadata": {},
   "outputs": [
    {
     "name": "stderr",
     "output_type": "stream",
     "text": [
      "INFO: Calculating classification uncertainty.\n",
      "INFO: Performing forward pass: 1/1000\n",
      "INFO: Performing forward pass: 102/1000\n",
      "INFO: Performing forward pass: 203/1000\n",
      "INFO: Performing forward pass: 304/1000\n",
      "INFO: Performing forward pass: 405/1000\n",
      "INFO: Performing forward pass: 506/1000\n",
      "INFO: Performing forward pass: 607/1000\n",
      "INFO: Performing forward pass: 708/1000\n",
      "INFO: Performing forward pass: 809/1000\n",
      "INFO: Performing forward pass: 910/1000\n"
     ]
    }
   ],
   "source": [
    "# reshape data array such that it fits model input shape\n",
    "input_shape_from_model = model.layers[0].get_input_at(0).get_shape().as_list()[1:]\n",
    "target_shape = tuple([-1] + input_shape_from_model)\n",
    "data = np.reshape(soap_desc, target_shape)\n",
    "\n",
    "# Obtain classifcation probabilities (numpy array 'prediction')\n",
    "# and uncertainty quantifiers (dictionary of numpy arrays, with three keys\n",
    "# 'mutual_information', 'predictive_entropy', and 'variation_ratio' corresponding to\n",
    "# three uncertainty quantifiers)\n",
    "prediction, uncertainty = predict_with_uncertainty(data, \n",
    "                                                   model=model, \n",
    "                                                   model_type='classification', \n",
    "                                                   n_iter=1000)"
   ]
  },
  {
   "cell_type": "markdown",
   "metadata": {},
   "source": [
    "The array 'prediction' gives the classification probabilities, which are clearly peaked at the entry corresponding to bcc:"
   ]
  },
  {
   "cell_type": "code",
   "execution_count": 16,
   "metadata": {},
   "outputs": [
    {
     "name": "stdout",
     "output_type": "stream",
     "text": [
      "Maximal classifcation probability with value 0.9884 for class bcc_W_A_cI2_229_a\n"
     ]
    },
    {
     "data": {
      "image/png": "[encoded data removed]",
      "text/plain": [
       "<matplotlib.figure.Figure at 0x7f04be954b50>"
      ]
     },
     "metadata": {},
     "output_type": "display_data"
    }
   ],
   "source": [
    "argmax_prediction = prediction.argmax(axis=-1)[0]\n",
    "print('Maximal classifcation probability with value {:.4f} for class {}'.format(prediction[0][argmax_prediction],\n",
    "                                                                          numerical_to_text_label[argmax_prediction]))\n",
    "plt.plot(prediction[0])\n",
    "plt.xlabel('Class (integer encoding)')\n",
    "plt.ylabel('Probability')\n",
    "plt.show()"
   ]
  },
  {
   "cell_type": "markdown",
   "metadata": {},
   "source": [
    "***In summary***: All of these steps - isotropic scaling, descriptor calculation, neural network predictions (classification probabilities + uncertainty) - are summarized in the following funciton, to provide a quick and easy usage:"
   ]
  },
  {
   "cell_type": "code",
   "execution_count": 17,
   "metadata": {},
   "outputs": [
    {
     "name": "stderr",
     "output_type": "stream",
     "text": [
      "INFO: Metadata for descriptor quippy_SOAP_descriptor: [u'quippy_SOAP', u'quippy_SOAP_image', u'quippy_SOAP_coordinates']\n",
      "INFO: Metadata for descriptor quippy_SOAP_descriptor: [u'quippy_SOAP', u'quippy_SOAP_image', u'quippy_SOAP_coordinates']\n",
      "INFO: Structure: Atoms(symbols='Cu', pbc=True, cell=[[0.0, 1.807455, 1.807455], [1.807455, 0.0, 1.807455], [1.807455, 1.807455, 0.0]])\n",
      "INFO: Structure: Atoms(symbols='Cu', pbc=True, cell=[[0.0, 1.807455, 1.807455], [1.807455, 0.0, 1.807455], [1.807455, 1.807455, 0.0]])\n"
     ]
    },
    {
     "name": "stdout",
     "output_type": "stream",
     "text": [
      "Atoms(symbols='Cu', pbc=True, cell=[[0.0, 1.807455, 1.807455], [1.807455, 0.0, 1.807455], [1.807455, 1.807455, 0.0]])\n",
      "[ True  True  True]\n"
     ]
    },
    {
     "name": "stderr",
     "output_type": "stream",
     "text": [
      "INFO: Scale factor: 2.56112737438\n",
      "INFO: Scale factor: 2.56112737438\n",
      "INFO: Calculating classification uncertainty.\n",
      "INFO: Calculating classification uncertainty.\n",
      "INFO: Performing forward pass: 1/1000\n",
      "INFO: Performing forward pass: 1/1000\n",
      "INFO: Performing forward pass: 102/1000\n",
      "INFO: Performing forward pass: 102/1000\n",
      "INFO: Performing forward pass: 203/1000\n",
      "INFO: Performing forward pass: 203/1000\n"
     ]
    },
    {
     "name": "stdout",
     "output_type": "stream",
     "text": [
      "2.561127374379063\n"
     ]
    },
    {
     "name": "stderr",
     "output_type": "stream",
     "text": [
      "INFO: Performing forward pass: 304/1000\n",
      "INFO: Performing forward pass: 304/1000\n",
      "INFO: Performing forward pass: 405/1000\n",
      "INFO: Performing forward pass: 405/1000\n",
      "INFO: Performing forward pass: 506/1000\n",
      "INFO: Performing forward pass: 506/1000\n",
      "INFO: Performing forward pass: 607/1000\n",
      "INFO: Performing forward pass: 607/1000\n",
      "INFO: Performing forward pass: 708/1000\n",
      "INFO: Performing forward pass: 708/1000\n",
      "INFO: Performing forward pass: 809/1000\n",
      "INFO: Performing forward pass: 809/1000\n",
      "INFO: Performing forward pass: 910/1000\n",
      "INFO: Performing forward pass: 910/1000\n",
      "INFO: Structure: Atoms(symbols='W', pbc=True, cell=[[-1.5775, 1.5775, 1.5775], [1.5775, -1.5775, 1.5775], [1.5775, 1.5775, -1.5775]])\n",
      "INFO: Structure: Atoms(symbols='W', pbc=True, cell=[[-1.5775, 1.5775, 1.5775], [1.5775, -1.5775, 1.5775], [1.5775, 1.5775, -1.5775]])\n"
     ]
    },
    {
     "name": "stdout",
     "output_type": "stream",
     "text": [
      "Atoms(symbols='W', pbc=True, cell=[[-1.5775, 1.5775, 1.5775], [1.5775, -1.5775, 1.5775], [1.5775, 1.5775, -1.5775]])\n",
      "[ True  True  True]\n"
     ]
    },
    {
     "name": "stderr",
     "output_type": "stream",
     "text": [
      "INFO: Scale factor: 2.73731014894\n",
      "INFO: Scale factor: 2.73731014894\n",
      "INFO: Calculating classification uncertainty.\n",
      "INFO: Calculating classification uncertainty.\n",
      "INFO: Performing forward pass: 1/1000\n",
      "INFO: Performing forward pass: 1/1000\n",
      "INFO: Performing forward pass: 102/1000\n",
      "INFO: Performing forward pass: 102/1000\n",
      "INFO: Performing forward pass: 203/1000\n",
      "INFO: Performing forward pass: 203/1000\n",
      "INFO: Performing forward pass: 304/1000\n",
      "INFO: Performing forward pass: 304/1000\n"
     ]
    },
    {
     "name": "stdout",
     "output_type": "stream",
     "text": [
      "2.737310148939904\n"
     ]
    },
    {
     "name": "stderr",
     "output_type": "stream",
     "text": [
      "INFO: Performing forward pass: 405/1000\n",
      "INFO: Performing forward pass: 405/1000\n",
      "INFO: Performing forward pass: 506/1000\n",
      "INFO: Performing forward pass: 506/1000\n",
      "INFO: Performing forward pass: 607/1000\n",
      "INFO: Performing forward pass: 607/1000\n",
      "INFO: Performing forward pass: 708/1000\n",
      "INFO: Performing forward pass: 708/1000\n",
      "INFO: Performing forward pass: 809/1000\n",
      "INFO: Performing forward pass: 809/1000\n",
      "INFO: Performing forward pass: 910/1000\n",
      "INFO: Performing forward pass: 910/1000\n"
     ]
    }
   ],
   "source": [
    "from ai4materials.models import AI_SYM\n",
    "\n",
    "geometry_files = [os.path.join(prototype_path,\n",
    "                              'Elemental_solids',\n",
    "                              'fcc_Cu_A_cF4_225_a',\n",
    "                              'fcc_Cu_A_cF4_225_a.txt' ),\n",
    "                 os.path.join(prototype_path,\n",
    "                              'Elemental_solids',\n",
    "                              'bcc_W_A_cI2_229_a',\n",
    "                              'bcc_W_A_cI2_229_a.txt' )]\n",
    "\n",
    "predictions, uncertainty = AI_SYM.global_(geometry_files, logger=logger)"
   ]
  },
  {
   "cell_type": "markdown",
   "metadata": {},
   "source": [
    "Similarly, one can print out the prediction and uncertainty information using the function 'analyze_predictions':"
   ]
  },
  {
   "cell_type": "code",
   "execution_count": 18,
   "metadata": {},
   "outputs": [
    {
     "name": "stdout",
     "output_type": "stream",
     "text": [
      "For geometry file ./geometry_files/single_crystals/AI_SYM_paper/PROTOTYPES/Elemental_solids/fcc_Cu_A_cF4_225_a/fcc_Cu_A_cF4_225_a.txt\n",
      "1. Predicted prototype fcc_Cu_A_cF4_225_a with classification probability 0.9500\n",
      "2. Predicted prototype bctIn_In_A_tI2_139_a with classification probability 0.0447\n",
      "3. Predicted prototype L12_Cu3Au with classification probability 0.0029\n",
      "Uncertainty: variation_ratio = 0.021 mutual_information = 0.1314 predictive_entropy = 0.3221 \n",
      "For geometry file ./geometry_files/single_crystals/AI_SYM_paper/PROTOTYPES/Elemental_solids/bcc_W_A_cI2_229_a/bcc_W_A_cI2_229_a.txt\n",
      "1. Predicted prototype bcc_W_A_cI2_229_a with classification probability 0.9874\n",
      "2. Predicted prototype stetBetaNp_Np_A_tP4_129_ac with classification probability 0.0126\n",
      "3. Predicted prototype diam_C_A_cF8_227_a with classification probability 0.0000\n",
      "Uncertainty: variation_ratio = 0.005 mutual_information = 0.0523 predictive_entropy = 0.0985 \n"
     ]
    }
   ],
   "source": [
    "AI_SYM.analyze_predictions(geometry_files, predictions, uncertainty)"
   ]
  },
  {
   "cell_type": "code",
   "execution_count": null,
   "metadata": {},
   "outputs": [],
   "source": []
  },
  {
   "cell_type": "markdown",
   "metadata": {},
   "source": [
    "As discussed in [1], the great advantage of our method is that we can treat much more classes than available methods.\n",
    "\n",
    "Considering as an example binary structures, specifically NaCl, we have to think a little bit to obtain a descriptor that fits the input  of the model. What we mean by that is that the usual way in treating multiple chemical species is to calculate\n",
    "\n",
    "$\\begin{equation}\n",
    "p(\\mathscr{X})_{b_1b_2l}^{\\alpha\\beta}=\\pi\\sqrt{\\frac{8}{2l+1}}\\sum_{m}(c_{b_1 lm}^{\\alpha})^{\\dagger} c_{b_2 lm}^\\beta.\n",
    "\\end{equation}$\n",
    "\n",
    "Then one may simply append all of these components, or average over certain combinations. We take the latter rout, where it turns out that it suffices (for our purposes) to only select coefficients for $Z_1 = Z_2$ and ignore cross terms for $Z_1 \\neq Z_2$. Then, we consider all substructures, i.e., we compute SOAP according to \n",
    "\n",
    "$\\begin{equation}\n",
    " p(\\mathscr{X})_{b_1b_2l}=\\pi\\sqrt{\\frac{8}{2l+1}}\\sum_{m}(c_{b_1 lm})^{\\dagger} c_{b_2 lm}. \\label{equation:SOAP_power_spectrum}\n",
    "\\end{equation}$\n",
    "\n",
    "where we sit on all Na atoms and consider only Na atoms or Ca atoms, and sit on all Ca atoms and consider only all Ca or Na atoms. This gives us 4 vectors, which we average. Generalization to structures with arbitrary number of chemical species is straightforward - and so we end up with a descriptor that is independent on 1. the number of atoms, 2. number of chemical species, and 3. incorporates all relevant symmetries (rotational invariance, translational invariance, and invariance with respect to permutations of identical atoms).\n",
    "\n",
    "Coming back to our implementation, one only has to provide one additional keyword 'scale_elment_sensitive' and set it  to 'True' - this way, we isotropically scale each substructure separately (one may also not do this, but the model we provide her is not trained on this kind of procedure):"
   ]
  },
  {
   "cell_type": "code",
   "execution_count": 20,
   "metadata": {},
   "outputs": [],
   "source": [
    "geometry_files = [NaCl_prototype_path]\n",
    "#view(structure, viewer='x3d')"
   ]
  },
  {
   "cell_type": "code",
   "execution_count": null,
   "metadata": {},
   "outputs": [],
   "source": [
    "predictions, uncertainty = AI_SYM.global_(geometry_files, logger=logger)"
   ]
  },
  {
   "cell_type": "code",
   "execution_count": null,
   "metadata": {},
   "outputs": [],
   "source": [
    "AI_SYM.analyze_predictions(geometry_files, predictions, uncertainty)"
   ]
  },
  {
   "cell_type": "markdown",
   "metadata": {},
   "source": [
    "For the predictions in the fccm we see that non-zero probabiltiy is also assigned to another prototype, which is the following one"
   ]
  },
  {
   "cell_type": "code",
   "execution_count": 38,
   "metadata": {},
   "outputs": [
    {
     "name": "stdout",
     "output_type": "stream",
     "text": [
      "Further candidate: classifcation probability with value 1.58886653834e-10 for class bctIn_In_A_tI2_139_a\n"
     ]
    }
   ],
   "source": [
    "print('Further candidate: classifcation probability with value {} for class {}'.format(prediction[0][81],\n",
    "                                                                          numerical_to_text_label[81]))"
   ]
  },
  {
   "cell_type": "markdown",
   "metadata": {},
   "source": [
    "This assignment is justified since it is a slightly distorted (tetragonal) version of fcc (http://aflowlib.org/prototype-encyclopedia/A_tI2_139_a.In.html).\n",
    "\n",
    "We also see the uncertainty is non-zero, indicating that there might be multiple candidates. Specifically, the mutual information (see ? for the exact definition) has the value"
   ]
  },
  {
   "cell_type": "code",
   "execution_count": 15,
   "metadata": {},
   "outputs": [
    {
     "name": "stdout",
     "output_type": "stream",
     "text": [
      "0.12248099\n"
     ]
    }
   ],
   "source": [
    "print(uncertainty['mutual_information'][0])"
   ]
  },
  {
   "cell_type": "markdown",
   "metadata": {},
   "source": [
    "There are also other ways to quantify the uncertainty (see for instance L. Smith & Y. Gal, arXiv:1803.08533v1, 2018), where the function 'predict_with_uncertainty' automatically calculates mutual information, predictive enetropy, and variation ratio:"
   ]
  },
  {
   "cell_type": "code",
   "execution_count": 16,
   "metadata": {},
   "outputs": [
    {
     "name": "stdout",
     "output_type": "stream",
     "text": [
      "For uncertainty variation_ratio, observe value of 0.019\n",
      "For uncertainty mutual_information, observe value of 0.122480988503\n",
      "For uncertainty predictive_entropy, observe value of 0.307086288929\n"
     ]
    }
   ],
   "source": [
    "for uncertainty_type in uncertainty:\n",
    "    print('For uncertainty {}, observe value of {}'.format(uncertainty_type, uncertainty[uncertainty_type][0]))"
   ]
  },
  {
   "cell_type": "code",
   "execution_count": null,
   "metadata": {},
   "outputs": [],
   "source": [
    "# Parallel processsing: demonstrate that it is much faster - see last two\n",
    "# cells of https://colab.research.google.com/github/Stable-Baselines-Team/rl-colab-notebooks/blob/master/multiprocessing_rl.ipynb"
   ]
  },
  {
   "cell_type": "code",
   "execution_count": 71,
   "metadata": {},
   "outputs": [],
   "source": [
    "prototypes_path = prototype_path\n",
    "datasets = os.listdir(prototypes_path)\n",
    "min_nb_atoms = 100\n",
    "p_b_c = True\n",
    "all_prototypes = defaultdict(list)\n",
    "    \n",
    "for dataset in datasets:\n",
    "    #if not dataset=='2D_materials':\n",
    "    #    continue\n",
    "    # skip Nanotubes if pbc True\n",
    "    # NOT DO THE FOLLOWING\n",
    "    #if p_b_c==True and dataset=='Nanotubes':\n",
    "    #    continue\n",
    "    # because it will skip nanotubes and then only return 96 instead of 108 classes\n",
    "    # which we do not want\n",
    "    #if not dataset=='Elemental_solids':\n",
    "    #    continue\n",
    "\n",
    "    prototypes_basedir = os.path.join(prototypes_path,dataset)\n",
    "    crystal_structures = os.listdir(prototypes_basedir)\n",
    "\n",
    "    # LOAD PROTOTYPES\n",
    "    # go trhough folder, get all txt files, load all of protos, give them labels according to their filename which will identify them uniquely  \n",
    "    prototypes = []\n",
    "    for crystal_structure in crystal_structures:\n",
    "        all_files = os.listdir(os.path.join(prototypes_basedir, crystal_structure))\n",
    "        all_files = [x for x in all_files if x[-4:]=='.txt'] # only consider txt files\n",
    "        for i,filename in enumerate(all_files):\n",
    "            prototype = ase.io.read(os.path.join(prototypes_basedir,crystal_structure,filename), ':', 'aims')[0]\n",
    "            prototype.info['idx'] = i\n",
    "            prototype.info['label'] = filename[:-4] # label for assigning unique name to all files in the tar files\n",
    "            prototype.info['crystal_structure'] = crystal_structure # THIS WILL BE USED AS TARGET FOR TRAINING\n",
    "            prototype.info['dataset'] = dataset\n",
    "            # get supercell size - replicate unit cell until min_nb_atoms is exceeded\n",
    "            if dataset=='2D_materials': # for 2D materials only replicate in x and y\n",
    "                replica = 0\n",
    "                while (prototype*(replica,replica,1)).get_number_of_atoms()<min_nb_atoms:\n",
    "                    replica+=1\n",
    "                supercell_list = []\n",
    "                for x in [replica, replica+1, replica+2]:\n",
    "                    for y in [replica, replica+1, replica+2]:\n",
    "                        supercell_list.append((x,y,1))\n",
    "                prototype.info['supercells'] = [(x,x,1) for x in [replica, replica+1, replica+2]] # supercell_list\n",
    "            elif dataset=='Nanotubes':\n",
    "                prototype.info['supercells'] = ['Nanotubes']\n",
    "            else:\n",
    "                replica = 0\n",
    "                while (prototype*(replica,replica,replica)).get_number_of_atoms()<min_nb_atoms:\n",
    "                    replica+=1\n",
    "                supercell_list = []\n",
    "                for x in [replica,replica+1]:\n",
    "                    for y in [replica, replica+1]:\n",
    "                        for z in [replica, replica+1]:\n",
    "                            supercell_list.append((x,y,z))\n",
    "                prototype.info['supercells'] = [(x,x,x) for x in [replica,replica+1, replica+2]] # supercell_list                    \n",
    "                #prototype.info['supercells'].append(['cubic_shape_1','cubic_shape_2'])\n",
    "\n",
    "            # channged to fit in pbc=True\n",
    "            #prototype.set_pbc(False)\n",
    "            if dataset=='Nanotubes':\n",
    "                prototype.set_pbc(False)\n",
    "            elif dataset=='2D_materials':\n",
    "                prototype.set_pbc([p_b_c,p_b_c,False])\n",
    "            else:\n",
    "                prototype.set_pbc(p_b_c)\n",
    "            prototypes.append(prototype)\n",
    "            all_prototypes[dataset].append(prototype)"
   ]
  },
  {
   "cell_type": "code",
   "execution_count": 75,
   "metadata": {},
   "outputs": [
    {
     "name": "stdout",
     "output_type": "stream",
     "text": [
      "You have a maximum of 8 CPUs available.\n"
     ]
    }
   ],
   "source": [
    "import multiprocessing\n",
    "max_nb_CPUs = multiprocessing.cpu_count()\n",
    "\n",
    "print('You have a maximum of {} CPUs available.'.format(max_nb_CPUs))\n",
    "\n",
    "\n",
    "from ai4materials.wrappers import calc_descriptor_in_memory\n",
    "descriptor_to_calculate = 'SOAP'\n",
    "extrinsic_scaling_factor = 1.0\n",
    "prototypes_pristine = all_prototypes['Elemental_solids']\n",
    "target_list_pristine = [_.info['crystal_structure'] for _ in prototypes_pristine]\n",
    "dataset = '_'.join(datasets)\n",
    "\n",
    "\n",
    "desc_file_name=dataset+'_'+descriptor_to_calculate+'_pristine_cutoff_'+str(round(cutoff,4))+'_atom_sigma_'+str(round(atom_sigma,4))+'_exsf_'+str(extrinsic_scaling_factor)+'_pbc_'+str(p_b_c)+'.tar.gz'\n",
    "\n",
    "\n",
    "nb_jobs_list = [1, max_nb_CPUs]\n",
    "computation_times = {}"
   ]
  },
  {
   "cell_type": "code",
   "execution_count": 77,
   "metadata": {},
   "outputs": [
    {
     "name": "stderr",
     "output_type": "stream",
     "text": [
      "  4%|▎         | 1/27 [00:00<00:04,  5.25it/s]"
     ]
    },
    {
     "name": "stdout",
     "output_type": "stream",
     "text": [
      "[ True  True  True]\n",
      "1.0968244409968257\n",
      "[ True  True  True]\n"
     ]
    },
    {
     "name": "stderr",
     "output_type": "stream",
     "text": [
      "\r",
      "  7%|▋         | 2/27 [00:00<00:04,  5.69it/s]"
     ]
    },
    {
     "name": "stdout",
     "output_type": "stream",
     "text": [
      "2.373197167949473\n",
      "[ True  True  True]\n"
     ]
    },
    {
     "name": "stderr",
     "output_type": "stream",
     "text": [
      "\r",
      " 11%|█         | 3/27 [00:00<00:04,  4.98it/s]"
     ]
    },
    {
     "name": "stdout",
     "output_type": "stream",
     "text": [
      "1.2301166000004353\n",
      "[ True  True  True]\n"
     ]
    },
    {
     "name": "stderr",
     "output_type": "stream",
     "text": [
      " 19%|█▊        | 5/27 [00:01<00:05,  4.05it/s]"
     ]
    },
    {
     "name": "stdout",
     "output_type": "stream",
     "text": [
      "1.4229722627107249\n",
      "[ True  True  True]\n",
      "3.0274581528326383\n",
      "[ True  True  True]\n"
     ]
    },
    {
     "name": "stderr",
     "output_type": "stream",
     "text": [
      "\r",
      " 22%|██▏       | 6/27 [00:01<00:05,  4.12it/s]"
     ]
    },
    {
     "name": "stdout",
     "output_type": "stream",
     "text": [
      "2.4839579308223283\n",
      "[ True  True  True]\n"
     ]
    },
    {
     "name": "stderr",
     "output_type": "stream",
     "text": [
      "\r",
      " 26%|██▌       | 7/27 [00:01<00:04,  4.22it/s]"
     ]
    },
    {
     "name": "stdout",
     "output_type": "stream",
     "text": [
      "2.561127374379063\n",
      "[ True  True  True]\n",
      "3.73278576713622\n"
     ]
    },
    {
     "name": "stderr",
     "output_type": "stream",
     "text": [
      "\r",
      " 30%|██▉       | 8/27 [00:01<00:04,  4.34it/s]"
     ]
    },
    {
     "name": "stdout",
     "output_type": "stream",
     "text": [
      "[ True  True  True]\n"
     ]
    },
    {
     "name": "stderr",
     "output_type": "stream",
     "text": [
      " 37%|███▋      | 10/27 [00:02<00:03,  4.45it/s]"
     ]
    },
    {
     "name": "stdout",
     "output_type": "stream",
     "text": [
      "3.026092374352882\n",
      "[ True  True  True]\n",
      "2.9913011547970125\n",
      "[ True  True  True]\n"
     ]
    },
    {
     "name": "stderr",
     "output_type": "stream",
     "text": [
      " 44%|████▍     | 12/27 [00:02<00:03,  4.32it/s]"
     ]
    },
    {
     "name": "stdout",
     "output_type": "stream",
     "text": [
      "1.5115062686593133\n",
      "[ True  True  True]\n",
      "3.3449999999999998\n",
      "[ True  True  True]\n"
     ]
    },
    {
     "name": "stderr",
     "output_type": "stream",
     "text": [
      "\r",
      " 48%|████▊     | 13/27 [00:03<00:03,  4.31it/s]"
     ]
    },
    {
     "name": "stdout",
     "output_type": "stream",
     "text": [
      "2.737310148939904\n",
      "[ True  True  True]\n"
     ]
    },
    {
     "name": "stderr",
     "output_type": "stream",
     "text": [
      " 56%|█████▌    | 15/27 [00:03<00:02,  4.43it/s]"
     ]
    },
    {
     "name": "stdout",
     "output_type": "stream",
     "text": [
      "3.588158626577667\n",
      "[ True  True  True]\n",
      "3.222370510214825\n",
      "[ True  True  True]\n"
     ]
    },
    {
     "name": "stderr",
     "output_type": "stream",
     "text": [
      "\r",
      " 59%|█████▉    | 16/27 [00:03<00:02,  4.53it/s]"
     ]
    },
    {
     "name": "stdout",
     "output_type": "stream",
     "text": [
      "3.2578300000000002\n",
      "[ True  True  True]\n"
     ]
    },
    {
     "name": "stderr",
     "output_type": "stream",
     "text": [
      " 67%|██████▋   | 18/27 [00:03<00:01,  4.65it/s]"
     ]
    },
    {
     "name": "stdout",
     "output_type": "stream",
     "text": [
      "2.5213801683894754\n",
      "[ True  True  True]\n",
      "2.99060000000076\n",
      "[ True  True  True]\n"
     ]
    },
    {
     "name": "stderr",
     "output_type": "stream",
     "text": [
      "\r",
      " 70%|███████   | 19/27 [00:04<00:01,  4.70it/s]"
     ]
    },
    {
     "name": "stdout",
     "output_type": "stream",
     "text": [
      "3.2019970680826146\n",
      "[ True  True  True]\n"
     ]
    },
    {
     "name": "stderr",
     "output_type": "stream",
     "text": [
      "\r",
      " 74%|███████▍  | 20/27 [00:04<00:01,  4.30it/s]"
     ]
    },
    {
     "name": "stdout",
     "output_type": "stream",
     "text": [
      "1.5323942302293536\n",
      "[ True  True  True]\n"
     ]
    },
    {
     "name": "stderr",
     "output_type": "stream",
     "text": [
      " 81%|████████▏ | 22/27 [00:05<00:01,  4.33it/s]"
     ]
    },
    {
     "name": "stdout",
     "output_type": "stream",
     "text": [
      "2.2285996706111826\n",
      "[ True  True  True]\n",
      "2.716954861847056\n",
      "[ True  True  True]\n"
     ]
    },
    {
     "name": "stderr",
     "output_type": "stream",
     "text": [
      "\r",
      " 85%|████████▌ | 23/27 [00:05<00:00,  4.44it/s]"
     ]
    },
    {
     "name": "stdout",
     "output_type": "stream",
     "text": [
      "3.3639980892191517\n",
      "[ True  True  True]\n"
     ]
    },
    {
     "name": "stderr",
     "output_type": "stream",
     "text": [
      "\r",
      " 89%|████████▉ | 24/27 [00:05<00:00,  4.27it/s]"
     ]
    },
    {
     "name": "stdout",
     "output_type": "stream",
     "text": [
      "1.4275910632832258\n",
      "[ True  True  True]\n",
      "2.747530068303571\n"
     ]
    },
    {
     "name": "stderr",
     "output_type": "stream",
     "text": [
      "\r",
      " 93%|█████████▎| 25/27 [00:05<00:00,  4.31it/s]"
     ]
    },
    {
     "name": "stdout",
     "output_type": "stream",
     "text": [
      "[ True  True  True]\n",
      "2.758500045314285\n"
     ]
    },
    {
     "name": "stderr",
     "output_type": "stream",
     "text": [
      "\r",
      " 96%|█████████▋| 26/27 [00:06<00:00,  4.32it/s]"
     ]
    },
    {
     "name": "stdout",
     "output_type": "stream",
     "text": [
      "[ True  True  True]\n"
     ]
    },
    {
     "name": "stderr",
     "output_type": "stream",
     "text": [
      "\r",
      "100%|██████████| 27/27 [00:06<00:00,  4.19it/s]"
     ]
    },
    {
     "name": "stdout",
     "output_type": "stream",
     "text": [
      "1.5421950917173786\n"
     ]
    },
    {
     "name": "stderr",
     "output_type": "stream",
     "text": [
      "\n"
     ]
    },
    {
     "name": "stdout",
     "output_type": "stream",
     "text": [
      "Paralleization to 1 CPUs results in computation time of 9.1417529583\n",
      "[ True  True  True]\n",
      "[ True  True  True]\n",
      "[ True  True  True]\n",
      "[ True  True  True]\n"
     ]
    },
    {
     "name": "stderr",
     "output_type": "stream",
     "text": [
      "\r",
      "  0%|          | 0.00/27.0 [00:00<?, ?it/s]"
     ]
    },
    {
     "name": "stdout",
     "output_type": "stream",
     "text": [
      "[ True  True  True]\n",
      "[ True  True  True]\n",
      "[ True  True  True]\n",
      "[ True  True  True]\n",
      "1.0968244409968257\n",
      "3.73278576713622\n",
      "3.0274581528326383\n"
     ]
    },
    {
     "name": "stderr",
     "output_type": "stream",
     "text": [
      "\r",
      "  4%|▎         | 1.00/27.0 [00:00<00:08, 3.20it/s]"
     ]
    },
    {
     "name": "stdout",
     "output_type": "stream",
     "text": [
      "[ True  True  True]\n",
      "2.373197167949473\n",
      "[ True  True  True]\n",
      "[ True  True  True]\n",
      "2.4839579308223283\n"
     ]
    },
    {
     "name": "stderr",
     "output_type": "stream",
     "text": [
      "\r",
      " 15%|█▍        | 4.00/27.0 [00:00<00:02, 8.11it/s]"
     ]
    },
    {
     "name": "stdout",
     "output_type": "stream",
     "text": [
      "[ True  True  True]\n",
      "2.561127374379063\n",
      "[ True  True  True]\n",
      "3.026092374352882\n"
     ]
    },
    {
     "name": "stderr",
     "output_type": "stream",
     "text": [
      "\r",
      " 22%|██▏       | 6.00/27.0 [00:00<00:02, 9.03it/s]"
     ]
    },
    {
     "name": "stdout",
     "output_type": "stream",
     "text": [
      "[ True  True  True]\n",
      "2.9913011547970125\n",
      "3.3449999999999998\n"
     ]
    },
    {
     "name": "stderr",
     "output_type": "stream",
     "text": [
      "\r",
      " 26%|██▌       | 7.00/27.0 [00:00<00:02, 8.81it/s]"
     ]
    },
    {
     "name": "stdout",
     "output_type": "stream",
     "text": [
      "[ True  True  True]\n",
      "1.2301166000004353\n",
      "[ True  True  True]\n"
     ]
    },
    {
     "name": "stderr",
     "output_type": "stream",
     "text": [
      "\r",
      " 33%|███▎      | 9.00/27.0 [00:00<00:01, 9.66it/s]"
     ]
    },
    {
     "name": "stdout",
     "output_type": "stream",
     "text": [
      "[ True  True  True]\n",
      "[ True  True  True]\n",
      "3.222370510214825\n",
      "1.4229722627107249\n"
     ]
    },
    {
     "name": "stderr",
     "output_type": "stream",
     "text": [
      "\r",
      " 41%|████      | 11.0/27.0 [00:01<00:01, 9.57it/s]"
     ]
    },
    {
     "name": "stdout",
     "output_type": "stream",
     "text": [
      "[ True  True  True]\n",
      "3.2578300000000002\n"
     ]
    },
    {
     "name": "stderr",
     "output_type": "stream",
     "text": [
      "\r",
      " 44%|████▍     | 12.0/27.0 [00:01<00:01, 9.55it/s]"
     ]
    },
    {
     "name": "stdout",
     "output_type": "stream",
     "text": [
      "2.737310148939904\n",
      "[ True  True  True]\n",
      "2.5213801683894754\n",
      "[ True  True  True]\n",
      "3.588158626577667\n",
      "2.99060000000076\n"
     ]
    },
    {
     "name": "stderr",
     "output_type": "stream",
     "text": [
      "\r",
      " 52%|█████▏    | 14.0/27.0 [00:01<00:01, 9.85it/s]"
     ]
    },
    {
     "name": "stdout",
     "output_type": "stream",
     "text": [
      "[ True  True  True]\n",
      "1.5115062686593133\n",
      "[ True  True  True]\n"
     ]
    },
    {
     "name": "stderr",
     "output_type": "stream",
     "text": [
      "\r",
      " 59%|█████▉    | 16.0/27.0 [00:01<00:01, 10.1it/s]"
     ]
    },
    {
     "name": "stdout",
     "output_type": "stream",
     "text": [
      "[ True  True  True]\n",
      "[ True  True  True]\n",
      "3.2019970680826146\n",
      "[ True  True  True]\n",
      "2.716954861847056\n"
     ]
    },
    {
     "name": "stderr",
     "output_type": "stream",
     "text": [
      "\r",
      " 70%|███████   | 19.0/27.0 [00:01<00:00, 10.7it/s]"
     ]
    },
    {
     "name": "stdout",
     "output_type": "stream",
     "text": [
      "3.3639980892191517\n",
      "[ True  True  True]\n"
     ]
    },
    {
     "name": "stderr",
     "output_type": "stream",
     "text": [
      "\r",
      " 78%|███████▊  | 21.0/27.0 [00:01<00:00, 10.8it/s]"
     ]
    },
    {
     "name": "stdout",
     "output_type": "stream",
     "text": [
      "2.747530068303571\n",
      "2.2285996706111826\n"
     ]
    },
    {
     "name": "stderr",
     "output_type": "stream",
     "text": [
      "\r",
      " 85%|████████▌ | 23.0/27.0 [00:02<00:00, 10.8it/s]"
     ]
    },
    {
     "name": "stdout",
     "output_type": "stream",
     "text": [
      "2.758500045314285\n",
      "1.4275910632832258\n"
     ]
    },
    {
     "name": "stderr",
     "output_type": "stream",
     "text": [
      "\r",
      " 93%|█████████▎| 25.0/27.0 [00:02<00:00, 10.3it/s]"
     ]
    },
    {
     "name": "stdout",
     "output_type": "stream",
     "text": [
      "1.5421950917173786\n",
      "1.5323942302293536\n"
     ]
    },
    {
     "name": "stderr",
     "output_type": "stream",
     "text": [
      "100%|██████████| 27.0/27.0 [00:02<00:00, 9.64it/s]\n",
      "27it [00:00, 112014.05it/s]\n"
     ]
    },
    {
     "name": "stdout",
     "output_type": "stream",
     "text": [
      "Paralleization to 8 CPUs results in computation time of 5.5902531147\n",
      "{8: 5.590253114700317, 1: 9.14175295829773}\n"
     ]
    }
   ],
   "source": [
    "# Set logger to lowest level, otherwise get too much messages\n",
    "logger.setLevel(0)\n",
    "\n",
    "for nb_jobs in nb_jobs_list:\n",
    "\n",
    "    start = timer()\n",
    "    desc_file_path = calc_descriptor_in_memory(descriptor=descriptor, configs=configs, ase_atoms_list=prototypes_pristine,\n",
    "                                     tmp_folder=configs['io']['tmp_folder'],\n",
    "                                     desc_folder=configs['io']['desc_folder'],\n",
    "                                     desc_file=desc_file_name,\n",
    "                                     format_geometry='`aims',\n",
    "                                     nb_jobs=nb_jobs,\n",
    "                                     target_list = target_list_pristine)\n",
    "    end = timer()\n",
    "    print('Paralleization to {} CPUs results in computation time of {}'.format(nb_jobs, end - start))\n",
    "    computation_times[nb_jobs] = end - start\n",
    "    \n",
    "print(computation_times)"
   ]
  },
  {
   "cell_type": "code",
   "execution_count": 76,
   "metadata": {},
   "outputs": [
    {
     "data": {
      "text/plain": [
       "<logging.Logger at 0x7fd259289290>"
      ]
     },
     "execution_count": 76,
     "metadata": {},
     "output_type": "execute_result"
    }
   ],
   "source": [
    "TODO: need to tune which datasets to choose\n",
    "    + how much cpus are actually employed."
   ]
  },
  {
   "cell_type": "markdown",
   "metadata": {},
   "source": [
    "## Single crystals - experimental section"
   ]
  },
  {
   "cell_type": "code",
   "execution_count": null,
   "metadata": {},
   "outputs": [],
   "source": []
  },
  {
   "cell_type": "markdown",
   "metadata": {},
   "source": [
    "# Polycyrstal classification"
   ]
  },
  {
   "cell_type": "code",
   "execution_count": null,
   "metadata": {},
   "outputs": [],
   "source": []
  },
  {
   "cell_type": "markdown",
   "metadata": {},
   "source": [
    "# Unsupervised analysis"
   ]
  },
  {
   "cell_type": "markdown",
   "metadata": {},
   "source": [
    "## Reload and inspect data"
   ]
  },
  {
   "cell_type": "markdown",
   "metadata": {},
   "source": [
    "Idea is that one can get a feeling for the most important parameters in HDBSCAN and UMAP, which are n_neighbors and min_cluster_size. Then use a simple slider to go through values"
   ]
  },
  {
   "cell_type": "code",
   "execution_count": 10,
   "metadata": {},
   "outputs": [],
   "source": [
    "n_neighbors_list = [25, 50, 100, 250, 1000] \n",
    "min_cluster_sizes = n_neighbors_list"
   ]
  },
  {
   "cell_type": "code",
   "execution_count": 3,
   "metadata": {},
   "outputs": [],
   "source": [
    "from ipywidgets import interact\n",
    "def f(x):\n",
    "    return x"
   ]
  },
  {
   "cell_type": "code",
   "execution_count": 4,
   "metadata": {},
   "outputs": [
    {
     "data": {
      "application/vnd.jupyter.widget-view+json": {
       "model_id": "530c986a805141b3a941f70569fca725",
       "version_major": 2,
       "version_minor": 0
      },
      "text/html": [
       "<p>Failed to display Jupyter Widget of type <code>interactive</code>.</p>\n",
       "<p>\n",
       "  If you're reading this message in the Jupyter Notebook or JupyterLab Notebook, it may mean\n",
       "  that the widgets JavaScript is still loading. If this message persists, it\n",
       "  likely means that the widgets JavaScript library is either not installed or\n",
       "  not enabled. See the <a href=\"https://ipywidgets.readthedocs.io/en/stable/user_install.html\">Jupyter\n",
       "  Widgets Documentation</a> for setup instructions.\n",
       "</p>\n",
       "<p>\n",
       "  If you're reading this message in another frontend (for example, a static\n",
       "  rendering on GitHub or <a href=\"https://nbviewer.jupyter.org/\">NBViewer</a>),\n",
       "  it may mean that your frontend doesn't currently support widgets.\n",
       "</p>\n"
      ],
      "text/plain": [
       "interactive(children=(IntSlider(value=10, description=u'x', max=30, min=-10), Output()), _dom_classes=('widget-interact',))"
      ]
     },
     "metadata": {},
     "output_type": "display_data"
    },
    {
     "data": {
      "text/plain": [
       "<function __main__.f>"
      ]
     },
     "execution_count": 4,
     "metadata": {},
     "output_type": "execute_result"
    }
   ],
   "source": [
    "interact(f, x=10)"
   ]
  },
  {
   "cell_type": "code",
   "execution_count": 14,
   "metadata": {},
   "outputs": [
    {
     "data": {
      "application/vnd.jupyter.widget-view+json": {
       "model_id": "e683f835dacf40728831f8b6f29e4f30",
       "version_major": 2,
       "version_minor": 0
      },
      "text/html": [
       "<p>Failed to display Jupyter Widget of type <code>interactive</code>.</p>\n",
       "<p>\n",
       "  If you're reading this message in the Jupyter Notebook or JupyterLab Notebook, it may mean\n",
       "  that the widgets JavaScript is still loading. If this message persists, it\n",
       "  likely means that the widgets JavaScript library is either not installed or\n",
       "  not enabled. See the <a href=\"https://ipywidgets.readthedocs.io/en/stable/user_install.html\">Jupyter\n",
       "  Widgets Documentation</a> for setup instructions.\n",
       "</p>\n",
       "<p>\n",
       "  If you're reading this message in another frontend (for example, a static\n",
       "  rendering on GitHub or <a href=\"https://nbviewer.jupyter.org/\">NBViewer</a>),\n",
       "  it may mean that your frontend doesn't currently support widgets.\n",
       "</p>\n"
      ],
      "text/plain": [
       "interactive(children=(Dropdown(description=u'min_cluster_size', options=(25, 50, 100, 250, 1000), value=25), Dropdown(description=u'n_neighbors', options=(25, 50, 100, 250, 1000), value=25), Output(layout=Layout(height=u'350px'))), _dom_classes=('widget-interact',))"
      ]
     },
     "metadata": {},
     "output_type": "display_data"
    }
   ],
   "source": [
    "# other good resource: https://towardsdatascience.com/interactive-controls-for-jupyter-notebooks-f5c94829aee6\n",
    "\n",
    "%matplotlib inline\n",
    "from ipywidgets import interactive\n",
    "import matplotlib.pyplot as plt\n",
    "import numpy as np\n",
    "import seaborn as sns\n",
    "import pandas as pd\n",
    "\n",
    "n_neighbors_list = [25, 50, 100, 250, 1000] \n",
    "min_cluster_sizes = n_neighbors_list\n",
    "\n",
    "analysis_folder_path = './unsupervised_learning/polycrystal_data'\n",
    "file_name = 'four_grains_elemental_solid.xyz_stride_1.0_1.0_16.0_box_size_16.0_.tar.gz_'\n",
    "layer_name = 'dense_1'\n",
    "s = 32\n",
    "edgecolors = 'face'\n",
    "\n",
    "df_dict = {}\n",
    "\n",
    "for min_cluster_size in min_cluster_sizes:\n",
    "    for n_neighbors in n_neighbors_list:\n",
    "\n",
    "        quantities_to_plot = {#'cluster_probs': [],\n",
    "                              #'outlier_scores': [],\n",
    "                              'cluster_labels': [], 'embedding' : []\n",
    "                              #'argmax_clustering': [], \n",
    "                            }\n",
    "        for q_to_plot in quantities_to_plot:\n",
    "            q = quantities_to_plot[q_to_plot]\n",
    "            q_filename =  os.path.join(analysis_folder_path,\n",
    "                                          file_name \n",
    "                                          + '_' \n",
    "                                          + layer_name \n",
    "                                          + '_mincsize_'\n",
    "                                          + str(min_cluster_size) \n",
    "                                          + '_nneighbors_'\n",
    "                                          + str(n_neighbors)\n",
    "                                          + '_' + q_to_plot + '.npy')\n",
    "            quantities_to_plot[q_to_plot] = np.load(q_filename)\n",
    "        embedding = quantities_to_plot['embedding']\n",
    "        #print(embedding.shape)\n",
    "        #print(quantities_to_plot['cluster_labels'].shape)\n",
    "        df = pd.DataFrame({'Dim_1': embedding[:, 0], 'Dim_2': embedding[:, 1], 'target':quantities_to_plot['cluster_labels']})\n",
    "        df_dict[(min_cluster_size, n_neighbors)] = df\n",
    "def f(min_cluster_size, n_neighbors):\n",
    "    df = df_dict[(min_cluster_size, n_neighbors)]\n",
    "    \n",
    "    fig, ax = plt.subplots(figsize=(10,10))\n",
    "    ax_ = sns.scatterplot(ax=ax, x='Dim_1', y='Dim_2', data=df, s=s, hue='target', edgecolor=edgecolors)\n",
    "    plt.legend()\n",
    "    plt.show()\n",
    "    \n",
    "    \n",
    "\n",
    "interactive_plot = interactive(f, min_cluster_size=min_cluster_sizes,\n",
    "                               n_neighbors=n_neighbors_list)\n",
    "output = interactive_plot.children[-1]\n",
    "output.layout.height = '350px'\n",
    "interactive_plot\n",
    "\n"
   ]
  },
  {
   "cell_type": "markdown",
   "metadata": {},
   "source": [
    "## Visualizing and intepreting dimensionality reduced plots (here: UMAP)"
   ]
  },
  {
   "cell_type": "code",
   "execution_count": null,
   "metadata": {},
   "outputs": [],
   "source": [
    "# good resource seemingly: https://observablehq.com/@grantcuster/using-three-js-for-2d-data-visualization\n",
    "# https://grantcuster.github.io/umap-explorer/#about\n",
    "# https://umap-learn.readthedocs.io/en/latest/interactive_viz.html"
   ]
  },
  {
   "cell_type": "code",
   "execution_count": null,
   "metadata": {},
   "outputs": [],
   "source": []
  },
  {
   "cell_type": "code",
   "execution_count": null,
   "metadata": {},
   "outputs": [],
   "source": []
  },
  {
   "cell_type": "markdown",
   "metadata": {},
   "source": [
    "# Creating and training your own model"
   ]
  },
  {
   "cell_type": "code",
   "execution_count": null,
   "metadata": {},
   "outputs": [],
   "source": []
  },
  {
   "cell_type": "code",
   "execution_count": null,
   "metadata": {},
   "outputs": [],
   "source": []
  },
  {
   "cell_type": "markdown",
   "metadata": {},
   "source": [
    "# Conclusion"
   ]
  },
  {
   "cell_type": "markdown",
   "metadata": {},
   "source": [
    "You have reached the end of this tutorial. \n",
    "\n",
    "*Please let us know if you have any questions, wishes, or suggestions for improvement. Feel free to reach us by mail (leitherer@fhi-berlin.mpg.de, andreas.leitherer@gmail.com).*"
   ]
  },
  {
   "cell_type": "markdown",
   "metadata": {},
   "source": [
    "# References"
   ]
  },
  {
   "cell_type": "markdown",
   "metadata": {},
   "source": [
    "[1] ARISE: A. Leitherer, A. Ziletti, M. Scheffler, and L. M. Ghiringhelli, arxiV:??, (2021)\n",
    "\n",
    "[2] ai4materials: A. Leitherer, A.Ziletti, and L. M. Ghiringhelli, https://joss.theoj.org/papers ?\n",
    "\n",
    "[3] A. P. Bartok et al. Physical Review Letters 104 136403 (2010)\n",
    "\n",
    "[4] A. P. Bartok et al. Physical Review B 87 184115 (2013)\n",
    "\n",
    "[5] The quippy software is available for non-commercial use from www.libatoms.org (or https://github.com/libAtoms/QUIP)\n"
   ]
  },
  {
   "cell_type": "code",
   "execution_count": null,
   "metadata": {},
   "outputs": [],
   "source": []
  }
 ],
 "metadata": {
  "kernelspec": {
   "display_name": "Python 2",
   "language": "python",
   "name": "python2"
  },
  "language_info": {
   "codemirror_mode": {
    "name": "ipython",
    "version": 2
   },
   "file_extension": ".py",
   "mimetype": "text/x-python",
   "name": "python",
   "nbconvert_exporter": "python",
   "pygments_lexer": "ipython2",
   "version": "2.7.12"
  }
 },
 "nbformat": 4,
 "nbformat_minor": 2
}
