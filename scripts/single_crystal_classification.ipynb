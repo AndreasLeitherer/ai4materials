{
 "cells": [
  {
   "cell_type": "markdown",
   "metadata": {},
   "source": [
    "# Spacegroup determination: comparing spglib vs neural network based on the diffraction intensity in spherical harmonics (DISH) descriptor\n",
    "\n",
    "Author: Angelo Ziletti (angelo.ziletti@gmail.com; ziletti@fhi-berlin.mpg.de)"
   ]
  },
  {
   "cell_type": "code",
   "execution_count": 40,
   "metadata": {},
   "outputs": [],
   "source": [
    "from ai4materials.dataprocessing.preprocessing import load_dataset_from_file\n",
    "from ai4materials.wrappers import load_descriptor\n",
    "from ai4materials.utils.utils_config import set_configs\n",
    "from ai4materials.utils.utils_config import setup_logger\n",
    "from ai4materials.dataprocessing.preprocessing import load_dataset_from_file\n",
    "from ai4materials.dataprocessing.preprocessing import prepare_dataset\n",
    "from ase.spacegroup import get_spacegroup as ase_get_spacegroup\n",
    "from collections import Counter\n",
    "import itertools\n",
    "import matplotlib.pyplot as plt\n",
    "import numpy as np\n",
    "import os\n",
    "from sklearn.metrics import accuracy_score\n",
    "from sklearn.metrics import confusion_matrix\n",
    "%matplotlib inline  \n",
    "\n",
    "main_folder = '/home/ziletti/Documents/calc_nomadml/rot_inv_3d/'\n",
    "dataset_folder = os.path.abspath(os.path.normpath(os.path.join(main_folder, 'datasets')))\n",
    "desc_folder = os.path.abspath(os.path.normpath(os.path.join(main_folder, 'desc_folder')))\n",
    "\n",
    "configs = set_configs(main_folder=main_folder)\n",
    "logger = setup_logger(configs, level='INFO', display_configs=False)\n",
    "configs['io']['dataset_folder'] = dataset_folder\n",
    "configs['io']['desc_folder'] = desc_folder"
   ]
  },
  {
   "cell_type": "markdown",
   "metadata": {},
   "source": [
    "## Pristine"
   ]
  },
  {
   "cell_type": "code",
   "execution_count": 41,
   "metadata": {
    "code_folding": []
   },
   "outputs": [
    {
     "name": "stderr",
     "output_type": "stream",
     "text": [
      "INFO: Extracting file 1/5: /home/ziletti/Documents/calc_nomadml/rot_inv_3d/desc_folder/hcp/pristine/A_hP2_194_c_target_nb_atoms128_rotid0_pristine.tar.gz\n",
      "INFO: Extracting file 1/5: /home/ziletti/Documents/calc_nomadml/rot_inv_3d/desc_folder/hcp/pristine/A_hP2_194_c_target_nb_atoms128_rotid0_pristine.tar.gz\n",
      "INFO: Extracting file 1/5: /home/ziletti/Documents/calc_nomadml/rot_inv_3d/desc_folder/hcp/pristine/A_hP2_194_c_target_nb_atoms128_rotid0_pristine.tar.gz\n",
      "INFO: Extracting file 2/5: /home/ziletti/Documents/calc_nomadml/rot_inv_3d/desc_folder/hcp/pristine/A_hP2_194_c_target_nb_atoms128_rotid1_pristine.tar.gz\n",
      "INFO: Extracting file 2/5: /home/ziletti/Documents/calc_nomadml/rot_inv_3d/desc_folder/hcp/pristine/A_hP2_194_c_target_nb_atoms128_rotid1_pristine.tar.gz\n",
      "INFO: Extracting file 2/5: /home/ziletti/Documents/calc_nomadml/rot_inv_3d/desc_folder/hcp/pristine/A_hP2_194_c_target_nb_atoms128_rotid1_pristine.tar.gz\n",
      "INFO: Extracting file 3/5: /home/ziletti/Documents/calc_nomadml/rot_inv_3d/desc_folder/hcp/pristine/A_hP2_194_c_target_nb_atoms128_rotid2_pristine.tar.gz\n",
      "INFO: Extracting file 3/5: /home/ziletti/Documents/calc_nomadml/rot_inv_3d/desc_folder/hcp/pristine/A_hP2_194_c_target_nb_atoms128_rotid2_pristine.tar.gz\n",
      "INFO: Extracting file 3/5: /home/ziletti/Documents/calc_nomadml/rot_inv_3d/desc_folder/hcp/pristine/A_hP2_194_c_target_nb_atoms128_rotid2_pristine.tar.gz\n",
      "INFO: Extracting file 4/5: /home/ziletti/Documents/calc_nomadml/rot_inv_3d/desc_folder/hcp/pristine/A_hP2_194_c_target_nb_atoms128_rotid3_pristine.tar.gz\n",
      "INFO: Extracting file 4/5: /home/ziletti/Documents/calc_nomadml/rot_inv_3d/desc_folder/hcp/pristine/A_hP2_194_c_target_nb_atoms128_rotid3_pristine.tar.gz\n",
      "INFO: Extracting file 4/5: /home/ziletti/Documents/calc_nomadml/rot_inv_3d/desc_folder/hcp/pristine/A_hP2_194_c_target_nb_atoms128_rotid3_pristine.tar.gz\n",
      "INFO: Extracting file 5/5: /home/ziletti/Documents/calc_nomadml/rot_inv_3d/desc_folder/hcp/pristine/A_hP2_194_c_target_nb_atoms128_rotid4_pristine.tar.gz\n",
      "INFO: Extracting file 5/5: /home/ziletti/Documents/calc_nomadml/rot_inv_3d/desc_folder/hcp/pristine/A_hP2_194_c_target_nb_atoms128_rotid4_pristine.tar.gz\n",
      "INFO: Extracting file 5/5: /home/ziletti/Documents/calc_nomadml/rot_inv_3d/desc_folder/hcp/pristine/A_hP2_194_c_target_nb_atoms128_rotid4_pristine.tar.gz\n",
      "INFO: Extracting file 1/5: /home/ziletti/Documents/calc_nomadml/rot_inv_3d/desc_folder/sc/pristine/A_cP1_221_a_target_nb_atoms128_rotid0_pristine.tar.gz\n",
      "INFO: Extracting file 1/5: /home/ziletti/Documents/calc_nomadml/rot_inv_3d/desc_folder/sc/pristine/A_cP1_221_a_target_nb_atoms128_rotid0_pristine.tar.gz\n",
      "INFO: Extracting file 1/5: /home/ziletti/Documents/calc_nomadml/rot_inv_3d/desc_folder/sc/pristine/A_cP1_221_a_target_nb_atoms128_rotid0_pristine.tar.gz\n",
      "INFO: Extracting file 2/5: /home/ziletti/Documents/calc_nomadml/rot_inv_3d/desc_folder/sc/pristine/A_cP1_221_a_target_nb_atoms128_rotid1_pristine.tar.gz\n",
      "INFO: Extracting file 2/5: /home/ziletti/Documents/calc_nomadml/rot_inv_3d/desc_folder/sc/pristine/A_cP1_221_a_target_nb_atoms128_rotid1_pristine.tar.gz\n",
      "INFO: Extracting file 2/5: /home/ziletti/Documents/calc_nomadml/rot_inv_3d/desc_folder/sc/pristine/A_cP1_221_a_target_nb_atoms128_rotid1_pristine.tar.gz\n",
      "INFO: Extracting file 3/5: /home/ziletti/Documents/calc_nomadml/rot_inv_3d/desc_folder/sc/pristine/A_cP1_221_a_target_nb_atoms128_rotid2_pristine.tar.gz\n",
      "INFO: Extracting file 3/5: /home/ziletti/Documents/calc_nomadml/rot_inv_3d/desc_folder/sc/pristine/A_cP1_221_a_target_nb_atoms128_rotid2_pristine.tar.gz\n",
      "INFO: Extracting file 3/5: /home/ziletti/Documents/calc_nomadml/rot_inv_3d/desc_folder/sc/pristine/A_cP1_221_a_target_nb_atoms128_rotid2_pristine.tar.gz\n",
      "INFO: Extracting file 4/5: /home/ziletti/Documents/calc_nomadml/rot_inv_3d/desc_folder/sc/pristine/A_cP1_221_a_target_nb_atoms128_rotid3_pristine.tar.gz\n",
      "INFO: Extracting file 4/5: /home/ziletti/Documents/calc_nomadml/rot_inv_3d/desc_folder/sc/pristine/A_cP1_221_a_target_nb_atoms128_rotid3_pristine.tar.gz\n",
      "INFO: Extracting file 4/5: /home/ziletti/Documents/calc_nomadml/rot_inv_3d/desc_folder/sc/pristine/A_cP1_221_a_target_nb_atoms128_rotid3_pristine.tar.gz\n",
      "INFO: Extracting file 5/5: /home/ziletti/Documents/calc_nomadml/rot_inv_3d/desc_folder/sc/pristine/A_cP1_221_a_target_nb_atoms128_rotid4_pristine.tar.gz\n",
      "INFO: Extracting file 5/5: /home/ziletti/Documents/calc_nomadml/rot_inv_3d/desc_folder/sc/pristine/A_cP1_221_a_target_nb_atoms128_rotid4_pristine.tar.gz\n",
      "INFO: Extracting file 5/5: /home/ziletti/Documents/calc_nomadml/rot_inv_3d/desc_folder/sc/pristine/A_cP1_221_a_target_nb_atoms128_rotid4_pristine.tar.gz\n",
      "INFO: Extracting file 1/5: /home/ziletti/Documents/calc_nomadml/rot_inv_3d/desc_folder/fcc/pristine/A_cF4_225_a_target_nb_atoms128_rotid0_pristine.tar.gz\n",
      "INFO: Extracting file 1/5: /home/ziletti/Documents/calc_nomadml/rot_inv_3d/desc_folder/fcc/pristine/A_cF4_225_a_target_nb_atoms128_rotid0_pristine.tar.gz\n",
      "INFO: Extracting file 1/5: /home/ziletti/Documents/calc_nomadml/rot_inv_3d/desc_folder/fcc/pristine/A_cF4_225_a_target_nb_atoms128_rotid0_pristine.tar.gz\n",
      "INFO: Extracting file 2/5: /home/ziletti/Documents/calc_nomadml/rot_inv_3d/desc_folder/fcc/pristine/A_cF4_225_a_target_nb_atoms128_rotid1_pristine.tar.gz\n",
      "INFO: Extracting file 2/5: /home/ziletti/Documents/calc_nomadml/rot_inv_3d/desc_folder/fcc/pristine/A_cF4_225_a_target_nb_atoms128_rotid1_pristine.tar.gz\n",
      "INFO: Extracting file 2/5: /home/ziletti/Documents/calc_nomadml/rot_inv_3d/desc_folder/fcc/pristine/A_cF4_225_a_target_nb_atoms128_rotid1_pristine.tar.gz\n",
      "INFO: Extracting file 3/5: /home/ziletti/Documents/calc_nomadml/rot_inv_3d/desc_folder/fcc/pristine/A_cF4_225_a_target_nb_atoms128_rotid2_pristine.tar.gz\n",
      "INFO: Extracting file 3/5: /home/ziletti/Documents/calc_nomadml/rot_inv_3d/desc_folder/fcc/pristine/A_cF4_225_a_target_nb_atoms128_rotid2_pristine.tar.gz\n",
      "INFO: Extracting file 3/5: /home/ziletti/Documents/calc_nomadml/rot_inv_3d/desc_folder/fcc/pristine/A_cF4_225_a_target_nb_atoms128_rotid2_pristine.tar.gz\n",
      "INFO: Extracting file 4/5: /home/ziletti/Documents/calc_nomadml/rot_inv_3d/desc_folder/fcc/pristine/A_cF4_225_a_target_nb_atoms128_rotid3_pristine.tar.gz\n",
      "INFO: Extracting file 4/5: /home/ziletti/Documents/calc_nomadml/rot_inv_3d/desc_folder/fcc/pristine/A_cF4_225_a_target_nb_atoms128_rotid3_pristine.tar.gz\n",
      "INFO: Extracting file 4/5: /home/ziletti/Documents/calc_nomadml/rot_inv_3d/desc_folder/fcc/pristine/A_cF4_225_a_target_nb_atoms128_rotid3_pristine.tar.gz\n",
      "INFO: Extracting file 5/5: /home/ziletti/Documents/calc_nomadml/rot_inv_3d/desc_folder/fcc/pristine/A_cF4_225_a_target_nb_atoms128_rotid4_pristine.tar.gz\n",
      "INFO: Extracting file 5/5: /home/ziletti/Documents/calc_nomadml/rot_inv_3d/desc_folder/fcc/pristine/A_cF4_225_a_target_nb_atoms128_rotid4_pristine.tar.gz\n",
      "INFO: Extracting file 5/5: /home/ziletti/Documents/calc_nomadml/rot_inv_3d/desc_folder/fcc/pristine/A_cF4_225_a_target_nb_atoms128_rotid4_pristine.tar.gz\n",
      "INFO: Extracting file 1/5: /home/ziletti/Documents/calc_nomadml/rot_inv_3d/desc_folder/diam/pristine/A_cF8_227_a_target_nb_atoms128_rotid0_pristine.tar.gz\n",
      "INFO: Extracting file 1/5: /home/ziletti/Documents/calc_nomadml/rot_inv_3d/desc_folder/diam/pristine/A_cF8_227_a_target_nb_atoms128_rotid0_pristine.tar.gz\n",
      "INFO: Extracting file 1/5: /home/ziletti/Documents/calc_nomadml/rot_inv_3d/desc_folder/diam/pristine/A_cF8_227_a_target_nb_atoms128_rotid0_pristine.tar.gz\n",
      "INFO: Extracting file 2/5: /home/ziletti/Documents/calc_nomadml/rot_inv_3d/desc_folder/diam/pristine/A_cF8_227_a_target_nb_atoms128_rotid1_pristine.tar.gz\n",
      "INFO: Extracting file 2/5: /home/ziletti/Documents/calc_nomadml/rot_inv_3d/desc_folder/diam/pristine/A_cF8_227_a_target_nb_atoms128_rotid1_pristine.tar.gz\n",
      "INFO: Extracting file 2/5: /home/ziletti/Documents/calc_nomadml/rot_inv_3d/desc_folder/diam/pristine/A_cF8_227_a_target_nb_atoms128_rotid1_pristine.tar.gz\n",
      "INFO: Extracting file 3/5: /home/ziletti/Documents/calc_nomadml/rot_inv_3d/desc_folder/diam/pristine/A_cF8_227_a_target_nb_atoms128_rotid2_pristine.tar.gz\n",
      "INFO: Extracting file 3/5: /home/ziletti/Documents/calc_nomadml/rot_inv_3d/desc_folder/diam/pristine/A_cF8_227_a_target_nb_atoms128_rotid2_pristine.tar.gz\n",
      "INFO: Extracting file 3/5: /home/ziletti/Documents/calc_nomadml/rot_inv_3d/desc_folder/diam/pristine/A_cF8_227_a_target_nb_atoms128_rotid2_pristine.tar.gz\n"
     ]
    },
    {
     "name": "stderr",
     "output_type": "stream",
     "text": [
      "INFO: Extracting file 4/5: /home/ziletti/Documents/calc_nomadml/rot_inv_3d/desc_folder/diam/pristine/A_cF8_227_a_target_nb_atoms128_rotid3_pristine.tar.gz\n",
      "INFO: Extracting file 4/5: /home/ziletti/Documents/calc_nomadml/rot_inv_3d/desc_folder/diam/pristine/A_cF8_227_a_target_nb_atoms128_rotid3_pristine.tar.gz\n",
      "INFO: Extracting file 4/5: /home/ziletti/Documents/calc_nomadml/rot_inv_3d/desc_folder/diam/pristine/A_cF8_227_a_target_nb_atoms128_rotid3_pristine.tar.gz\n",
      "INFO: Extracting file 5/5: /home/ziletti/Documents/calc_nomadml/rot_inv_3d/desc_folder/diam/pristine/A_cF8_227_a_target_nb_atoms128_rotid4_pristine.tar.gz\n",
      "INFO: Extracting file 5/5: /home/ziletti/Documents/calc_nomadml/rot_inv_3d/desc_folder/diam/pristine/A_cF8_227_a_target_nb_atoms128_rotid4_pristine.tar.gz\n",
      "INFO: Extracting file 5/5: /home/ziletti/Documents/calc_nomadml/rot_inv_3d/desc_folder/diam/pristine/A_cF8_227_a_target_nb_atoms128_rotid4_pristine.tar.gz\n",
      "INFO: Extracting file 1/5: /home/ziletti/Documents/calc_nomadml/rot_inv_3d/desc_folder/bcc/pristine/A_cI2_229_a_target_nb_atoms128_rotid0_pristine.tar.gz\n",
      "INFO: Extracting file 1/5: /home/ziletti/Documents/calc_nomadml/rot_inv_3d/desc_folder/bcc/pristine/A_cI2_229_a_target_nb_atoms128_rotid0_pristine.tar.gz\n",
      "INFO: Extracting file 1/5: /home/ziletti/Documents/calc_nomadml/rot_inv_3d/desc_folder/bcc/pristine/A_cI2_229_a_target_nb_atoms128_rotid0_pristine.tar.gz\n",
      "INFO: Extracting file 2/5: /home/ziletti/Documents/calc_nomadml/rot_inv_3d/desc_folder/bcc/pristine/A_cI2_229_a_target_nb_atoms128_rotid1_pristine.tar.gz\n",
      "INFO: Extracting file 2/5: /home/ziletti/Documents/calc_nomadml/rot_inv_3d/desc_folder/bcc/pristine/A_cI2_229_a_target_nb_atoms128_rotid1_pristine.tar.gz\n",
      "INFO: Extracting file 2/5: /home/ziletti/Documents/calc_nomadml/rot_inv_3d/desc_folder/bcc/pristine/A_cI2_229_a_target_nb_atoms128_rotid1_pristine.tar.gz\n",
      "INFO: Extracting file 3/5: /home/ziletti/Documents/calc_nomadml/rot_inv_3d/desc_folder/bcc/pristine/A_cI2_229_a_target_nb_atoms128_rotid2_pristine.tar.gz\n",
      "INFO: Extracting file 3/5: /home/ziletti/Documents/calc_nomadml/rot_inv_3d/desc_folder/bcc/pristine/A_cI2_229_a_target_nb_atoms128_rotid2_pristine.tar.gz\n",
      "INFO: Extracting file 3/5: /home/ziletti/Documents/calc_nomadml/rot_inv_3d/desc_folder/bcc/pristine/A_cI2_229_a_target_nb_atoms128_rotid2_pristine.tar.gz\n",
      "INFO: Extracting file 4/5: /home/ziletti/Documents/calc_nomadml/rot_inv_3d/desc_folder/bcc/pristine/A_cI2_229_a_target_nb_atoms128_rotid3_pristine.tar.gz\n",
      "INFO: Extracting file 4/5: /home/ziletti/Documents/calc_nomadml/rot_inv_3d/desc_folder/bcc/pristine/A_cI2_229_a_target_nb_atoms128_rotid3_pristine.tar.gz\n",
      "INFO: Extracting file 4/5: /home/ziletti/Documents/calc_nomadml/rot_inv_3d/desc_folder/bcc/pristine/A_cI2_229_a_target_nb_atoms128_rotid3_pristine.tar.gz\n",
      "INFO: Extracting file 5/5: /home/ziletti/Documents/calc_nomadml/rot_inv_3d/desc_folder/bcc/pristine/A_cI2_229_a_target_nb_atoms128_rotid4_pristine.tar.gz\n",
      "INFO: Extracting file 5/5: /home/ziletti/Documents/calc_nomadml/rot_inv_3d/desc_folder/bcc/pristine/A_cI2_229_a_target_nb_atoms128_rotid4_pristine.tar.gz\n",
      "INFO: Extracting file 5/5: /home/ziletti/Documents/calc_nomadml/rot_inv_3d/desc_folder/bcc/pristine/A_cI2_229_a_target_nb_atoms128_rotid4_pristine.tar.gz\n"
     ]
    }
   ],
   "source": [
    "# hcp - spacegroup 194\n",
    "filenames_pristine_hcp = ['hcp/pristine/A_hP2_194_c_target_nb_atoms128_rotid0_pristine.tar.gz',\n",
    "                        'hcp/pristine/A_hP2_194_c_target_nb_atoms128_rotid1_pristine.tar.gz',\n",
    "                        'hcp/pristine/A_hP2_194_c_target_nb_atoms128_rotid2_pristine.tar.gz',\n",
    "                        'hcp/pristine/A_hP2_194_c_target_nb_atoms128_rotid3_pristine.tar.gz',\n",
    "                        'hcp/pristine/A_hP2_194_c_target_nb_atoms128_rotid4_pristine.tar.gz']\n",
    "# sc - spacegroup 221\n",
    "filenames_pristine_sc = ['sc/pristine/A_cP1_221_a_target_nb_atoms128_rotid0_pristine.tar.gz',\n",
    "                       'sc/pristine/A_cP1_221_a_target_nb_atoms128_rotid1_pristine.tar.gz',\n",
    "                       'sc/pristine/A_cP1_221_a_target_nb_atoms128_rotid2_pristine.tar.gz',\n",
    "                       'sc/pristine/A_cP1_221_a_target_nb_atoms128_rotid3_pristine.tar.gz',\n",
    "                       'sc/pristine/A_cP1_221_a_target_nb_atoms128_rotid4_pristine.tar.gz']\n",
    "\n",
    "# fcc - spacegroup 225\n",
    "filenames_pristine_fcc = ['fcc/pristine/A_cF4_225_a_target_nb_atoms128_rotid0_pristine.tar.gz',\n",
    "                         'fcc/pristine/A_cF4_225_a_target_nb_atoms128_rotid1_pristine.tar.gz',\n",
    "                         'fcc/pristine/A_cF4_225_a_target_nb_atoms128_rotid2_pristine.tar.gz',\n",
    "                         'fcc/pristine/A_cF4_225_a_target_nb_atoms128_rotid3_pristine.tar.gz',\n",
    "                         'fcc/pristine/A_cF4_225_a_target_nb_atoms128_rotid4_pristine.tar.gz']\n",
    "\n",
    "# diam - spacegroup 227\n",
    "filenames_pristine_diam = ['diam/pristine/A_cF8_227_a_target_nb_atoms128_rotid0_pristine.tar.gz',\n",
    "                          'diam/pristine/A_cF8_227_a_target_nb_atoms128_rotid1_pristine.tar.gz',\n",
    "                          'diam/pristine/A_cF8_227_a_target_nb_atoms128_rotid2_pristine.tar.gz',\n",
    "                          'diam/pristine/A_cF8_227_a_target_nb_atoms128_rotid3_pristine.tar.gz',\n",
    "                          'diam/pristine/A_cF8_227_a_target_nb_atoms128_rotid4_pristine.tar.gz']\n",
    "# bcc - spacegroup 229\n",
    "filenames_pristine_bcc = ['bcc/pristine/A_cI2_229_a_target_nb_atoms128_rotid0_pristine.tar.gz',\n",
    "                         'bcc/pristine/A_cI2_229_a_target_nb_atoms128_rotid1_pristine.tar.gz',\n",
    "                         'bcc/pristine/A_cI2_229_a_target_nb_atoms128_rotid2_pristine.tar.gz',\n",
    "                         'bcc/pristine/A_cI2_229_a_target_nb_atoms128_rotid3_pristine.tar.gz',\n",
    "                         'bcc/pristine/A_cI2_229_a_target_nb_atoms128_rotid4_pristine.tar.gz']\n",
    "                         \n",
    "                         \n",
    "desc_files_pristine_hcp = [os.path.join(configs['io']['desc_folder'], item) for item in filenames_pristine_hcp]\n",
    "desc_files_pristine_sc = [os.path.join(configs['io']['desc_folder'], item) for item in filenames_pristine_sc]\n",
    "desc_files_pristine_fcc = [os.path.join(configs['io']['desc_folder'], item) for item in filenames_pristine_fcc]\n",
    "desc_files_pristine_diam = [os.path.join(configs['io']['desc_folder'], item) for item in filenames_pristine_diam]\n",
    "desc_files_pristine_bcc = [os.path.join(configs['io']['desc_folder'], item) for item in filenames_pristine_bcc]\n",
    "\n",
    "y_true = []\n",
    "target_list_hcp_pristine, structure_list_hcp_pristine = load_descriptor(desc_files=desc_files_pristine_hcp, configs=configs)\n",
    "y_true = y_true + [194]*len(structure_list_hcp_pristine)\n",
    "\n",
    "target_list_sc_pristine, structure_list_sc_pristine = load_descriptor(desc_files=desc_files_pristine_sc, configs=configs)\n",
    "y_true = y_true + [221]*len(structure_list_sc_pristine)\n",
    "\n",
    "target_list_fcc_pristine, structure_list_fcc_pristine = load_descriptor(desc_files=desc_files_pristine_fcc, configs=configs)\n",
    "y_true = y_true + [225]*len(structure_list_fcc_pristine)\n",
    "\n",
    "target_list_diam_pristine, structure_list_diam_pristine = load_descriptor(desc_files=desc_files_pristine_diam, configs=configs)\n",
    "y_true = y_true + [227]*len(structure_list_diam_pristine)\n",
    "\n",
    "target_list_bcc_pristine, structure_list_bcc_pristine = load_descriptor(desc_files=desc_files_pristine_bcc, configs=configs)\n",
    "y_true = y_true + [229]*len(structure_list_bcc_pristine)"
   ]
  },
  {
   "cell_type": "code",
   "execution_count": 42,
   "metadata": {
    "collapsed": true
   },
   "outputs": [],
   "source": [
    "structure_list_pristine = structure_list_hcp_pristine + structure_list_sc_pristine + structure_list_fcc_pristine + structure_list_diam_pristine + structure_list_bcc_pristine\n",
    "target_list_pristine = target_list_hcp_pristine + target_list_sc_pristine + target_list_fcc_pristine + target_list_diam_pristine + target_list_bcc_pristine\n",
    "\n",
    "for idx, item in enumerate(target_list_pristine):\n",
    "    item['data'][0]['target'] = y_true[idx]\n",
    "    \n",
    "for idx, structure in enumerate(structure_list_pristine):\n",
    "    structure.info['target'] = y_true[idx]\n",
    "    \n",
    "#y_pred_disp04 = []\n",
    "#for structure in structure_list_04:\n",
    "#    y_pred_disp04.append(ase_get_spacegroup(structure, symprec=1e-1).no)"
   ]
  },
  {
   "cell_type": "code",
   "execution_count": 43,
   "metadata": {},
   "outputs": [
    {
     "name": "stderr",
     "output_type": "stream",
     "text": [
      "INFO: Writing x to /home/ziletti/Documents/calc_nomadml/rot_inv_3d/datasets/hcp-sc-fcc-diam-bcc_pristine_x.pkl\n",
      "INFO: Writing x to /home/ziletti/Documents/calc_nomadml/rot_inv_3d/datasets/hcp-sc-fcc-diam-bcc_pristine_x.pkl\n",
      "INFO: Writing x to /home/ziletti/Documents/calc_nomadml/rot_inv_3d/datasets/hcp-sc-fcc-diam-bcc_pristine_x.pkl\n",
      "INFO: Writing y to /home/ziletti/Documents/calc_nomadml/rot_inv_3d/datasets/hcp-sc-fcc-diam-bcc_pristine_y.pkl\n",
      "INFO: Writing y to /home/ziletti/Documents/calc_nomadml/rot_inv_3d/datasets/hcp-sc-fcc-diam-bcc_pristine_y.pkl\n",
      "INFO: Writing y to /home/ziletti/Documents/calc_nomadml/rot_inv_3d/datasets/hcp-sc-fcc-diam-bcc_pristine_y.pkl\n",
      "INFO: Summary file written in /home/ziletti/Documents/calc_nomadml/rot_inv_3d/datasets/hcp-sc-fcc-diam-bcc_pristine_summary.json.\n",
      "INFO: Summary file written in /home/ziletti/Documents/calc_nomadml/rot_inv_3d/datasets/hcp-sc-fcc-diam-bcc_pristine_summary.json.\n",
      "INFO: Summary file written in /home/ziletti/Documents/calc_nomadml/rot_inv_3d/datasets/hcp-sc-fcc-diam-bcc_pristine_summary.json.\n"
     ]
    },
    {
     "data": {
      "text/plain": [
       "Counter({0: 4500, 1: 900, 2: 900, 3: 900, 4: 900})"
      ]
     },
     "execution_count": 43,
     "metadata": {},
     "output_type": "execute_result"
    }
   ],
   "source": [
    "# make dataset\n",
    "\n",
    "path_to_x, path_to_y, path_to_summary = prepare_dataset(\n",
    "    structure_list=structure_list_pristine,\n",
    "    target_list=target_list_pristine,\n",
    "    desc_metadata='diffraction_3d_sh_spectrum',\n",
    "    dataset_name='hcp-sc-fcc-diam-bcc_pristine',\n",
    "    target_name='target',\n",
    "    target_categorical=True,\n",
    "    input_dims=(50, 32),\n",
    "    configs=configs,\n",
    "    dataset_folder=dataset_folder,\n",
    "    main_folder=configs['io']['main_folder'],\n",
    "    desc_folder=configs['io']['desc_folder'],\n",
    "    tmp_folder=configs['io']['tmp_folder'],\n",
    "    notes=\"Hcp, sc, fcc, diam and sc structures pristine\")\n",
    "\n",
    "x, y, dataset_info = load_dataset_from_file(path_to_x=path_to_x, path_to_y=path_to_y,\n",
    "                                                              path_to_summary=path_to_summary)\n",
    "\n",
    "\n",
    "Counter(y)"
   ]
  },
  {
   "cell_type": "markdown",
   "metadata": {},
   "source": [
    "## Displacements 0.4%"
   ]
  },
  {
   "cell_type": "code",
   "execution_count": 44,
   "metadata": {
    "code_folding": []
   },
   "outputs": [
    {
     "name": "stderr",
     "output_type": "stream",
     "text": [
      "INFO: Extracting file 1/5: /home/ziletti/Documents/calc_nomadml/rot_inv_3d/desc_folder/hcp/disp/A_hP2_194_c_target_nb_atoms128_rotid0_disp0004.tar.gz\n",
      "INFO: Extracting file 1/5: /home/ziletti/Documents/calc_nomadml/rot_inv_3d/desc_folder/hcp/disp/A_hP2_194_c_target_nb_atoms128_rotid0_disp0004.tar.gz\n",
      "INFO: Extracting file 1/5: /home/ziletti/Documents/calc_nomadml/rot_inv_3d/desc_folder/hcp/disp/A_hP2_194_c_target_nb_atoms128_rotid0_disp0004.tar.gz\n",
      "INFO: Extracting file 2/5: /home/ziletti/Documents/calc_nomadml/rot_inv_3d/desc_folder/hcp/disp/A_hP2_194_c_target_nb_atoms128_rotid1_disp0004.tar.gz\n",
      "INFO: Extracting file 2/5: /home/ziletti/Documents/calc_nomadml/rot_inv_3d/desc_folder/hcp/disp/A_hP2_194_c_target_nb_atoms128_rotid1_disp0004.tar.gz\n",
      "INFO: Extracting file 2/5: /home/ziletti/Documents/calc_nomadml/rot_inv_3d/desc_folder/hcp/disp/A_hP2_194_c_target_nb_atoms128_rotid1_disp0004.tar.gz\n",
      "INFO: Extracting file 3/5: /home/ziletti/Documents/calc_nomadml/rot_inv_3d/desc_folder/hcp/disp/A_hP2_194_c_target_nb_atoms128_rotid2_disp0004.tar.gz\n",
      "INFO: Extracting file 3/5: /home/ziletti/Documents/calc_nomadml/rot_inv_3d/desc_folder/hcp/disp/A_hP2_194_c_target_nb_atoms128_rotid2_disp0004.tar.gz\n",
      "INFO: Extracting file 3/5: /home/ziletti/Documents/calc_nomadml/rot_inv_3d/desc_folder/hcp/disp/A_hP2_194_c_target_nb_atoms128_rotid2_disp0004.tar.gz\n",
      "INFO: Extracting file 4/5: /home/ziletti/Documents/calc_nomadml/rot_inv_3d/desc_folder/hcp/disp/A_hP2_194_c_target_nb_atoms128_rotid3_disp0004.tar.gz\n",
      "INFO: Extracting file 4/5: /home/ziletti/Documents/calc_nomadml/rot_inv_3d/desc_folder/hcp/disp/A_hP2_194_c_target_nb_atoms128_rotid3_disp0004.tar.gz\n",
      "INFO: Extracting file 4/5: /home/ziletti/Documents/calc_nomadml/rot_inv_3d/desc_folder/hcp/disp/A_hP2_194_c_target_nb_atoms128_rotid3_disp0004.tar.gz\n",
      "INFO: Extracting file 5/5: /home/ziletti/Documents/calc_nomadml/rot_inv_3d/desc_folder/hcp/disp/A_hP2_194_c_target_nb_atoms128_rotid4_disp0004.tar.gz\n",
      "INFO: Extracting file 5/5: /home/ziletti/Documents/calc_nomadml/rot_inv_3d/desc_folder/hcp/disp/A_hP2_194_c_target_nb_atoms128_rotid4_disp0004.tar.gz\n",
      "INFO: Extracting file 5/5: /home/ziletti/Documents/calc_nomadml/rot_inv_3d/desc_folder/hcp/disp/A_hP2_194_c_target_nb_atoms128_rotid4_disp0004.tar.gz\n",
      "INFO: Extracting file 1/5: /home/ziletti/Documents/calc_nomadml/rot_inv_3d/desc_folder/sc/disp/A_cP1_221_a_target_nb_atoms128_rotid0_disp0004.tar.gz\n",
      "INFO: Extracting file 1/5: /home/ziletti/Documents/calc_nomadml/rot_inv_3d/desc_folder/sc/disp/A_cP1_221_a_target_nb_atoms128_rotid0_disp0004.tar.gz\n",
      "INFO: Extracting file 1/5: /home/ziletti/Documents/calc_nomadml/rot_inv_3d/desc_folder/sc/disp/A_cP1_221_a_target_nb_atoms128_rotid0_disp0004.tar.gz\n",
      "INFO: Extracting file 2/5: /home/ziletti/Documents/calc_nomadml/rot_inv_3d/desc_folder/sc/disp/A_cP1_221_a_target_nb_atoms128_rotid1_disp0004.tar.gz\n",
      "INFO: Extracting file 2/5: /home/ziletti/Documents/calc_nomadml/rot_inv_3d/desc_folder/sc/disp/A_cP1_221_a_target_nb_atoms128_rotid1_disp0004.tar.gz\n",
      "INFO: Extracting file 2/5: /home/ziletti/Documents/calc_nomadml/rot_inv_3d/desc_folder/sc/disp/A_cP1_221_a_target_nb_atoms128_rotid1_disp0004.tar.gz\n",
      "INFO: Extracting file 3/5: /home/ziletti/Documents/calc_nomadml/rot_inv_3d/desc_folder/sc/disp/A_cP1_221_a_target_nb_atoms128_rotid2_disp0004.tar.gz\n",
      "INFO: Extracting file 3/5: /home/ziletti/Documents/calc_nomadml/rot_inv_3d/desc_folder/sc/disp/A_cP1_221_a_target_nb_atoms128_rotid2_disp0004.tar.gz\n",
      "INFO: Extracting file 3/5: /home/ziletti/Documents/calc_nomadml/rot_inv_3d/desc_folder/sc/disp/A_cP1_221_a_target_nb_atoms128_rotid2_disp0004.tar.gz\n",
      "INFO: Extracting file 4/5: /home/ziletti/Documents/calc_nomadml/rot_inv_3d/desc_folder/sc/disp/A_cP1_221_a_target_nb_atoms128_rotid3_disp0004.tar.gz\n",
      "INFO: Extracting file 4/5: /home/ziletti/Documents/calc_nomadml/rot_inv_3d/desc_folder/sc/disp/A_cP1_221_a_target_nb_atoms128_rotid3_disp0004.tar.gz\n",
      "INFO: Extracting file 4/5: /home/ziletti/Documents/calc_nomadml/rot_inv_3d/desc_folder/sc/disp/A_cP1_221_a_target_nb_atoms128_rotid3_disp0004.tar.gz\n",
      "INFO: Extracting file 5/5: /home/ziletti/Documents/calc_nomadml/rot_inv_3d/desc_folder/sc/disp/A_cP1_221_a_target_nb_atoms128_rotid4_disp0004.tar.gz\n",
      "INFO: Extracting file 5/5: /home/ziletti/Documents/calc_nomadml/rot_inv_3d/desc_folder/sc/disp/A_cP1_221_a_target_nb_atoms128_rotid4_disp0004.tar.gz\n",
      "INFO: Extracting file 5/5: /home/ziletti/Documents/calc_nomadml/rot_inv_3d/desc_folder/sc/disp/A_cP1_221_a_target_nb_atoms128_rotid4_disp0004.tar.gz\n",
      "INFO: Extracting file 1/5: /home/ziletti/Documents/calc_nomadml/rot_inv_3d/desc_folder/fcc/disp/A_cF4_225_a_target_nb_atoms128_rotid0_disp0004.tar.gz\n",
      "INFO: Extracting file 1/5: /home/ziletti/Documents/calc_nomadml/rot_inv_3d/desc_folder/fcc/disp/A_cF4_225_a_target_nb_atoms128_rotid0_disp0004.tar.gz\n",
      "INFO: Extracting file 1/5: /home/ziletti/Documents/calc_nomadml/rot_inv_3d/desc_folder/fcc/disp/A_cF4_225_a_target_nb_atoms128_rotid0_disp0004.tar.gz\n",
      "INFO: Extracting file 2/5: /home/ziletti/Documents/calc_nomadml/rot_inv_3d/desc_folder/fcc/disp/A_cF4_225_a_target_nb_atoms128_rotid1_disp0004.tar.gz\n",
      "INFO: Extracting file 2/5: /home/ziletti/Documents/calc_nomadml/rot_inv_3d/desc_folder/fcc/disp/A_cF4_225_a_target_nb_atoms128_rotid1_disp0004.tar.gz\n",
      "INFO: Extracting file 2/5: /home/ziletti/Documents/calc_nomadml/rot_inv_3d/desc_folder/fcc/disp/A_cF4_225_a_target_nb_atoms128_rotid1_disp0004.tar.gz\n",
      "INFO: Extracting file 3/5: /home/ziletti/Documents/calc_nomadml/rot_inv_3d/desc_folder/fcc/disp/A_cF4_225_a_target_nb_atoms128_rotid2_disp0004.tar.gz\n",
      "INFO: Extracting file 3/5: /home/ziletti/Documents/calc_nomadml/rot_inv_3d/desc_folder/fcc/disp/A_cF4_225_a_target_nb_atoms128_rotid2_disp0004.tar.gz\n",
      "INFO: Extracting file 3/5: /home/ziletti/Documents/calc_nomadml/rot_inv_3d/desc_folder/fcc/disp/A_cF4_225_a_target_nb_atoms128_rotid2_disp0004.tar.gz\n",
      "INFO: Extracting file 4/5: /home/ziletti/Documents/calc_nomadml/rot_inv_3d/desc_folder/fcc/disp/A_cF4_225_a_target_nb_atoms128_rotid3_disp0004.tar.gz\n",
      "INFO: Extracting file 4/5: /home/ziletti/Documents/calc_nomadml/rot_inv_3d/desc_folder/fcc/disp/A_cF4_225_a_target_nb_atoms128_rotid3_disp0004.tar.gz\n",
      "INFO: Extracting file 4/5: /home/ziletti/Documents/calc_nomadml/rot_inv_3d/desc_folder/fcc/disp/A_cF4_225_a_target_nb_atoms128_rotid3_disp0004.tar.gz\n",
      "INFO: Extracting file 5/5: /home/ziletti/Documents/calc_nomadml/rot_inv_3d/desc_folder/fcc/disp/A_cF4_225_a_target_nb_atoms128_rotid4_disp0004.tar.gz\n",
      "INFO: Extracting file 5/5: /home/ziletti/Documents/calc_nomadml/rot_inv_3d/desc_folder/fcc/disp/A_cF4_225_a_target_nb_atoms128_rotid4_disp0004.tar.gz\n",
      "INFO: Extracting file 5/5: /home/ziletti/Documents/calc_nomadml/rot_inv_3d/desc_folder/fcc/disp/A_cF4_225_a_target_nb_atoms128_rotid4_disp0004.tar.gz\n",
      "INFO: Extracting file 1/5: /home/ziletti/Documents/calc_nomadml/rot_inv_3d/desc_folder/diam/disp/A_cF8_227_a_target_nb_atoms128_rotid0_disp0004.tar.gz\n",
      "INFO: Extracting file 1/5: /home/ziletti/Documents/calc_nomadml/rot_inv_3d/desc_folder/diam/disp/A_cF8_227_a_target_nb_atoms128_rotid0_disp0004.tar.gz\n",
      "INFO: Extracting file 1/5: /home/ziletti/Documents/calc_nomadml/rot_inv_3d/desc_folder/diam/disp/A_cF8_227_a_target_nb_atoms128_rotid0_disp0004.tar.gz\n",
      "INFO: Extracting file 2/5: /home/ziletti/Documents/calc_nomadml/rot_inv_3d/desc_folder/diam/disp/A_cF8_227_a_target_nb_atoms128_rotid1_disp0004.tar.gz\n",
      "INFO: Extracting file 2/5: /home/ziletti/Documents/calc_nomadml/rot_inv_3d/desc_folder/diam/disp/A_cF8_227_a_target_nb_atoms128_rotid1_disp0004.tar.gz\n",
      "INFO: Extracting file 2/5: /home/ziletti/Documents/calc_nomadml/rot_inv_3d/desc_folder/diam/disp/A_cF8_227_a_target_nb_atoms128_rotid1_disp0004.tar.gz\n",
      "INFO: Extracting file 3/5: /home/ziletti/Documents/calc_nomadml/rot_inv_3d/desc_folder/diam/disp/A_cF8_227_a_target_nb_atoms128_rotid2_disp0004.tar.gz\n",
      "INFO: Extracting file 3/5: /home/ziletti/Documents/calc_nomadml/rot_inv_3d/desc_folder/diam/disp/A_cF8_227_a_target_nb_atoms128_rotid2_disp0004.tar.gz\n",
      "INFO: Extracting file 3/5: /home/ziletti/Documents/calc_nomadml/rot_inv_3d/desc_folder/diam/disp/A_cF8_227_a_target_nb_atoms128_rotid2_disp0004.tar.gz\n",
      "INFO: Extracting file 4/5: /home/ziletti/Documents/calc_nomadml/rot_inv_3d/desc_folder/diam/disp/A_cF8_227_a_target_nb_atoms128_rotid3_disp0004.tar.gz\n"
     ]
    },
    {
     "name": "stderr",
     "output_type": "stream",
     "text": [
      "INFO: Extracting file 4/5: /home/ziletti/Documents/calc_nomadml/rot_inv_3d/desc_folder/diam/disp/A_cF8_227_a_target_nb_atoms128_rotid3_disp0004.tar.gz\n",
      "INFO: Extracting file 4/5: /home/ziletti/Documents/calc_nomadml/rot_inv_3d/desc_folder/diam/disp/A_cF8_227_a_target_nb_atoms128_rotid3_disp0004.tar.gz\n",
      "INFO: Extracting file 5/5: /home/ziletti/Documents/calc_nomadml/rot_inv_3d/desc_folder/diam/disp/A_cF8_227_a_target_nb_atoms128_rotid4_disp0004.tar.gz\n",
      "INFO: Extracting file 5/5: /home/ziletti/Documents/calc_nomadml/rot_inv_3d/desc_folder/diam/disp/A_cF8_227_a_target_nb_atoms128_rotid4_disp0004.tar.gz\n",
      "INFO: Extracting file 5/5: /home/ziletti/Documents/calc_nomadml/rot_inv_3d/desc_folder/diam/disp/A_cF8_227_a_target_nb_atoms128_rotid4_disp0004.tar.gz\n",
      "INFO: Extracting file 1/5: /home/ziletti/Documents/calc_nomadml/rot_inv_3d/desc_folder/bcc/disp/A_cI2_229_a_target_nb_atoms128_rotid0_disp0004.tar.gz\n",
      "INFO: Extracting file 1/5: /home/ziletti/Documents/calc_nomadml/rot_inv_3d/desc_folder/bcc/disp/A_cI2_229_a_target_nb_atoms128_rotid0_disp0004.tar.gz\n",
      "INFO: Extracting file 1/5: /home/ziletti/Documents/calc_nomadml/rot_inv_3d/desc_folder/bcc/disp/A_cI2_229_a_target_nb_atoms128_rotid0_disp0004.tar.gz\n",
      "INFO: Extracting file 2/5: /home/ziletti/Documents/calc_nomadml/rot_inv_3d/desc_folder/bcc/disp/A_cI2_229_a_target_nb_atoms128_rotid1_disp0004.tar.gz\n",
      "INFO: Extracting file 2/5: /home/ziletti/Documents/calc_nomadml/rot_inv_3d/desc_folder/bcc/disp/A_cI2_229_a_target_nb_atoms128_rotid1_disp0004.tar.gz\n",
      "INFO: Extracting file 2/5: /home/ziletti/Documents/calc_nomadml/rot_inv_3d/desc_folder/bcc/disp/A_cI2_229_a_target_nb_atoms128_rotid1_disp0004.tar.gz\n",
      "INFO: Extracting file 3/5: /home/ziletti/Documents/calc_nomadml/rot_inv_3d/desc_folder/bcc/disp/A_cI2_229_a_target_nb_atoms128_rotid2_disp0004.tar.gz\n",
      "INFO: Extracting file 3/5: /home/ziletti/Documents/calc_nomadml/rot_inv_3d/desc_folder/bcc/disp/A_cI2_229_a_target_nb_atoms128_rotid2_disp0004.tar.gz\n",
      "INFO: Extracting file 3/5: /home/ziletti/Documents/calc_nomadml/rot_inv_3d/desc_folder/bcc/disp/A_cI2_229_a_target_nb_atoms128_rotid2_disp0004.tar.gz\n",
      "INFO: Extracting file 4/5: /home/ziletti/Documents/calc_nomadml/rot_inv_3d/desc_folder/bcc/disp/A_cI2_229_a_target_nb_atoms128_rotid3_disp0004.tar.gz\n",
      "INFO: Extracting file 4/5: /home/ziletti/Documents/calc_nomadml/rot_inv_3d/desc_folder/bcc/disp/A_cI2_229_a_target_nb_atoms128_rotid3_disp0004.tar.gz\n",
      "INFO: Extracting file 4/5: /home/ziletti/Documents/calc_nomadml/rot_inv_3d/desc_folder/bcc/disp/A_cI2_229_a_target_nb_atoms128_rotid3_disp0004.tar.gz\n",
      "INFO: Extracting file 5/5: /home/ziletti/Documents/calc_nomadml/rot_inv_3d/desc_folder/bcc/disp/A_cI2_229_a_target_nb_atoms128_rotid4_disp0004.tar.gz\n",
      "INFO: Extracting file 5/5: /home/ziletti/Documents/calc_nomadml/rot_inv_3d/desc_folder/bcc/disp/A_cI2_229_a_target_nb_atoms128_rotid4_disp0004.tar.gz\n",
      "INFO: Extracting file 5/5: /home/ziletti/Documents/calc_nomadml/rot_inv_3d/desc_folder/bcc/disp/A_cI2_229_a_target_nb_atoms128_rotid4_disp0004.tar.gz\n"
     ]
    }
   ],
   "source": [
    "# hcp - spacegroup 194\n",
    "filenames_disp04_hcp = ['hcp/disp/A_hP2_194_c_target_nb_atoms128_rotid0_disp0004.tar.gz',\n",
    "                        'hcp/disp/A_hP2_194_c_target_nb_atoms128_rotid1_disp0004.tar.gz',\n",
    "                        'hcp/disp/A_hP2_194_c_target_nb_atoms128_rotid2_disp0004.tar.gz',\n",
    "                        'hcp/disp/A_hP2_194_c_target_nb_atoms128_rotid3_disp0004.tar.gz',\n",
    "                        'hcp/disp/A_hP2_194_c_target_nb_atoms128_rotid4_disp0004.tar.gz']\n",
    "# sc - spacegroup 221\n",
    "filenames_disp04_sc = ['sc/disp/A_cP1_221_a_target_nb_atoms128_rotid0_disp0004.tar.gz',\n",
    "                       'sc/disp/A_cP1_221_a_target_nb_atoms128_rotid1_disp0004.tar.gz',\n",
    "                       'sc/disp/A_cP1_221_a_target_nb_atoms128_rotid2_disp0004.tar.gz',\n",
    "                       'sc/disp/A_cP1_221_a_target_nb_atoms128_rotid3_disp0004.tar.gz',\n",
    "                       'sc/disp/A_cP1_221_a_target_nb_atoms128_rotid4_disp0004.tar.gz']\n",
    "\n",
    "# fcc - spacegroup 225\n",
    "filenames_disp04_fcc = ['fcc/disp/A_cF4_225_a_target_nb_atoms128_rotid0_disp0004.tar.gz',\n",
    "                         'fcc/disp/A_cF4_225_a_target_nb_atoms128_rotid1_disp0004.tar.gz',\n",
    "                         'fcc/disp/A_cF4_225_a_target_nb_atoms128_rotid2_disp0004.tar.gz',\n",
    "                         'fcc/disp/A_cF4_225_a_target_nb_atoms128_rotid3_disp0004.tar.gz',\n",
    "                         'fcc/disp/A_cF4_225_a_target_nb_atoms128_rotid4_disp0004.tar.gz']\n",
    "\n",
    "# diam - spacegroup 227\n",
    "filenames_disp04_diam = ['diam/disp/A_cF8_227_a_target_nb_atoms128_rotid0_disp0004.tar.gz',\n",
    "                          'diam/disp/A_cF8_227_a_target_nb_atoms128_rotid1_disp0004.tar.gz',\n",
    "                          'diam/disp/A_cF8_227_a_target_nb_atoms128_rotid2_disp0004.tar.gz',\n",
    "                          'diam/disp/A_cF8_227_a_target_nb_atoms128_rotid3_disp0004.tar.gz',\n",
    "                          'diam/disp/A_cF8_227_a_target_nb_atoms128_rotid4_disp0004.tar.gz']\n",
    "# bcc - spacegroup 229\n",
    "filenames_disp04_bcc = ['bcc/disp/A_cI2_229_a_target_nb_atoms128_rotid0_disp0004.tar.gz',\n",
    "                         'bcc/disp/A_cI2_229_a_target_nb_atoms128_rotid1_disp0004.tar.gz',\n",
    "                         'bcc/disp/A_cI2_229_a_target_nb_atoms128_rotid2_disp0004.tar.gz',\n",
    "                         'bcc/disp/A_cI2_229_a_target_nb_atoms128_rotid3_disp0004.tar.gz',\n",
    "                         'bcc/disp/A_cI2_229_a_target_nb_atoms128_rotid4_disp0004.tar.gz']\n",
    "                         \n",
    "                         \n",
    "desc_files_disp04_hcp = [os.path.join(configs['io']['desc_folder'], item) for item in filenames_disp04_hcp]\n",
    "desc_files_disp04_sc = [os.path.join(configs['io']['desc_folder'], item) for item in filenames_disp04_sc]\n",
    "desc_files_disp04_fcc = [os.path.join(configs['io']['desc_folder'], item) for item in filenames_disp04_fcc]\n",
    "desc_files_disp04_diam = [os.path.join(configs['io']['desc_folder'], item) for item in filenames_disp04_diam]\n",
    "desc_files_disp04_bcc = [os.path.join(configs['io']['desc_folder'], item) for item in filenames_disp04_bcc]\n",
    "\n",
    "y_true = []\n",
    "target_list_hcp_disp04, structure_list_hcp_disp04 = load_descriptor(desc_files=desc_files_disp04_hcp, configs=configs)\n",
    "y_true = y_true + [194]*len(structure_list_hcp_disp04)\n",
    "\n",
    "target_list_sc_disp04, structure_list_sc_disp04 = load_descriptor(desc_files=desc_files_disp04_sc, configs=configs)\n",
    "y_true = y_true + [221]*len(structure_list_sc_disp04)\n",
    "\n",
    "target_list_fcc_disp04, structure_list_fcc_disp04 = load_descriptor(desc_files=desc_files_disp04_fcc, configs=configs)\n",
    "y_true = y_true + [225]*len(structure_list_fcc_disp04)\n",
    "\n",
    "target_list_diam_disp04, structure_list_diam_disp04 = load_descriptor(desc_files=desc_files_disp04_diam, configs=configs)\n",
    "y_true = y_true + [227]*len(structure_list_diam_disp04)\n",
    "\n",
    "target_list_bcc_disp04, structure_list_bcc_disp04 = load_descriptor(desc_files=desc_files_disp04_bcc, configs=configs)\n",
    "y_true = y_true + [229]*len(structure_list_bcc_disp04)"
   ]
  },
  {
   "cell_type": "code",
   "execution_count": 45,
   "metadata": {},
   "outputs": [],
   "source": [
    "structure_list_disp04 = structure_list_hcp_disp04 + structure_list_sc_disp04 + structure_list_fcc_disp04 + structure_list_diam_disp04 + structure_list_bcc_disp04\n",
    "target_list_disp04 = target_list_hcp_disp04 + target_list_sc_disp04 + target_list_fcc_disp04 + target_list_diam_disp04 + target_list_bcc_disp04\n",
    "\n",
    "for idx, item in enumerate(target_list_disp04):\n",
    "    item['data'][0]['target'] = y_true[idx]\n",
    "    \n",
    "for idx, structure in enumerate(structure_list_disp04):\n",
    "    structure.info['target'] = y_true[idx]\n",
    "    \n",
    "#y_pred_disp04 = []\n",
    "#for structure in structure_list_04:\n",
    "#    y_pred_disp04.append(ase_get_spacegroup(structure, symprec=1e-1).no)"
   ]
  },
  {
   "cell_type": "code",
   "execution_count": 46,
   "metadata": {},
   "outputs": [
    {
     "name": "stderr",
     "output_type": "stream",
     "text": [
      "INFO: Writing x to /home/ziletti/Documents/calc_nomadml/rot_inv_3d/datasets/hcp-sc-fcc-diam-bcc_displacement-0.4%_x.pkl\n",
      "INFO: Writing x to /home/ziletti/Documents/calc_nomadml/rot_inv_3d/datasets/hcp-sc-fcc-diam-bcc_displacement-0.4%_x.pkl\n",
      "INFO: Writing x to /home/ziletti/Documents/calc_nomadml/rot_inv_3d/datasets/hcp-sc-fcc-diam-bcc_displacement-0.4%_x.pkl\n",
      "INFO: Writing y to /home/ziletti/Documents/calc_nomadml/rot_inv_3d/datasets/hcp-sc-fcc-diam-bcc_displacement-0.4%_y.pkl\n",
      "INFO: Writing y to /home/ziletti/Documents/calc_nomadml/rot_inv_3d/datasets/hcp-sc-fcc-diam-bcc_displacement-0.4%_y.pkl\n",
      "INFO: Writing y to /home/ziletti/Documents/calc_nomadml/rot_inv_3d/datasets/hcp-sc-fcc-diam-bcc_displacement-0.4%_y.pkl\n",
      "INFO: Summary file written in /home/ziletti/Documents/calc_nomadml/rot_inv_3d/datasets/hcp-sc-fcc-diam-bcc_displacement-0.4%_summary.json.\n",
      "INFO: Summary file written in /home/ziletti/Documents/calc_nomadml/rot_inv_3d/datasets/hcp-sc-fcc-diam-bcc_displacement-0.4%_summary.json.\n",
      "INFO: Summary file written in /home/ziletti/Documents/calc_nomadml/rot_inv_3d/datasets/hcp-sc-fcc-diam-bcc_displacement-0.4%_summary.json.\n"
     ]
    },
    {
     "data": {
      "text/plain": [
       "Counter({0: 4500, 1: 900, 2: 900, 3: 900, 4: 900})"
      ]
     },
     "execution_count": 46,
     "metadata": {},
     "output_type": "execute_result"
    }
   ],
   "source": [
    "# make dataset\n",
    "\n",
    "path_to_x, path_to_y, path_to_summary = prepare_dataset(\n",
    "    structure_list=structure_list_disp04,\n",
    "    target_list=target_list_disp04,\n",
    "    desc_metadata='diffraction_3d_sh_spectrum',\n",
    "    dataset_name='hcp-sc-fcc-diam-bcc_displacement-0.4%',\n",
    "    target_name='target',\n",
    "    target_categorical=True,\n",
    "    input_dims=(50, 32),\n",
    "    configs=configs,\n",
    "    dataset_folder=dataset_folder,\n",
    "    main_folder=configs['io']['main_folder'],\n",
    "    desc_folder=configs['io']['desc_folder'],\n",
    "    tmp_folder=configs['io']['tmp_folder'],\n",
    "    notes=\"Hcp, sc, fcc, diam and sc structures with 0.4% displacement\")\n",
    "\n",
    "x, y, dataset_info = load_dataset_from_file(path_to_x=path_to_x, path_to_y=path_to_y,\n",
    "                                                              path_to_summary=path_to_summary)\n",
    "\n",
    "\n",
    "Counter(y)"
   ]
  },
  {
   "cell_type": "markdown",
   "metadata": {},
   "source": [
    "## Displacements 1.0%"
   ]
  },
  {
   "cell_type": "code",
   "execution_count": 47,
   "metadata": {
    "code_folding": []
   },
   "outputs": [
    {
     "name": "stderr",
     "output_type": "stream",
     "text": [
      "INFO: Extracting file 1/5: /home/ziletti/Documents/calc_nomadml/rot_inv_3d/desc_folder/hcp/disp/A_hP2_194_c_target_nb_atoms128_rotid0_disp001.tar.gz\n",
      "INFO: Extracting file 1/5: /home/ziletti/Documents/calc_nomadml/rot_inv_3d/desc_folder/hcp/disp/A_hP2_194_c_target_nb_atoms128_rotid0_disp001.tar.gz\n",
      "INFO: Extracting file 1/5: /home/ziletti/Documents/calc_nomadml/rot_inv_3d/desc_folder/hcp/disp/A_hP2_194_c_target_nb_atoms128_rotid0_disp001.tar.gz\n",
      "INFO: Extracting file 2/5: /home/ziletti/Documents/calc_nomadml/rot_inv_3d/desc_folder/hcp/disp/A_hP2_194_c_target_nb_atoms128_rotid1_disp001.tar.gz\n",
      "INFO: Extracting file 2/5: /home/ziletti/Documents/calc_nomadml/rot_inv_3d/desc_folder/hcp/disp/A_hP2_194_c_target_nb_atoms128_rotid1_disp001.tar.gz\n",
      "INFO: Extracting file 2/5: /home/ziletti/Documents/calc_nomadml/rot_inv_3d/desc_folder/hcp/disp/A_hP2_194_c_target_nb_atoms128_rotid1_disp001.tar.gz\n",
      "INFO: Extracting file 3/5: /home/ziletti/Documents/calc_nomadml/rot_inv_3d/desc_folder/hcp/disp/A_hP2_194_c_target_nb_atoms128_rotid2_disp001.tar.gz\n",
      "INFO: Extracting file 3/5: /home/ziletti/Documents/calc_nomadml/rot_inv_3d/desc_folder/hcp/disp/A_hP2_194_c_target_nb_atoms128_rotid2_disp001.tar.gz\n",
      "INFO: Extracting file 3/5: /home/ziletti/Documents/calc_nomadml/rot_inv_3d/desc_folder/hcp/disp/A_hP2_194_c_target_nb_atoms128_rotid2_disp001.tar.gz\n",
      "INFO: Extracting file 4/5: /home/ziletti/Documents/calc_nomadml/rot_inv_3d/desc_folder/hcp/disp/A_hP2_194_c_target_nb_atoms128_rotid3_disp001.tar.gz\n",
      "INFO: Extracting file 4/5: /home/ziletti/Documents/calc_nomadml/rot_inv_3d/desc_folder/hcp/disp/A_hP2_194_c_target_nb_atoms128_rotid3_disp001.tar.gz\n",
      "INFO: Extracting file 4/5: /home/ziletti/Documents/calc_nomadml/rot_inv_3d/desc_folder/hcp/disp/A_hP2_194_c_target_nb_atoms128_rotid3_disp001.tar.gz\n",
      "INFO: Extracting file 5/5: /home/ziletti/Documents/calc_nomadml/rot_inv_3d/desc_folder/hcp/disp/A_hP2_194_c_target_nb_atoms128_rotid4_disp001.tar.gz\n",
      "INFO: Extracting file 5/5: /home/ziletti/Documents/calc_nomadml/rot_inv_3d/desc_folder/hcp/disp/A_hP2_194_c_target_nb_atoms128_rotid4_disp001.tar.gz\n",
      "INFO: Extracting file 5/5: /home/ziletti/Documents/calc_nomadml/rot_inv_3d/desc_folder/hcp/disp/A_hP2_194_c_target_nb_atoms128_rotid4_disp001.tar.gz\n",
      "INFO: Extracting file 1/5: /home/ziletti/Documents/calc_nomadml/rot_inv_3d/desc_folder/sc/disp/A_cP1_221_a_target_nb_atoms128_rotid0_disp001.tar.gz\n",
      "INFO: Extracting file 1/5: /home/ziletti/Documents/calc_nomadml/rot_inv_3d/desc_folder/sc/disp/A_cP1_221_a_target_nb_atoms128_rotid0_disp001.tar.gz\n",
      "INFO: Extracting file 1/5: /home/ziletti/Documents/calc_nomadml/rot_inv_3d/desc_folder/sc/disp/A_cP1_221_a_target_nb_atoms128_rotid0_disp001.tar.gz\n",
      "INFO: Extracting file 2/5: /home/ziletti/Documents/calc_nomadml/rot_inv_3d/desc_folder/sc/disp/A_cP1_221_a_target_nb_atoms128_rotid1_disp001.tar.gz\n",
      "INFO: Extracting file 2/5: /home/ziletti/Documents/calc_nomadml/rot_inv_3d/desc_folder/sc/disp/A_cP1_221_a_target_nb_atoms128_rotid1_disp001.tar.gz\n",
      "INFO: Extracting file 2/5: /home/ziletti/Documents/calc_nomadml/rot_inv_3d/desc_folder/sc/disp/A_cP1_221_a_target_nb_atoms128_rotid1_disp001.tar.gz\n",
      "INFO: Extracting file 3/5: /home/ziletti/Documents/calc_nomadml/rot_inv_3d/desc_folder/sc/disp/A_cP1_221_a_target_nb_atoms128_rotid2_disp001.tar.gz\n",
      "INFO: Extracting file 3/5: /home/ziletti/Documents/calc_nomadml/rot_inv_3d/desc_folder/sc/disp/A_cP1_221_a_target_nb_atoms128_rotid2_disp001.tar.gz\n",
      "INFO: Extracting file 3/5: /home/ziletti/Documents/calc_nomadml/rot_inv_3d/desc_folder/sc/disp/A_cP1_221_a_target_nb_atoms128_rotid2_disp001.tar.gz\n",
      "INFO: Extracting file 4/5: /home/ziletti/Documents/calc_nomadml/rot_inv_3d/desc_folder/sc/disp/A_cP1_221_a_target_nb_atoms128_rotid3_disp001.tar.gz\n",
      "INFO: Extracting file 4/5: /home/ziletti/Documents/calc_nomadml/rot_inv_3d/desc_folder/sc/disp/A_cP1_221_a_target_nb_atoms128_rotid3_disp001.tar.gz\n",
      "INFO: Extracting file 4/5: /home/ziletti/Documents/calc_nomadml/rot_inv_3d/desc_folder/sc/disp/A_cP1_221_a_target_nb_atoms128_rotid3_disp001.tar.gz\n",
      "INFO: Extracting file 5/5: /home/ziletti/Documents/calc_nomadml/rot_inv_3d/desc_folder/sc/disp/A_cP1_221_a_target_nb_atoms128_rotid4_disp001.tar.gz\n",
      "INFO: Extracting file 5/5: /home/ziletti/Documents/calc_nomadml/rot_inv_3d/desc_folder/sc/disp/A_cP1_221_a_target_nb_atoms128_rotid4_disp001.tar.gz\n",
      "INFO: Extracting file 5/5: /home/ziletti/Documents/calc_nomadml/rot_inv_3d/desc_folder/sc/disp/A_cP1_221_a_target_nb_atoms128_rotid4_disp001.tar.gz\n",
      "INFO: Extracting file 1/5: /home/ziletti/Documents/calc_nomadml/rot_inv_3d/desc_folder/fcc/disp/A_cF4_225_a_target_nb_atoms128_rotid0_disp001.tar.gz\n",
      "INFO: Extracting file 1/5: /home/ziletti/Documents/calc_nomadml/rot_inv_3d/desc_folder/fcc/disp/A_cF4_225_a_target_nb_atoms128_rotid0_disp001.tar.gz\n",
      "INFO: Extracting file 1/5: /home/ziletti/Documents/calc_nomadml/rot_inv_3d/desc_folder/fcc/disp/A_cF4_225_a_target_nb_atoms128_rotid0_disp001.tar.gz\n",
      "INFO: Extracting file 2/5: /home/ziletti/Documents/calc_nomadml/rot_inv_3d/desc_folder/fcc/disp/A_cF4_225_a_target_nb_atoms128_rotid1_disp001.tar.gz\n",
      "INFO: Extracting file 2/5: /home/ziletti/Documents/calc_nomadml/rot_inv_3d/desc_folder/fcc/disp/A_cF4_225_a_target_nb_atoms128_rotid1_disp001.tar.gz\n",
      "INFO: Extracting file 2/5: /home/ziletti/Documents/calc_nomadml/rot_inv_3d/desc_folder/fcc/disp/A_cF4_225_a_target_nb_atoms128_rotid1_disp001.tar.gz\n",
      "INFO: Extracting file 3/5: /home/ziletti/Documents/calc_nomadml/rot_inv_3d/desc_folder/fcc/disp/A_cF4_225_a_target_nb_atoms128_rotid2_disp001.tar.gz\n",
      "INFO: Extracting file 3/5: /home/ziletti/Documents/calc_nomadml/rot_inv_3d/desc_folder/fcc/disp/A_cF4_225_a_target_nb_atoms128_rotid2_disp001.tar.gz\n",
      "INFO: Extracting file 3/5: /home/ziletti/Documents/calc_nomadml/rot_inv_3d/desc_folder/fcc/disp/A_cF4_225_a_target_nb_atoms128_rotid2_disp001.tar.gz\n",
      "INFO: Extracting file 4/5: /home/ziletti/Documents/calc_nomadml/rot_inv_3d/desc_folder/fcc/disp/A_cF4_225_a_target_nb_atoms128_rotid3_disp001.tar.gz\n",
      "INFO: Extracting file 4/5: /home/ziletti/Documents/calc_nomadml/rot_inv_3d/desc_folder/fcc/disp/A_cF4_225_a_target_nb_atoms128_rotid3_disp001.tar.gz\n",
      "INFO: Extracting file 4/5: /home/ziletti/Documents/calc_nomadml/rot_inv_3d/desc_folder/fcc/disp/A_cF4_225_a_target_nb_atoms128_rotid3_disp001.tar.gz\n",
      "INFO: Extracting file 5/5: /home/ziletti/Documents/calc_nomadml/rot_inv_3d/desc_folder/fcc/disp/A_cF4_225_a_target_nb_atoms128_rotid4_disp001.tar.gz\n",
      "INFO: Extracting file 5/5: /home/ziletti/Documents/calc_nomadml/rot_inv_3d/desc_folder/fcc/disp/A_cF4_225_a_target_nb_atoms128_rotid4_disp001.tar.gz\n",
      "INFO: Extracting file 5/5: /home/ziletti/Documents/calc_nomadml/rot_inv_3d/desc_folder/fcc/disp/A_cF4_225_a_target_nb_atoms128_rotid4_disp001.tar.gz\n",
      "INFO: Extracting file 1/5: /home/ziletti/Documents/calc_nomadml/rot_inv_3d/desc_folder/diam/disp/A_cF8_227_a_target_nb_atoms128_rotid0_disp001.tar.gz\n",
      "INFO: Extracting file 1/5: /home/ziletti/Documents/calc_nomadml/rot_inv_3d/desc_folder/diam/disp/A_cF8_227_a_target_nb_atoms128_rotid0_disp001.tar.gz\n",
      "INFO: Extracting file 1/5: /home/ziletti/Documents/calc_nomadml/rot_inv_3d/desc_folder/diam/disp/A_cF8_227_a_target_nb_atoms128_rotid0_disp001.tar.gz\n",
      "INFO: Extracting file 2/5: /home/ziletti/Documents/calc_nomadml/rot_inv_3d/desc_folder/diam/disp/A_cF8_227_a_target_nb_atoms128_rotid1_disp001.tar.gz\n",
      "INFO: Extracting file 2/5: /home/ziletti/Documents/calc_nomadml/rot_inv_3d/desc_folder/diam/disp/A_cF8_227_a_target_nb_atoms128_rotid1_disp001.tar.gz\n",
      "INFO: Extracting file 2/5: /home/ziletti/Documents/calc_nomadml/rot_inv_3d/desc_folder/diam/disp/A_cF8_227_a_target_nb_atoms128_rotid1_disp001.tar.gz\n",
      "INFO: Extracting file 3/5: /home/ziletti/Documents/calc_nomadml/rot_inv_3d/desc_folder/diam/disp/A_cF8_227_a_target_nb_atoms128_rotid2_disp001.tar.gz\n",
      "INFO: Extracting file 3/5: /home/ziletti/Documents/calc_nomadml/rot_inv_3d/desc_folder/diam/disp/A_cF8_227_a_target_nb_atoms128_rotid2_disp001.tar.gz\n",
      "INFO: Extracting file 3/5: /home/ziletti/Documents/calc_nomadml/rot_inv_3d/desc_folder/diam/disp/A_cF8_227_a_target_nb_atoms128_rotid2_disp001.tar.gz\n",
      "INFO: Extracting file 4/5: /home/ziletti/Documents/calc_nomadml/rot_inv_3d/desc_folder/diam/disp/A_cF8_227_a_target_nb_atoms128_rotid3_disp001.tar.gz\n",
      "INFO: Extracting file 4/5: /home/ziletti/Documents/calc_nomadml/rot_inv_3d/desc_folder/diam/disp/A_cF8_227_a_target_nb_atoms128_rotid3_disp001.tar.gz\n"
     ]
    },
    {
     "name": "stderr",
     "output_type": "stream",
     "text": [
      "INFO: Extracting file 4/5: /home/ziletti/Documents/calc_nomadml/rot_inv_3d/desc_folder/diam/disp/A_cF8_227_a_target_nb_atoms128_rotid3_disp001.tar.gz\n",
      "INFO: Extracting file 5/5: /home/ziletti/Documents/calc_nomadml/rot_inv_3d/desc_folder/diam/disp/A_cF8_227_a_target_nb_atoms128_rotid4_disp001.tar.gz\n",
      "INFO: Extracting file 5/5: /home/ziletti/Documents/calc_nomadml/rot_inv_3d/desc_folder/diam/disp/A_cF8_227_a_target_nb_atoms128_rotid4_disp001.tar.gz\n",
      "INFO: Extracting file 5/5: /home/ziletti/Documents/calc_nomadml/rot_inv_3d/desc_folder/diam/disp/A_cF8_227_a_target_nb_atoms128_rotid4_disp001.tar.gz\n",
      "INFO: Extracting file 1/5: /home/ziletti/Documents/calc_nomadml/rot_inv_3d/desc_folder/bcc/disp/A_cI2_229_a_target_nb_atoms128_rotid0_disp001.tar.gz\n",
      "INFO: Extracting file 1/5: /home/ziletti/Documents/calc_nomadml/rot_inv_3d/desc_folder/bcc/disp/A_cI2_229_a_target_nb_atoms128_rotid0_disp001.tar.gz\n",
      "INFO: Extracting file 1/5: /home/ziletti/Documents/calc_nomadml/rot_inv_3d/desc_folder/bcc/disp/A_cI2_229_a_target_nb_atoms128_rotid0_disp001.tar.gz\n",
      "INFO: Extracting file 2/5: /home/ziletti/Documents/calc_nomadml/rot_inv_3d/desc_folder/bcc/disp/A_cI2_229_a_target_nb_atoms128_rotid1_disp001.tar.gz\n",
      "INFO: Extracting file 2/5: /home/ziletti/Documents/calc_nomadml/rot_inv_3d/desc_folder/bcc/disp/A_cI2_229_a_target_nb_atoms128_rotid1_disp001.tar.gz\n",
      "INFO: Extracting file 2/5: /home/ziletti/Documents/calc_nomadml/rot_inv_3d/desc_folder/bcc/disp/A_cI2_229_a_target_nb_atoms128_rotid1_disp001.tar.gz\n",
      "INFO: Extracting file 3/5: /home/ziletti/Documents/calc_nomadml/rot_inv_3d/desc_folder/bcc/disp/A_cI2_229_a_target_nb_atoms128_rotid2_disp001.tar.gz\n",
      "INFO: Extracting file 3/5: /home/ziletti/Documents/calc_nomadml/rot_inv_3d/desc_folder/bcc/disp/A_cI2_229_a_target_nb_atoms128_rotid2_disp001.tar.gz\n",
      "INFO: Extracting file 3/5: /home/ziletti/Documents/calc_nomadml/rot_inv_3d/desc_folder/bcc/disp/A_cI2_229_a_target_nb_atoms128_rotid2_disp001.tar.gz\n",
      "INFO: Extracting file 4/5: /home/ziletti/Documents/calc_nomadml/rot_inv_3d/desc_folder/bcc/disp/A_cI2_229_a_target_nb_atoms128_rotid3_disp001.tar.gz\n",
      "INFO: Extracting file 4/5: /home/ziletti/Documents/calc_nomadml/rot_inv_3d/desc_folder/bcc/disp/A_cI2_229_a_target_nb_atoms128_rotid3_disp001.tar.gz\n",
      "INFO: Extracting file 4/5: /home/ziletti/Documents/calc_nomadml/rot_inv_3d/desc_folder/bcc/disp/A_cI2_229_a_target_nb_atoms128_rotid3_disp001.tar.gz\n",
      "INFO: Extracting file 5/5: /home/ziletti/Documents/calc_nomadml/rot_inv_3d/desc_folder/bcc/disp/A_cI2_229_a_target_nb_atoms128_rotid4_disp001.tar.gz\n",
      "INFO: Extracting file 5/5: /home/ziletti/Documents/calc_nomadml/rot_inv_3d/desc_folder/bcc/disp/A_cI2_229_a_target_nb_atoms128_rotid4_disp001.tar.gz\n",
      "INFO: Extracting file 5/5: /home/ziletti/Documents/calc_nomadml/rot_inv_3d/desc_folder/bcc/disp/A_cI2_229_a_target_nb_atoms128_rotid4_disp001.tar.gz\n"
     ]
    }
   ],
   "source": [
    "# hcp - spacegroup 194\n",
    "filenames_disp1_hcp = ['hcp/disp/A_hP2_194_c_target_nb_atoms128_rotid0_disp001.tar.gz',\n",
    "                        'hcp/disp/A_hP2_194_c_target_nb_atoms128_rotid1_disp001.tar.gz',\n",
    "                        'hcp/disp/A_hP2_194_c_target_nb_atoms128_rotid2_disp001.tar.gz',\n",
    "                        'hcp/disp/A_hP2_194_c_target_nb_atoms128_rotid3_disp001.tar.gz',\n",
    "                        'hcp/disp/A_hP2_194_c_target_nb_atoms128_rotid4_disp001.tar.gz']\n",
    "# sc - spacegroup 221\n",
    "filenames_disp1_sc = ['sc/disp/A_cP1_221_a_target_nb_atoms128_rotid0_disp001.tar.gz',\n",
    "                       'sc/disp/A_cP1_221_a_target_nb_atoms128_rotid1_disp001.tar.gz',\n",
    "                       'sc/disp/A_cP1_221_a_target_nb_atoms128_rotid2_disp001.tar.gz',\n",
    "                       'sc/disp/A_cP1_221_a_target_nb_atoms128_rotid3_disp001.tar.gz',\n",
    "                       'sc/disp/A_cP1_221_a_target_nb_atoms128_rotid4_disp001.tar.gz']\n",
    "\n",
    "# fcc - spacegroup 225\n",
    "filenames_disp1_fcc = ['fcc/disp/A_cF4_225_a_target_nb_atoms128_rotid0_disp001.tar.gz',\n",
    "                         'fcc/disp/A_cF4_225_a_target_nb_atoms128_rotid1_disp001.tar.gz',\n",
    "                         'fcc/disp/A_cF4_225_a_target_nb_atoms128_rotid2_disp001.tar.gz',\n",
    "                         'fcc/disp/A_cF4_225_a_target_nb_atoms128_rotid3_disp001.tar.gz',\n",
    "                         'fcc/disp/A_cF4_225_a_target_nb_atoms128_rotid4_disp001.tar.gz']\n",
    "\n",
    "# diam - spacegroup 227\n",
    "filenames_disp1_diam = ['diam/disp/A_cF8_227_a_target_nb_atoms128_rotid0_disp001.tar.gz',\n",
    "                          'diam/disp/A_cF8_227_a_target_nb_atoms128_rotid1_disp001.tar.gz',\n",
    "                          'diam/disp/A_cF8_227_a_target_nb_atoms128_rotid2_disp001.tar.gz',\n",
    "                          'diam/disp/A_cF8_227_a_target_nb_atoms128_rotid3_disp001.tar.gz',\n",
    "                          'diam/disp/A_cF8_227_a_target_nb_atoms128_rotid4_disp001.tar.gz']\n",
    "# bcc - spacegroup 229\n",
    "filenames_disp1_bcc = ['bcc/disp/A_cI2_229_a_target_nb_atoms128_rotid0_disp001.tar.gz',\n",
    "                         'bcc/disp/A_cI2_229_a_target_nb_atoms128_rotid1_disp001.tar.gz',\n",
    "                         'bcc/disp/A_cI2_229_a_target_nb_atoms128_rotid2_disp001.tar.gz',\n",
    "                         'bcc/disp/A_cI2_229_a_target_nb_atoms128_rotid3_disp001.tar.gz',\n",
    "                         'bcc/disp/A_cI2_229_a_target_nb_atoms128_rotid4_disp001.tar.gz']\n",
    "                         \n",
    "                         \n",
    "desc_files_disp1_hcp = [os.path.join(configs['io']['desc_folder'], item) for item in filenames_disp1_hcp]\n",
    "desc_files_disp1_sc = [os.path.join(configs['io']['desc_folder'], item) for item in filenames_disp1_sc]\n",
    "desc_files_disp1_fcc = [os.path.join(configs['io']['desc_folder'], item) for item in filenames_disp1_fcc]\n",
    "desc_files_disp1_diam = [os.path.join(configs['io']['desc_folder'], item) for item in filenames_disp1_diam]\n",
    "desc_files_disp1_bcc = [os.path.join(configs['io']['desc_folder'], item) for item in filenames_disp1_bcc]\n",
    "\n",
    "y_true = []\n",
    "target_list_hcp_disp1, structure_list_hcp_disp1 = load_descriptor(desc_files=desc_files_disp1_hcp, configs=configs)\n",
    "y_true = y_true + [194]*len(target_list_hcp_disp1)\n",
    "\n",
    "target_list_sc_disp1, structure_list_sc_disp1 = load_descriptor(desc_files=desc_files_disp1_sc, configs=configs)\n",
    "y_true = y_true + [221]*len(target_list_sc_disp1)\n",
    "\n",
    "target_list_fcc_disp1, structure_list_fcc_disp1 = load_descriptor(desc_files=desc_files_disp1_fcc, configs=configs)\n",
    "y_true = y_true + [225]*len(target_list_fcc_disp1)\n",
    "\n",
    "target_list_diam_disp1, structure_list_diam_disp1 = load_descriptor(desc_files=desc_files_disp1_diam, configs=configs)\n",
    "y_true = y_true + [227]*len(target_list_diam_disp1)\n",
    "\n",
    "target_list_bcc_disp1, structure_list_bcc_disp1 = load_descriptor(desc_files=desc_files_disp1_bcc, configs=configs)\n",
    "y_true = y_true + [229]*len(target_list_bcc_disp1)"
   ]
  },
  {
   "cell_type": "code",
   "execution_count": 48,
   "metadata": {
    "code_folding": []
   },
   "outputs": [],
   "source": [
    "structure_list_disp1 = structure_list_hcp_disp1 + structure_list_sc_disp1 + structure_list_fcc_disp1 + structure_list_diam_disp1 + structure_list_bcc_disp1\n",
    "target_list_disp1 = target_list_hcp_disp1 + target_list_sc_disp1 + target_list_fcc_disp1 + target_list_diam_disp1 + target_list_bcc_disp1\n",
    "\n",
    "for idx, item in enumerate(target_list_disp1):\n",
    "    item['data'][0]['target'] = y_true[idx]\n",
    "    \n",
    "for idx, structure in enumerate(structure_list_1):\n",
    "    structure.info['target'] = y_true[idx]\n",
    "    \n",
    "#y_pred_disp1 = []\n",
    "#for structure in structure_list_1:\n",
    "#    y_pred_disp1.append(ase_get_spacegroup(structure, symprec=1e-1).no)"
   ]
  },
  {
   "cell_type": "code",
   "execution_count": 49,
   "metadata": {},
   "outputs": [
    {
     "name": "stderr",
     "output_type": "stream",
     "text": [
      "INFO: Writing x to /home/ziletti/Documents/calc_nomadml/rot_inv_3d/datasets/hcp-sc-fcc-diam-bcc_displacement-1%_x.pkl\n",
      "INFO: Writing x to /home/ziletti/Documents/calc_nomadml/rot_inv_3d/datasets/hcp-sc-fcc-diam-bcc_displacement-1%_x.pkl\n",
      "INFO: Writing x to /home/ziletti/Documents/calc_nomadml/rot_inv_3d/datasets/hcp-sc-fcc-diam-bcc_displacement-1%_x.pkl\n",
      "INFO: Writing y to /home/ziletti/Documents/calc_nomadml/rot_inv_3d/datasets/hcp-sc-fcc-diam-bcc_displacement-1%_y.pkl\n",
      "INFO: Writing y to /home/ziletti/Documents/calc_nomadml/rot_inv_3d/datasets/hcp-sc-fcc-diam-bcc_displacement-1%_y.pkl\n",
      "INFO: Writing y to /home/ziletti/Documents/calc_nomadml/rot_inv_3d/datasets/hcp-sc-fcc-diam-bcc_displacement-1%_y.pkl\n",
      "INFO: Summary file written in /home/ziletti/Documents/calc_nomadml/rot_inv_3d/datasets/hcp-sc-fcc-diam-bcc_displacement-1%_summary.json.\n",
      "INFO: Summary file written in /home/ziletti/Documents/calc_nomadml/rot_inv_3d/datasets/hcp-sc-fcc-diam-bcc_displacement-1%_summary.json.\n",
      "INFO: Summary file written in /home/ziletti/Documents/calc_nomadml/rot_inv_3d/datasets/hcp-sc-fcc-diam-bcc_displacement-1%_summary.json.\n"
     ]
    },
    {
     "data": {
      "text/plain": [
       "Counter({0: 4500, 1: 900, 2: 900, 3: 900, 4: 900})"
      ]
     },
     "execution_count": 49,
     "metadata": {},
     "output_type": "execute_result"
    }
   ],
   "source": [
    "# make dataset\n",
    "\n",
    "path_to_x, path_to_y, path_to_summary = prepare_dataset(\n",
    "    structure_list=structure_list_disp1,\n",
    "    target_list=target_list_disp1,\n",
    "    desc_metadata='diffraction_3d_sh_spectrum',\n",
    "    dataset_name='hcp-sc-fcc-diam-bcc_displacement-1%',\n",
    "    target_name='target',\n",
    "    target_categorical=True,\n",
    "    input_dims=(50, 32),\n",
    "    configs=configs,\n",
    "    dataset_folder=dataset_folder,\n",
    "    main_folder=configs['io']['main_folder'],\n",
    "    desc_folder=configs['io']['desc_folder'],\n",
    "    tmp_folder=configs['io']['tmp_folder'],\n",
    "    notes=\"Hcp, sc, fcc, diam and sc structures with 1% displacement\")\n",
    "\n",
    "x, y, dataset_info = load_dataset_from_file(path_to_x=path_to_x, path_to_y=path_to_y,\n",
    "                                                              path_to_summary=path_to_summary)\n",
    "\n",
    "\n",
    "Counter(y)"
   ]
  },
  {
   "cell_type": "markdown",
   "metadata": {},
   "source": [
    "## Displacements 2.0%"
   ]
  },
  {
   "cell_type": "code",
   "execution_count": 50,
   "metadata": {
    "code_folding": []
   },
   "outputs": [
    {
     "name": "stderr",
     "output_type": "stream",
     "text": [
      "INFO: Extracting file 1/5: /home/ziletti/Documents/calc_nomadml/rot_inv_3d/desc_folder/hcp/disp/A_hP2_194_c_target_nb_atoms128_rotid0_disp002.tar.gz\n",
      "INFO: Extracting file 1/5: /home/ziletti/Documents/calc_nomadml/rot_inv_3d/desc_folder/hcp/disp/A_hP2_194_c_target_nb_atoms128_rotid0_disp002.tar.gz\n",
      "INFO: Extracting file 1/5: /home/ziletti/Documents/calc_nomadml/rot_inv_3d/desc_folder/hcp/disp/A_hP2_194_c_target_nb_atoms128_rotid0_disp002.tar.gz\n",
      "INFO: Extracting file 2/5: /home/ziletti/Documents/calc_nomadml/rot_inv_3d/desc_folder/hcp/disp/A_hP2_194_c_target_nb_atoms128_rotid1_disp002.tar.gz\n",
      "INFO: Extracting file 2/5: /home/ziletti/Documents/calc_nomadml/rot_inv_3d/desc_folder/hcp/disp/A_hP2_194_c_target_nb_atoms128_rotid1_disp002.tar.gz\n",
      "INFO: Extracting file 2/5: /home/ziletti/Documents/calc_nomadml/rot_inv_3d/desc_folder/hcp/disp/A_hP2_194_c_target_nb_atoms128_rotid1_disp002.tar.gz\n",
      "INFO: Extracting file 3/5: /home/ziletti/Documents/calc_nomadml/rot_inv_3d/desc_folder/hcp/disp/A_hP2_194_c_target_nb_atoms128_rotid2_disp002.tar.gz\n",
      "INFO: Extracting file 3/5: /home/ziletti/Documents/calc_nomadml/rot_inv_3d/desc_folder/hcp/disp/A_hP2_194_c_target_nb_atoms128_rotid2_disp002.tar.gz\n",
      "INFO: Extracting file 3/5: /home/ziletti/Documents/calc_nomadml/rot_inv_3d/desc_folder/hcp/disp/A_hP2_194_c_target_nb_atoms128_rotid2_disp002.tar.gz\n",
      "INFO: Extracting file 4/5: /home/ziletti/Documents/calc_nomadml/rot_inv_3d/desc_folder/hcp/disp/A_hP2_194_c_target_nb_atoms128_rotid3_disp002.tar.gz\n",
      "INFO: Extracting file 4/5: /home/ziletti/Documents/calc_nomadml/rot_inv_3d/desc_folder/hcp/disp/A_hP2_194_c_target_nb_atoms128_rotid3_disp002.tar.gz\n",
      "INFO: Extracting file 4/5: /home/ziletti/Documents/calc_nomadml/rot_inv_3d/desc_folder/hcp/disp/A_hP2_194_c_target_nb_atoms128_rotid3_disp002.tar.gz\n",
      "INFO: Extracting file 5/5: /home/ziletti/Documents/calc_nomadml/rot_inv_3d/desc_folder/hcp/disp/A_hP2_194_c_target_nb_atoms128_rotid4_disp002.tar.gz\n",
      "INFO: Extracting file 5/5: /home/ziletti/Documents/calc_nomadml/rot_inv_3d/desc_folder/hcp/disp/A_hP2_194_c_target_nb_atoms128_rotid4_disp002.tar.gz\n",
      "INFO: Extracting file 5/5: /home/ziletti/Documents/calc_nomadml/rot_inv_3d/desc_folder/hcp/disp/A_hP2_194_c_target_nb_atoms128_rotid4_disp002.tar.gz\n",
      "INFO: Extracting file 1/5: /home/ziletti/Documents/calc_nomadml/rot_inv_3d/desc_folder/sc/disp/A_cP1_221_a_target_nb_atoms128_rotid0_disp002.tar.gz\n",
      "INFO: Extracting file 1/5: /home/ziletti/Documents/calc_nomadml/rot_inv_3d/desc_folder/sc/disp/A_cP1_221_a_target_nb_atoms128_rotid0_disp002.tar.gz\n",
      "INFO: Extracting file 1/5: /home/ziletti/Documents/calc_nomadml/rot_inv_3d/desc_folder/sc/disp/A_cP1_221_a_target_nb_atoms128_rotid0_disp002.tar.gz\n",
      "INFO: Extracting file 2/5: /home/ziletti/Documents/calc_nomadml/rot_inv_3d/desc_folder/sc/disp/A_cP1_221_a_target_nb_atoms128_rotid1_disp002.tar.gz\n",
      "INFO: Extracting file 2/5: /home/ziletti/Documents/calc_nomadml/rot_inv_3d/desc_folder/sc/disp/A_cP1_221_a_target_nb_atoms128_rotid1_disp002.tar.gz\n",
      "INFO: Extracting file 2/5: /home/ziletti/Documents/calc_nomadml/rot_inv_3d/desc_folder/sc/disp/A_cP1_221_a_target_nb_atoms128_rotid1_disp002.tar.gz\n",
      "INFO: Extracting file 3/5: /home/ziletti/Documents/calc_nomadml/rot_inv_3d/desc_folder/sc/disp/A_cP1_221_a_target_nb_atoms128_rotid2_disp002.tar.gz\n",
      "INFO: Extracting file 3/5: /home/ziletti/Documents/calc_nomadml/rot_inv_3d/desc_folder/sc/disp/A_cP1_221_a_target_nb_atoms128_rotid2_disp002.tar.gz\n",
      "INFO: Extracting file 3/5: /home/ziletti/Documents/calc_nomadml/rot_inv_3d/desc_folder/sc/disp/A_cP1_221_a_target_nb_atoms128_rotid2_disp002.tar.gz\n",
      "INFO: Extracting file 4/5: /home/ziletti/Documents/calc_nomadml/rot_inv_3d/desc_folder/sc/disp/A_cP1_221_a_target_nb_atoms128_rotid3_disp002.tar.gz\n",
      "INFO: Extracting file 4/5: /home/ziletti/Documents/calc_nomadml/rot_inv_3d/desc_folder/sc/disp/A_cP1_221_a_target_nb_atoms128_rotid3_disp002.tar.gz\n",
      "INFO: Extracting file 4/5: /home/ziletti/Documents/calc_nomadml/rot_inv_3d/desc_folder/sc/disp/A_cP1_221_a_target_nb_atoms128_rotid3_disp002.tar.gz\n",
      "INFO: Extracting file 5/5: /home/ziletti/Documents/calc_nomadml/rot_inv_3d/desc_folder/sc/disp/A_cP1_221_a_target_nb_atoms128_rotid4_disp002.tar.gz\n",
      "INFO: Extracting file 5/5: /home/ziletti/Documents/calc_nomadml/rot_inv_3d/desc_folder/sc/disp/A_cP1_221_a_target_nb_atoms128_rotid4_disp002.tar.gz\n",
      "INFO: Extracting file 5/5: /home/ziletti/Documents/calc_nomadml/rot_inv_3d/desc_folder/sc/disp/A_cP1_221_a_target_nb_atoms128_rotid4_disp002.tar.gz\n",
      "INFO: Extracting file 1/5: /home/ziletti/Documents/calc_nomadml/rot_inv_3d/desc_folder/fcc/disp/A_cF4_225_a_target_nb_atoms128_rotid0_disp002.tar.gz\n",
      "INFO: Extracting file 1/5: /home/ziletti/Documents/calc_nomadml/rot_inv_3d/desc_folder/fcc/disp/A_cF4_225_a_target_nb_atoms128_rotid0_disp002.tar.gz\n",
      "INFO: Extracting file 1/5: /home/ziletti/Documents/calc_nomadml/rot_inv_3d/desc_folder/fcc/disp/A_cF4_225_a_target_nb_atoms128_rotid0_disp002.tar.gz\n",
      "INFO: Extracting file 2/5: /home/ziletti/Documents/calc_nomadml/rot_inv_3d/desc_folder/fcc/disp/A_cF4_225_a_target_nb_atoms128_rotid1_disp002.tar.gz\n",
      "INFO: Extracting file 2/5: /home/ziletti/Documents/calc_nomadml/rot_inv_3d/desc_folder/fcc/disp/A_cF4_225_a_target_nb_atoms128_rotid1_disp002.tar.gz\n",
      "INFO: Extracting file 2/5: /home/ziletti/Documents/calc_nomadml/rot_inv_3d/desc_folder/fcc/disp/A_cF4_225_a_target_nb_atoms128_rotid1_disp002.tar.gz\n",
      "INFO: Extracting file 3/5: /home/ziletti/Documents/calc_nomadml/rot_inv_3d/desc_folder/fcc/disp/A_cF4_225_a_target_nb_atoms128_rotid2_disp002.tar.gz\n",
      "INFO: Extracting file 3/5: /home/ziletti/Documents/calc_nomadml/rot_inv_3d/desc_folder/fcc/disp/A_cF4_225_a_target_nb_atoms128_rotid2_disp002.tar.gz\n",
      "INFO: Extracting file 3/5: /home/ziletti/Documents/calc_nomadml/rot_inv_3d/desc_folder/fcc/disp/A_cF4_225_a_target_nb_atoms128_rotid2_disp002.tar.gz\n",
      "INFO: Extracting file 4/5: /home/ziletti/Documents/calc_nomadml/rot_inv_3d/desc_folder/fcc/disp/A_cF4_225_a_target_nb_atoms128_rotid3_disp002.tar.gz\n",
      "INFO: Extracting file 4/5: /home/ziletti/Documents/calc_nomadml/rot_inv_3d/desc_folder/fcc/disp/A_cF4_225_a_target_nb_atoms128_rotid3_disp002.tar.gz\n",
      "INFO: Extracting file 4/5: /home/ziletti/Documents/calc_nomadml/rot_inv_3d/desc_folder/fcc/disp/A_cF4_225_a_target_nb_atoms128_rotid3_disp002.tar.gz\n",
      "INFO: Extracting file 5/5: /home/ziletti/Documents/calc_nomadml/rot_inv_3d/desc_folder/fcc/disp/A_cF4_225_a_target_nb_atoms128_rotid4_disp002.tar.gz\n",
      "INFO: Extracting file 5/5: /home/ziletti/Documents/calc_nomadml/rot_inv_3d/desc_folder/fcc/disp/A_cF4_225_a_target_nb_atoms128_rotid4_disp002.tar.gz\n",
      "INFO: Extracting file 5/5: /home/ziletti/Documents/calc_nomadml/rot_inv_3d/desc_folder/fcc/disp/A_cF4_225_a_target_nb_atoms128_rotid4_disp002.tar.gz\n",
      "INFO: Extracting file 1/5: /home/ziletti/Documents/calc_nomadml/rot_inv_3d/desc_folder/diam/disp/A_cF8_227_a_target_nb_atoms128_rotid0_disp002.tar.gz\n",
      "INFO: Extracting file 1/5: /home/ziletti/Documents/calc_nomadml/rot_inv_3d/desc_folder/diam/disp/A_cF8_227_a_target_nb_atoms128_rotid0_disp002.tar.gz\n",
      "INFO: Extracting file 1/5: /home/ziletti/Documents/calc_nomadml/rot_inv_3d/desc_folder/diam/disp/A_cF8_227_a_target_nb_atoms128_rotid0_disp002.tar.gz\n",
      "INFO: Extracting file 2/5: /home/ziletti/Documents/calc_nomadml/rot_inv_3d/desc_folder/diam/disp/A_cF8_227_a_target_nb_atoms128_rotid1_disp002.tar.gz\n",
      "INFO: Extracting file 2/5: /home/ziletti/Documents/calc_nomadml/rot_inv_3d/desc_folder/diam/disp/A_cF8_227_a_target_nb_atoms128_rotid1_disp002.tar.gz\n",
      "INFO: Extracting file 2/5: /home/ziletti/Documents/calc_nomadml/rot_inv_3d/desc_folder/diam/disp/A_cF8_227_a_target_nb_atoms128_rotid1_disp002.tar.gz\n",
      "INFO: Extracting file 3/5: /home/ziletti/Documents/calc_nomadml/rot_inv_3d/desc_folder/diam/disp/A_cF8_227_a_target_nb_atoms128_rotid2_disp002.tar.gz\n",
      "INFO: Extracting file 3/5: /home/ziletti/Documents/calc_nomadml/rot_inv_3d/desc_folder/diam/disp/A_cF8_227_a_target_nb_atoms128_rotid2_disp002.tar.gz\n",
      "INFO: Extracting file 3/5: /home/ziletti/Documents/calc_nomadml/rot_inv_3d/desc_folder/diam/disp/A_cF8_227_a_target_nb_atoms128_rotid2_disp002.tar.gz\n",
      "INFO: Extracting file 4/5: /home/ziletti/Documents/calc_nomadml/rot_inv_3d/desc_folder/diam/disp/A_cF8_227_a_target_nb_atoms128_rotid3_disp002.tar.gz\n",
      "INFO: Extracting file 4/5: /home/ziletti/Documents/calc_nomadml/rot_inv_3d/desc_folder/diam/disp/A_cF8_227_a_target_nb_atoms128_rotid3_disp002.tar.gz\n"
     ]
    },
    {
     "name": "stderr",
     "output_type": "stream",
     "text": [
      "INFO: Extracting file 4/5: /home/ziletti/Documents/calc_nomadml/rot_inv_3d/desc_folder/diam/disp/A_cF8_227_a_target_nb_atoms128_rotid3_disp002.tar.gz\n",
      "INFO: Extracting file 5/5: /home/ziletti/Documents/calc_nomadml/rot_inv_3d/desc_folder/diam/disp/A_cF8_227_a_target_nb_atoms128_rotid4_disp002.tar.gz\n",
      "INFO: Extracting file 5/5: /home/ziletti/Documents/calc_nomadml/rot_inv_3d/desc_folder/diam/disp/A_cF8_227_a_target_nb_atoms128_rotid4_disp002.tar.gz\n",
      "INFO: Extracting file 5/5: /home/ziletti/Documents/calc_nomadml/rot_inv_3d/desc_folder/diam/disp/A_cF8_227_a_target_nb_atoms128_rotid4_disp002.tar.gz\n",
      "INFO: Extracting file 1/5: /home/ziletti/Documents/calc_nomadml/rot_inv_3d/desc_folder/bcc/disp/A_cI2_229_a_target_nb_atoms128_rotid0_disp002.tar.gz\n",
      "INFO: Extracting file 1/5: /home/ziletti/Documents/calc_nomadml/rot_inv_3d/desc_folder/bcc/disp/A_cI2_229_a_target_nb_atoms128_rotid0_disp002.tar.gz\n",
      "INFO: Extracting file 1/5: /home/ziletti/Documents/calc_nomadml/rot_inv_3d/desc_folder/bcc/disp/A_cI2_229_a_target_nb_atoms128_rotid0_disp002.tar.gz\n",
      "INFO: Extracting file 2/5: /home/ziletti/Documents/calc_nomadml/rot_inv_3d/desc_folder/bcc/disp/A_cI2_229_a_target_nb_atoms128_rotid1_disp002.tar.gz\n",
      "INFO: Extracting file 2/5: /home/ziletti/Documents/calc_nomadml/rot_inv_3d/desc_folder/bcc/disp/A_cI2_229_a_target_nb_atoms128_rotid1_disp002.tar.gz\n",
      "INFO: Extracting file 2/5: /home/ziletti/Documents/calc_nomadml/rot_inv_3d/desc_folder/bcc/disp/A_cI2_229_a_target_nb_atoms128_rotid1_disp002.tar.gz\n",
      "INFO: Extracting file 3/5: /home/ziletti/Documents/calc_nomadml/rot_inv_3d/desc_folder/bcc/disp/A_cI2_229_a_target_nb_atoms128_rotid2_disp002.tar.gz\n",
      "INFO: Extracting file 3/5: /home/ziletti/Documents/calc_nomadml/rot_inv_3d/desc_folder/bcc/disp/A_cI2_229_a_target_nb_atoms128_rotid2_disp002.tar.gz\n",
      "INFO: Extracting file 3/5: /home/ziletti/Documents/calc_nomadml/rot_inv_3d/desc_folder/bcc/disp/A_cI2_229_a_target_nb_atoms128_rotid2_disp002.tar.gz\n",
      "INFO: Extracting file 4/5: /home/ziletti/Documents/calc_nomadml/rot_inv_3d/desc_folder/bcc/disp/A_cI2_229_a_target_nb_atoms128_rotid3_disp002.tar.gz\n",
      "INFO: Extracting file 4/5: /home/ziletti/Documents/calc_nomadml/rot_inv_3d/desc_folder/bcc/disp/A_cI2_229_a_target_nb_atoms128_rotid3_disp002.tar.gz\n",
      "INFO: Extracting file 4/5: /home/ziletti/Documents/calc_nomadml/rot_inv_3d/desc_folder/bcc/disp/A_cI2_229_a_target_nb_atoms128_rotid3_disp002.tar.gz\n",
      "INFO: Extracting file 5/5: /home/ziletti/Documents/calc_nomadml/rot_inv_3d/desc_folder/bcc/disp/A_cI2_229_a_target_nb_atoms128_rotid4_disp002.tar.gz\n",
      "INFO: Extracting file 5/5: /home/ziletti/Documents/calc_nomadml/rot_inv_3d/desc_folder/bcc/disp/A_cI2_229_a_target_nb_atoms128_rotid4_disp002.tar.gz\n",
      "INFO: Extracting file 5/5: /home/ziletti/Documents/calc_nomadml/rot_inv_3d/desc_folder/bcc/disp/A_cI2_229_a_target_nb_atoms128_rotid4_disp002.tar.gz\n"
     ]
    }
   ],
   "source": [
    "# hcp - spacegroup 194\n",
    "filenames_disp2_hcp = ['hcp/disp/A_hP2_194_c_target_nb_atoms128_rotid0_disp002.tar.gz',\n",
    "                        'hcp/disp/A_hP2_194_c_target_nb_atoms128_rotid1_disp002.tar.gz',\n",
    "                        'hcp/disp/A_hP2_194_c_target_nb_atoms128_rotid2_disp002.tar.gz',\n",
    "                        'hcp/disp/A_hP2_194_c_target_nb_atoms128_rotid3_disp002.tar.gz',\n",
    "                        'hcp/disp/A_hP2_194_c_target_nb_atoms128_rotid4_disp002.tar.gz']\n",
    "# sc - spacegroup 221\n",
    "filenames_disp2_sc = ['sc/disp/A_cP1_221_a_target_nb_atoms128_rotid0_disp002.tar.gz',\n",
    "                       'sc/disp/A_cP1_221_a_target_nb_atoms128_rotid1_disp002.tar.gz',\n",
    "                       'sc/disp/A_cP1_221_a_target_nb_atoms128_rotid2_disp002.tar.gz',\n",
    "                       'sc/disp/A_cP1_221_a_target_nb_atoms128_rotid3_disp002.tar.gz',\n",
    "                       'sc/disp/A_cP1_221_a_target_nb_atoms128_rotid4_disp002.tar.gz']\n",
    "\n",
    "# fcc - spacegroup 225\n",
    "filenames_disp2_fcc = ['fcc/disp/A_cF4_225_a_target_nb_atoms128_rotid0_disp002.tar.gz',\n",
    "                         'fcc/disp/A_cF4_225_a_target_nb_atoms128_rotid1_disp002.tar.gz',\n",
    "                         'fcc/disp/A_cF4_225_a_target_nb_atoms128_rotid2_disp002.tar.gz',\n",
    "                         'fcc/disp/A_cF4_225_a_target_nb_atoms128_rotid3_disp002.tar.gz',\n",
    "                         'fcc/disp/A_cF4_225_a_target_nb_atoms128_rotid4_disp002.tar.gz']\n",
    "\n",
    "# diam - spacegroup 227\n",
    "filenames_disp2_diam = ['diam/disp/A_cF8_227_a_target_nb_atoms128_rotid0_disp002.tar.gz',\n",
    "                          'diam/disp/A_cF8_227_a_target_nb_atoms128_rotid1_disp002.tar.gz',\n",
    "                          'diam/disp/A_cF8_227_a_target_nb_atoms128_rotid2_disp002.tar.gz',\n",
    "                          'diam/disp/A_cF8_227_a_target_nb_atoms128_rotid3_disp002.tar.gz',\n",
    "                          'diam/disp/A_cF8_227_a_target_nb_atoms128_rotid4_disp002.tar.gz']\n",
    "# bcc - spacegroup 229\n",
    "filenames_disp2_bcc = ['bcc/disp/A_cI2_229_a_target_nb_atoms128_rotid0_disp002.tar.gz',\n",
    "                         'bcc/disp/A_cI2_229_a_target_nb_atoms128_rotid1_disp002.tar.gz',\n",
    "                         'bcc/disp/A_cI2_229_a_target_nb_atoms128_rotid2_disp002.tar.gz',\n",
    "                         'bcc/disp/A_cI2_229_a_target_nb_atoms128_rotid3_disp002.tar.gz',\n",
    "                         'bcc/disp/A_cI2_229_a_target_nb_atoms128_rotid4_disp002.tar.gz']\n",
    "                         \n",
    "                         \n",
    "desc_files_disp2_hcp = [os.path.join(configs['io']['desc_folder'], item) for item in filenames_disp2_hcp]\n",
    "desc_files_disp2_sc = [os.path.join(configs['io']['desc_folder'], item) for item in filenames_disp2_sc]\n",
    "desc_files_disp2_fcc = [os.path.join(configs['io']['desc_folder'], item) for item in filenames_disp2_fcc]\n",
    "desc_files_disp2_diam = [os.path.join(configs['io']['desc_folder'], item) for item in filenames_disp2_diam]\n",
    "desc_files_disp2_bcc = [os.path.join(configs['io']['desc_folder'], item) for item in filenames_disp2_bcc]\n",
    "\n",
    "y_true = []\n",
    "target_list_hcp_disp2, structure_list_hcp_disp2 = load_descriptor(desc_files=desc_files_disp2_hcp, configs=configs)\n",
    "y_true = y_true + [194]*len(structure_list_hcp_disp2)\n",
    "\n",
    "target_list_sc_disp2, structure_list_sc_disp2 = load_descriptor(desc_files=desc_files_disp2_sc, configs=configs)\n",
    "y_true = y_true + [221]*len(structure_list_sc_disp2)\n",
    "\n",
    "target_list_fcc_disp2, structure_list_fcc_disp2 = load_descriptor(desc_files=desc_files_disp2_fcc, configs=configs)\n",
    "y_true = y_true + [225]*len(structure_list_fcc_disp2)\n",
    "\n",
    "target_list_diam_disp2, structure_list_diam_disp2 = load_descriptor(desc_files=desc_files_disp2_diam, configs=configs)\n",
    "y_true = y_true + [227]*len(structure_list_diam_disp2)\n",
    "\n",
    "target_list_bcc_disp2, structure_list_bcc_disp2 = load_descriptor(desc_files=desc_files_disp2_bcc, configs=configs)\n",
    "y_true = y_true + [229]*len(structure_list_bcc_disp2)"
   ]
  },
  {
   "cell_type": "code",
   "execution_count": 51,
   "metadata": {
    "code_folding": []
   },
   "outputs": [],
   "source": [
    "structure_list_disp2 = structure_list_hcp_disp2 + structure_list_sc_disp2 + structure_list_fcc_disp2 + structure_list_diam_disp2 + structure_list_bcc_disp2\n",
    "target_list_disp2 = target_list_hcp_disp2 + target_list_sc_disp2 + target_list_fcc_disp2 + target_list_diam_disp2 + target_list_bcc_disp2\n",
    "\n",
    "for idx, item in enumerate(target_list_disp2):\n",
    "    item['data'][0]['target'] = y_true[idx]\n",
    "    \n",
    "for idx, structure in enumerate(structure_list_disp2):\n",
    "    structure.info['target'] = y_true[idx]\n",
    "    \n",
    "#y_pred_disp2 = []\n",
    "#for structure in structure_list_2:\n",
    "#    y_pred_disp2.append(ase_get_spacegroup(structure, symprec=1e-1).no)"
   ]
  },
  {
   "cell_type": "code",
   "execution_count": 52,
   "metadata": {},
   "outputs": [
    {
     "name": "stderr",
     "output_type": "stream",
     "text": [
      "INFO: Writing x to /home/ziletti/Documents/calc_nomadml/rot_inv_3d/datasets/hcp-sc-fcc-diam-bcc_displacement-2%_x.pkl\n",
      "INFO: Writing x to /home/ziletti/Documents/calc_nomadml/rot_inv_3d/datasets/hcp-sc-fcc-diam-bcc_displacement-2%_x.pkl\n",
      "INFO: Writing x to /home/ziletti/Documents/calc_nomadml/rot_inv_3d/datasets/hcp-sc-fcc-diam-bcc_displacement-2%_x.pkl\n",
      "INFO: Writing y to /home/ziletti/Documents/calc_nomadml/rot_inv_3d/datasets/hcp-sc-fcc-diam-bcc_displacement-2%_y.pkl\n",
      "INFO: Writing y to /home/ziletti/Documents/calc_nomadml/rot_inv_3d/datasets/hcp-sc-fcc-diam-bcc_displacement-2%_y.pkl\n",
      "INFO: Writing y to /home/ziletti/Documents/calc_nomadml/rot_inv_3d/datasets/hcp-sc-fcc-diam-bcc_displacement-2%_y.pkl\n",
      "INFO: Summary file written in /home/ziletti/Documents/calc_nomadml/rot_inv_3d/datasets/hcp-sc-fcc-diam-bcc_displacement-2%_summary.json.\n",
      "INFO: Summary file written in /home/ziletti/Documents/calc_nomadml/rot_inv_3d/datasets/hcp-sc-fcc-diam-bcc_displacement-2%_summary.json.\n",
      "INFO: Summary file written in /home/ziletti/Documents/calc_nomadml/rot_inv_3d/datasets/hcp-sc-fcc-diam-bcc_displacement-2%_summary.json.\n"
     ]
    },
    {
     "data": {
      "text/plain": [
       "Counter({0: 4500, 1: 900, 2: 900, 3: 900, 4: 900})"
      ]
     },
     "execution_count": 52,
     "metadata": {},
     "output_type": "execute_result"
    }
   ],
   "source": [
    "# make dataset\n",
    "\n",
    "path_to_x, path_to_y, path_to_summary = prepare_dataset(\n",
    "    structure_list=structure_list_disp2,\n",
    "    target_list=target_list_disp2,\n",
    "    desc_metadata='diffraction_3d_sh_spectrum',\n",
    "    dataset_name='hcp-sc-fcc-diam-bcc_displacement-2%',\n",
    "    target_name='target',\n",
    "    target_categorical=True,\n",
    "    input_dims=(50, 32),\n",
    "    configs=configs,\n",
    "    dataset_folder=dataset_folder,\n",
    "    main_folder=configs['io']['main_folder'],\n",
    "    desc_folder=configs['io']['desc_folder'],\n",
    "    tmp_folder=configs['io']['tmp_folder'],\n",
    "    notes=\"Hcp, sc, fcc, diam and sc structures with 2% displacement\")\n",
    "\n",
    "x, y, dataset_info = load_dataset_from_file(path_to_x=path_to_x, path_to_y=path_to_y,\n",
    "                                                              path_to_summary=path_to_summary)\n",
    "\n",
    "\n",
    "Counter(y)"
   ]
  },
  {
   "cell_type": "markdown",
   "metadata": {},
   "source": [
    "## Displacements 4.0%"
   ]
  },
  {
   "cell_type": "code",
   "execution_count": 53,
   "metadata": {
    "code_folding": []
   },
   "outputs": [
    {
     "name": "stderr",
     "output_type": "stream",
     "text": [
      "INFO: Extracting file 1/5: /home/ziletti/Documents/calc_nomadml/rot_inv_3d/desc_folder/hcp/disp/A_hP2_194_c_target_nb_atoms128_rotid0_disp004.tar.gz\n",
      "INFO: Extracting file 1/5: /home/ziletti/Documents/calc_nomadml/rot_inv_3d/desc_folder/hcp/disp/A_hP2_194_c_target_nb_atoms128_rotid0_disp004.tar.gz\n",
      "INFO: Extracting file 1/5: /home/ziletti/Documents/calc_nomadml/rot_inv_3d/desc_folder/hcp/disp/A_hP2_194_c_target_nb_atoms128_rotid0_disp004.tar.gz\n",
      "INFO: Extracting file 2/5: /home/ziletti/Documents/calc_nomadml/rot_inv_3d/desc_folder/hcp/disp/A_hP2_194_c_target_nb_atoms128_rotid1_disp004.tar.gz\n",
      "INFO: Extracting file 2/5: /home/ziletti/Documents/calc_nomadml/rot_inv_3d/desc_folder/hcp/disp/A_hP2_194_c_target_nb_atoms128_rotid1_disp004.tar.gz\n",
      "INFO: Extracting file 2/5: /home/ziletti/Documents/calc_nomadml/rot_inv_3d/desc_folder/hcp/disp/A_hP2_194_c_target_nb_atoms128_rotid1_disp004.tar.gz\n",
      "INFO: Extracting file 3/5: /home/ziletti/Documents/calc_nomadml/rot_inv_3d/desc_folder/hcp/disp/A_hP2_194_c_target_nb_atoms128_rotid2_disp004.tar.gz\n",
      "INFO: Extracting file 3/5: /home/ziletti/Documents/calc_nomadml/rot_inv_3d/desc_folder/hcp/disp/A_hP2_194_c_target_nb_atoms128_rotid2_disp004.tar.gz\n",
      "INFO: Extracting file 3/5: /home/ziletti/Documents/calc_nomadml/rot_inv_3d/desc_folder/hcp/disp/A_hP2_194_c_target_nb_atoms128_rotid2_disp004.tar.gz\n",
      "INFO: Extracting file 4/5: /home/ziletti/Documents/calc_nomadml/rot_inv_3d/desc_folder/hcp/disp/A_hP2_194_c_target_nb_atoms128_rotid3_disp004.tar.gz\n",
      "INFO: Extracting file 4/5: /home/ziletti/Documents/calc_nomadml/rot_inv_3d/desc_folder/hcp/disp/A_hP2_194_c_target_nb_atoms128_rotid3_disp004.tar.gz\n",
      "INFO: Extracting file 4/5: /home/ziletti/Documents/calc_nomadml/rot_inv_3d/desc_folder/hcp/disp/A_hP2_194_c_target_nb_atoms128_rotid3_disp004.tar.gz\n",
      "INFO: Extracting file 5/5: /home/ziletti/Documents/calc_nomadml/rot_inv_3d/desc_folder/hcp/disp/A_hP2_194_c_target_nb_atoms128_rotid4_disp004.tar.gz\n",
      "INFO: Extracting file 5/5: /home/ziletti/Documents/calc_nomadml/rot_inv_3d/desc_folder/hcp/disp/A_hP2_194_c_target_nb_atoms128_rotid4_disp004.tar.gz\n",
      "INFO: Extracting file 5/5: /home/ziletti/Documents/calc_nomadml/rot_inv_3d/desc_folder/hcp/disp/A_hP2_194_c_target_nb_atoms128_rotid4_disp004.tar.gz\n",
      "INFO: Extracting file 1/5: /home/ziletti/Documents/calc_nomadml/rot_inv_3d/desc_folder/sc/disp/A_cP1_221_a_target_nb_atoms128_rotid0_disp004.tar.gz\n",
      "INFO: Extracting file 1/5: /home/ziletti/Documents/calc_nomadml/rot_inv_3d/desc_folder/sc/disp/A_cP1_221_a_target_nb_atoms128_rotid0_disp004.tar.gz\n",
      "INFO: Extracting file 1/5: /home/ziletti/Documents/calc_nomadml/rot_inv_3d/desc_folder/sc/disp/A_cP1_221_a_target_nb_atoms128_rotid0_disp004.tar.gz\n",
      "INFO: Extracting file 2/5: /home/ziletti/Documents/calc_nomadml/rot_inv_3d/desc_folder/sc/disp/A_cP1_221_a_target_nb_atoms128_rotid1_disp004.tar.gz\n",
      "INFO: Extracting file 2/5: /home/ziletti/Documents/calc_nomadml/rot_inv_3d/desc_folder/sc/disp/A_cP1_221_a_target_nb_atoms128_rotid1_disp004.tar.gz\n",
      "INFO: Extracting file 2/5: /home/ziletti/Documents/calc_nomadml/rot_inv_3d/desc_folder/sc/disp/A_cP1_221_a_target_nb_atoms128_rotid1_disp004.tar.gz\n",
      "INFO: Extracting file 3/5: /home/ziletti/Documents/calc_nomadml/rot_inv_3d/desc_folder/sc/disp/A_cP1_221_a_target_nb_atoms128_rotid2_disp004.tar.gz\n",
      "INFO: Extracting file 3/5: /home/ziletti/Documents/calc_nomadml/rot_inv_3d/desc_folder/sc/disp/A_cP1_221_a_target_nb_atoms128_rotid2_disp004.tar.gz\n",
      "INFO: Extracting file 3/5: /home/ziletti/Documents/calc_nomadml/rot_inv_3d/desc_folder/sc/disp/A_cP1_221_a_target_nb_atoms128_rotid2_disp004.tar.gz\n",
      "INFO: Extracting file 4/5: /home/ziletti/Documents/calc_nomadml/rot_inv_3d/desc_folder/sc/disp/A_cP1_221_a_target_nb_atoms128_rotid3_disp004.tar.gz\n",
      "INFO: Extracting file 4/5: /home/ziletti/Documents/calc_nomadml/rot_inv_3d/desc_folder/sc/disp/A_cP1_221_a_target_nb_atoms128_rotid3_disp004.tar.gz\n",
      "INFO: Extracting file 4/5: /home/ziletti/Documents/calc_nomadml/rot_inv_3d/desc_folder/sc/disp/A_cP1_221_a_target_nb_atoms128_rotid3_disp004.tar.gz\n",
      "INFO: Extracting file 5/5: /home/ziletti/Documents/calc_nomadml/rot_inv_3d/desc_folder/sc/disp/A_cP1_221_a_target_nb_atoms128_rotid4_disp004.tar.gz\n",
      "INFO: Extracting file 5/5: /home/ziletti/Documents/calc_nomadml/rot_inv_3d/desc_folder/sc/disp/A_cP1_221_a_target_nb_atoms128_rotid4_disp004.tar.gz\n",
      "INFO: Extracting file 5/5: /home/ziletti/Documents/calc_nomadml/rot_inv_3d/desc_folder/sc/disp/A_cP1_221_a_target_nb_atoms128_rotid4_disp004.tar.gz\n",
      "INFO: Extracting file 1/5: /home/ziletti/Documents/calc_nomadml/rot_inv_3d/desc_folder/fcc/disp/A_cF4_225_a_target_nb_atoms128_rotid0_disp004.tar.gz\n",
      "INFO: Extracting file 1/5: /home/ziletti/Documents/calc_nomadml/rot_inv_3d/desc_folder/fcc/disp/A_cF4_225_a_target_nb_atoms128_rotid0_disp004.tar.gz\n",
      "INFO: Extracting file 1/5: /home/ziletti/Documents/calc_nomadml/rot_inv_3d/desc_folder/fcc/disp/A_cF4_225_a_target_nb_atoms128_rotid0_disp004.tar.gz\n",
      "INFO: Extracting file 2/5: /home/ziletti/Documents/calc_nomadml/rot_inv_3d/desc_folder/fcc/disp/A_cF4_225_a_target_nb_atoms128_rotid1_disp004.tar.gz\n",
      "INFO: Extracting file 2/5: /home/ziletti/Documents/calc_nomadml/rot_inv_3d/desc_folder/fcc/disp/A_cF4_225_a_target_nb_atoms128_rotid1_disp004.tar.gz\n",
      "INFO: Extracting file 2/5: /home/ziletti/Documents/calc_nomadml/rot_inv_3d/desc_folder/fcc/disp/A_cF4_225_a_target_nb_atoms128_rotid1_disp004.tar.gz\n",
      "INFO: Extracting file 3/5: /home/ziletti/Documents/calc_nomadml/rot_inv_3d/desc_folder/fcc/disp/A_cF4_225_a_target_nb_atoms128_rotid2_disp004.tar.gz\n",
      "INFO: Extracting file 3/5: /home/ziletti/Documents/calc_nomadml/rot_inv_3d/desc_folder/fcc/disp/A_cF4_225_a_target_nb_atoms128_rotid2_disp004.tar.gz\n",
      "INFO: Extracting file 3/5: /home/ziletti/Documents/calc_nomadml/rot_inv_3d/desc_folder/fcc/disp/A_cF4_225_a_target_nb_atoms128_rotid2_disp004.tar.gz\n",
      "INFO: Extracting file 4/5: /home/ziletti/Documents/calc_nomadml/rot_inv_3d/desc_folder/fcc/disp/A_cF4_225_a_target_nb_atoms128_rotid3_disp004.tar.gz\n",
      "INFO: Extracting file 4/5: /home/ziletti/Documents/calc_nomadml/rot_inv_3d/desc_folder/fcc/disp/A_cF4_225_a_target_nb_atoms128_rotid3_disp004.tar.gz\n",
      "INFO: Extracting file 4/5: /home/ziletti/Documents/calc_nomadml/rot_inv_3d/desc_folder/fcc/disp/A_cF4_225_a_target_nb_atoms128_rotid3_disp004.tar.gz\n",
      "INFO: Extracting file 5/5: /home/ziletti/Documents/calc_nomadml/rot_inv_3d/desc_folder/fcc/disp/A_cF4_225_a_target_nb_atoms128_rotid4_disp004.tar.gz\n",
      "INFO: Extracting file 5/5: /home/ziletti/Documents/calc_nomadml/rot_inv_3d/desc_folder/fcc/disp/A_cF4_225_a_target_nb_atoms128_rotid4_disp004.tar.gz\n",
      "INFO: Extracting file 5/5: /home/ziletti/Documents/calc_nomadml/rot_inv_3d/desc_folder/fcc/disp/A_cF4_225_a_target_nb_atoms128_rotid4_disp004.tar.gz\n",
      "INFO: Extracting file 1/5: /home/ziletti/Documents/calc_nomadml/rot_inv_3d/desc_folder/diam/disp/A_cF8_227_a_target_nb_atoms128_rotid0_disp004.tar.gz\n",
      "INFO: Extracting file 1/5: /home/ziletti/Documents/calc_nomadml/rot_inv_3d/desc_folder/diam/disp/A_cF8_227_a_target_nb_atoms128_rotid0_disp004.tar.gz\n",
      "INFO: Extracting file 1/5: /home/ziletti/Documents/calc_nomadml/rot_inv_3d/desc_folder/diam/disp/A_cF8_227_a_target_nb_atoms128_rotid0_disp004.tar.gz\n",
      "INFO: Extracting file 2/5: /home/ziletti/Documents/calc_nomadml/rot_inv_3d/desc_folder/diam/disp/A_cF8_227_a_target_nb_atoms128_rotid1_disp004.tar.gz\n",
      "INFO: Extracting file 2/5: /home/ziletti/Documents/calc_nomadml/rot_inv_3d/desc_folder/diam/disp/A_cF8_227_a_target_nb_atoms128_rotid1_disp004.tar.gz\n",
      "INFO: Extracting file 2/5: /home/ziletti/Documents/calc_nomadml/rot_inv_3d/desc_folder/diam/disp/A_cF8_227_a_target_nb_atoms128_rotid1_disp004.tar.gz\n",
      "INFO: Extracting file 3/5: /home/ziletti/Documents/calc_nomadml/rot_inv_3d/desc_folder/diam/disp/A_cF8_227_a_target_nb_atoms128_rotid2_disp004.tar.gz\n",
      "INFO: Extracting file 3/5: /home/ziletti/Documents/calc_nomadml/rot_inv_3d/desc_folder/diam/disp/A_cF8_227_a_target_nb_atoms128_rotid2_disp004.tar.gz\n",
      "INFO: Extracting file 3/5: /home/ziletti/Documents/calc_nomadml/rot_inv_3d/desc_folder/diam/disp/A_cF8_227_a_target_nb_atoms128_rotid2_disp004.tar.gz\n",
      "INFO: Extracting file 4/5: /home/ziletti/Documents/calc_nomadml/rot_inv_3d/desc_folder/diam/disp/A_cF8_227_a_target_nb_atoms128_rotid3_disp004.tar.gz\n",
      "INFO: Extracting file 4/5: /home/ziletti/Documents/calc_nomadml/rot_inv_3d/desc_folder/diam/disp/A_cF8_227_a_target_nb_atoms128_rotid3_disp004.tar.gz\n"
     ]
    },
    {
     "name": "stderr",
     "output_type": "stream",
     "text": [
      "INFO: Extracting file 4/5: /home/ziletti/Documents/calc_nomadml/rot_inv_3d/desc_folder/diam/disp/A_cF8_227_a_target_nb_atoms128_rotid3_disp004.tar.gz\n",
      "INFO: Extracting file 5/5: /home/ziletti/Documents/calc_nomadml/rot_inv_3d/desc_folder/diam/disp/A_cF8_227_a_target_nb_atoms128_rotid4_disp004.tar.gz\n",
      "INFO: Extracting file 5/5: /home/ziletti/Documents/calc_nomadml/rot_inv_3d/desc_folder/diam/disp/A_cF8_227_a_target_nb_atoms128_rotid4_disp004.tar.gz\n",
      "INFO: Extracting file 5/5: /home/ziletti/Documents/calc_nomadml/rot_inv_3d/desc_folder/diam/disp/A_cF8_227_a_target_nb_atoms128_rotid4_disp004.tar.gz\n",
      "INFO: Extracting file 1/5: /home/ziletti/Documents/calc_nomadml/rot_inv_3d/desc_folder/bcc/disp/A_cI2_229_a_target_nb_atoms128_rotid0_disp004.tar.gz\n",
      "INFO: Extracting file 1/5: /home/ziletti/Documents/calc_nomadml/rot_inv_3d/desc_folder/bcc/disp/A_cI2_229_a_target_nb_atoms128_rotid0_disp004.tar.gz\n",
      "INFO: Extracting file 1/5: /home/ziletti/Documents/calc_nomadml/rot_inv_3d/desc_folder/bcc/disp/A_cI2_229_a_target_nb_atoms128_rotid0_disp004.tar.gz\n",
      "INFO: Extracting file 2/5: /home/ziletti/Documents/calc_nomadml/rot_inv_3d/desc_folder/bcc/disp/A_cI2_229_a_target_nb_atoms128_rotid1_disp004.tar.gz\n",
      "INFO: Extracting file 2/5: /home/ziletti/Documents/calc_nomadml/rot_inv_3d/desc_folder/bcc/disp/A_cI2_229_a_target_nb_atoms128_rotid1_disp004.tar.gz\n",
      "INFO: Extracting file 2/5: /home/ziletti/Documents/calc_nomadml/rot_inv_3d/desc_folder/bcc/disp/A_cI2_229_a_target_nb_atoms128_rotid1_disp004.tar.gz\n",
      "INFO: Extracting file 3/5: /home/ziletti/Documents/calc_nomadml/rot_inv_3d/desc_folder/bcc/disp/A_cI2_229_a_target_nb_atoms128_rotid2_disp004.tar.gz\n",
      "INFO: Extracting file 3/5: /home/ziletti/Documents/calc_nomadml/rot_inv_3d/desc_folder/bcc/disp/A_cI2_229_a_target_nb_atoms128_rotid2_disp004.tar.gz\n",
      "INFO: Extracting file 3/5: /home/ziletti/Documents/calc_nomadml/rot_inv_3d/desc_folder/bcc/disp/A_cI2_229_a_target_nb_atoms128_rotid2_disp004.tar.gz\n",
      "INFO: Extracting file 4/5: /home/ziletti/Documents/calc_nomadml/rot_inv_3d/desc_folder/bcc/disp/A_cI2_229_a_target_nb_atoms128_rotid3_disp004.tar.gz\n",
      "INFO: Extracting file 4/5: /home/ziletti/Documents/calc_nomadml/rot_inv_3d/desc_folder/bcc/disp/A_cI2_229_a_target_nb_atoms128_rotid3_disp004.tar.gz\n",
      "INFO: Extracting file 4/5: /home/ziletti/Documents/calc_nomadml/rot_inv_3d/desc_folder/bcc/disp/A_cI2_229_a_target_nb_atoms128_rotid3_disp004.tar.gz\n",
      "INFO: Extracting file 5/5: /home/ziletti/Documents/calc_nomadml/rot_inv_3d/desc_folder/bcc/disp/A_cI2_229_a_target_nb_atoms128_rotid4_disp004.tar.gz\n",
      "INFO: Extracting file 5/5: /home/ziletti/Documents/calc_nomadml/rot_inv_3d/desc_folder/bcc/disp/A_cI2_229_a_target_nb_atoms128_rotid4_disp004.tar.gz\n",
      "INFO: Extracting file 5/5: /home/ziletti/Documents/calc_nomadml/rot_inv_3d/desc_folder/bcc/disp/A_cI2_229_a_target_nb_atoms128_rotid4_disp004.tar.gz\n"
     ]
    }
   ],
   "source": [
    "# hcp - spacegroup 194\n",
    "filenames_disp4_hcp = ['hcp/disp/A_hP2_194_c_target_nb_atoms128_rotid0_disp004.tar.gz',\n",
    "                        'hcp/disp/A_hP2_194_c_target_nb_atoms128_rotid1_disp004.tar.gz',\n",
    "                        'hcp/disp/A_hP2_194_c_target_nb_atoms128_rotid2_disp004.tar.gz',\n",
    "                        'hcp/disp/A_hP2_194_c_target_nb_atoms128_rotid3_disp004.tar.gz',\n",
    "                        'hcp/disp/A_hP2_194_c_target_nb_atoms128_rotid4_disp004.tar.gz']\n",
    "# sc - spacegroup 221\n",
    "filenames_disp4_sc = ['sc/disp/A_cP1_221_a_target_nb_atoms128_rotid0_disp004.tar.gz',\n",
    "                       'sc/disp/A_cP1_221_a_target_nb_atoms128_rotid1_disp004.tar.gz',\n",
    "                       'sc/disp/A_cP1_221_a_target_nb_atoms128_rotid2_disp004.tar.gz',\n",
    "                       'sc/disp/A_cP1_221_a_target_nb_atoms128_rotid3_disp004.tar.gz',\n",
    "                       'sc/disp/A_cP1_221_a_target_nb_atoms128_rotid4_disp004.tar.gz']\n",
    "\n",
    "# fcc - spacegroup 225\n",
    "filenames_disp4_fcc = ['fcc/disp/A_cF4_225_a_target_nb_atoms128_rotid0_disp004.tar.gz',\n",
    "                         'fcc/disp/A_cF4_225_a_target_nb_atoms128_rotid1_disp004.tar.gz',\n",
    "                         'fcc/disp/A_cF4_225_a_target_nb_atoms128_rotid2_disp004.tar.gz',\n",
    "                         'fcc/disp/A_cF4_225_a_target_nb_atoms128_rotid3_disp004.tar.gz',\n",
    "                         'fcc/disp/A_cF4_225_a_target_nb_atoms128_rotid4_disp004.tar.gz']\n",
    "\n",
    "# diam - spacegroup 227\n",
    "filenames_disp4_diam = ['diam/disp/A_cF8_227_a_target_nb_atoms128_rotid0_disp004.tar.gz',\n",
    "                          'diam/disp/A_cF8_227_a_target_nb_atoms128_rotid1_disp004.tar.gz',\n",
    "                          'diam/disp/A_cF8_227_a_target_nb_atoms128_rotid2_disp004.tar.gz',\n",
    "                          'diam/disp/A_cF8_227_a_target_nb_atoms128_rotid3_disp004.tar.gz',\n",
    "                          'diam/disp/A_cF8_227_a_target_nb_atoms128_rotid4_disp004.tar.gz']\n",
    "# bcc - spacegroup 229\n",
    "filenames_disp4_bcc = ['bcc/disp/A_cI2_229_a_target_nb_atoms128_rotid0_disp004.tar.gz',\n",
    "                         'bcc/disp/A_cI2_229_a_target_nb_atoms128_rotid1_disp004.tar.gz',\n",
    "                         'bcc/disp/A_cI2_229_a_target_nb_atoms128_rotid2_disp004.tar.gz',\n",
    "                         'bcc/disp/A_cI2_229_a_target_nb_atoms128_rotid3_disp004.tar.gz',\n",
    "                         'bcc/disp/A_cI2_229_a_target_nb_atoms128_rotid4_disp004.tar.gz']\n",
    "                         \n",
    "                         \n",
    "desc_files_disp4_hcp = [os.path.join(configs['io']['desc_folder'], item) for item in filenames_disp4_hcp]\n",
    "desc_files_disp4_sc = [os.path.join(configs['io']['desc_folder'], item) for item in filenames_disp4_sc]\n",
    "desc_files_disp4_fcc = [os.path.join(configs['io']['desc_folder'], item) for item in filenames_disp4_fcc]\n",
    "desc_files_disp4_diam = [os.path.join(configs['io']['desc_folder'], item) for item in filenames_disp4_diam]\n",
    "desc_files_disp4_bcc = [os.path.join(configs['io']['desc_folder'], item) for item in filenames_disp4_bcc]\n",
    "\n",
    "y_true = []\n",
    "target_list_hcp_disp4, structure_list_hcp_disp4 = load_descriptor(desc_files=desc_files_disp4_hcp, configs=configs)\n",
    "y_true = y_true + [194]*len(structure_list_hcp_disp4)\n",
    "\n",
    "target_list_sc_disp4, structure_list_sc_disp4 = load_descriptor(desc_files=desc_files_disp4_sc, configs=configs)\n",
    "y_true = y_true + [221]*len(structure_list_sc_disp4)\n",
    "\n",
    "target_list_fcc_disp4, structure_list_fcc_disp4 = load_descriptor(desc_files=desc_files_disp4_fcc, configs=configs)\n",
    "y_true = y_true + [225]*len(structure_list_fcc_disp4)\n",
    "\n",
    "target_list_diam_disp4, structure_list_diam_disp4 = load_descriptor(desc_files=desc_files_disp4_diam, configs=configs)\n",
    "y_true = y_true + [227]*len(structure_list_diam_disp4)\n",
    "\n",
    "target_list_bcc_disp4, structure_list_bcc_disp4 = load_descriptor(desc_files=desc_files_disp4_bcc, configs=configs)\n",
    "y_true = y_true + [229]*len(structure_list_bcc_disp4)"
   ]
  },
  {
   "cell_type": "code",
   "execution_count": 54,
   "metadata": {
    "collapsed": true
   },
   "outputs": [],
   "source": [
    "structure_list_disp4 = structure_list_hcp_disp4 + structure_list_sc_disp4 + structure_list_fcc_disp4 + structure_list_diam_disp4 + structure_list_bcc_disp4\n",
    "target_list_disp4 = target_list_hcp_disp4 + target_list_sc_disp4 + target_list_fcc_disp4 + target_list_diam_disp4 + target_list_bcc_disp4\n",
    "\n",
    "for idx, item in enumerate(target_list_disp4):\n",
    "    item['data'][0]['target'] = y_true[idx]\n",
    "    \n",
    "for idx, structure in enumerate(structure_list_disp4):\n",
    "    structure.info['target'] = y_true[idx]\n",
    "    \n",
    "#y_pred_disp4 = []\n",
    "#for structure in structure_list_4:\n",
    "#    y_pred_disp4.append(ase_get_spacegroup(structure, symprec=1e-1).no)"
   ]
  },
  {
   "cell_type": "code",
   "execution_count": 55,
   "metadata": {},
   "outputs": [
    {
     "name": "stderr",
     "output_type": "stream",
     "text": [
      "INFO: Writing x to /home/ziletti/Documents/calc_nomadml/rot_inv_3d/datasets/hcp-sc-fcc-diam-bcc_displacement-4%_x.pkl\n",
      "INFO: Writing x to /home/ziletti/Documents/calc_nomadml/rot_inv_3d/datasets/hcp-sc-fcc-diam-bcc_displacement-4%_x.pkl\n",
      "INFO: Writing x to /home/ziletti/Documents/calc_nomadml/rot_inv_3d/datasets/hcp-sc-fcc-diam-bcc_displacement-4%_x.pkl\n",
      "INFO: Writing y to /home/ziletti/Documents/calc_nomadml/rot_inv_3d/datasets/hcp-sc-fcc-diam-bcc_displacement-4%_y.pkl\n",
      "INFO: Writing y to /home/ziletti/Documents/calc_nomadml/rot_inv_3d/datasets/hcp-sc-fcc-diam-bcc_displacement-4%_y.pkl\n",
      "INFO: Writing y to /home/ziletti/Documents/calc_nomadml/rot_inv_3d/datasets/hcp-sc-fcc-diam-bcc_displacement-4%_y.pkl\n",
      "INFO: Summary file written in /home/ziletti/Documents/calc_nomadml/rot_inv_3d/datasets/hcp-sc-fcc-diam-bcc_displacement-4%_summary.json.\n",
      "INFO: Summary file written in /home/ziletti/Documents/calc_nomadml/rot_inv_3d/datasets/hcp-sc-fcc-diam-bcc_displacement-4%_summary.json.\n",
      "INFO: Summary file written in /home/ziletti/Documents/calc_nomadml/rot_inv_3d/datasets/hcp-sc-fcc-diam-bcc_displacement-4%_summary.json.\n"
     ]
    },
    {
     "data": {
      "text/plain": [
       "Counter({0: 4500, 1: 900, 2: 900, 3: 900, 4: 900})"
      ]
     },
     "execution_count": 55,
     "metadata": {},
     "output_type": "execute_result"
    }
   ],
   "source": [
    "# make dataset\n",
    "\n",
    "path_to_x, path_to_y, path_to_summary = prepare_dataset(\n",
    "    structure_list=structure_list_disp4,\n",
    "    target_list=target_list_disp4,\n",
    "    desc_metadata='diffraction_3d_sh_spectrum',\n",
    "    dataset_name='hcp-sc-fcc-diam-bcc_displacement-4%',\n",
    "    target_name='target',\n",
    "    target_categorical=True,\n",
    "    input_dims=(50, 32),\n",
    "    configs=configs,\n",
    "    dataset_folder=dataset_folder,\n",
    "    main_folder=configs['io']['main_folder'],\n",
    "    desc_folder=configs['io']['desc_folder'],\n",
    "    tmp_folder=configs['io']['tmp_folder'],\n",
    "    notes=\"Hcp, sc, fcc, diam and sc structures with 4% displacement\")\n",
    "\n",
    "x, y, dataset_info = load_dataset_from_file(path_to_x=path_to_x, path_to_y=path_to_y,\n",
    "                                                              path_to_summary=path_to_summary)\n",
    "\n",
    "\n",
    "Counter(y)"
   ]
  },
  {
   "cell_type": "markdown",
   "metadata": {},
   "source": [
    "## Vacancies 1.0%"
   ]
  },
  {
   "cell_type": "code",
   "execution_count": 56,
   "metadata": {
    "code_folding": []
   },
   "outputs": [
    {
     "name": "stderr",
     "output_type": "stream",
     "text": [
      "INFO: Extracting file 1/5: /home/ziletti/Documents/calc_nomadml/rot_inv_3d/desc_folder/hcp/vac/A_hP2_194_c_target_nb_atoms128_rotid0_vac01.tar.gz\n",
      "INFO: Extracting file 1/5: /home/ziletti/Documents/calc_nomadml/rot_inv_3d/desc_folder/hcp/vac/A_hP2_194_c_target_nb_atoms128_rotid0_vac01.tar.gz\n",
      "INFO: Extracting file 1/5: /home/ziletti/Documents/calc_nomadml/rot_inv_3d/desc_folder/hcp/vac/A_hP2_194_c_target_nb_atoms128_rotid0_vac01.tar.gz\n",
      "INFO: Extracting file 2/5: /home/ziletti/Documents/calc_nomadml/rot_inv_3d/desc_folder/hcp/vac/A_hP2_194_c_target_nb_atoms128_rotid1_vac01.tar.gz\n",
      "INFO: Extracting file 2/5: /home/ziletti/Documents/calc_nomadml/rot_inv_3d/desc_folder/hcp/vac/A_hP2_194_c_target_nb_atoms128_rotid1_vac01.tar.gz\n",
      "INFO: Extracting file 2/5: /home/ziletti/Documents/calc_nomadml/rot_inv_3d/desc_folder/hcp/vac/A_hP2_194_c_target_nb_atoms128_rotid1_vac01.tar.gz\n",
      "INFO: Extracting file 3/5: /home/ziletti/Documents/calc_nomadml/rot_inv_3d/desc_folder/hcp/vac/A_hP2_194_c_target_nb_atoms128_rotid2_vac01.tar.gz\n",
      "INFO: Extracting file 3/5: /home/ziletti/Documents/calc_nomadml/rot_inv_3d/desc_folder/hcp/vac/A_hP2_194_c_target_nb_atoms128_rotid2_vac01.tar.gz\n",
      "INFO: Extracting file 3/5: /home/ziletti/Documents/calc_nomadml/rot_inv_3d/desc_folder/hcp/vac/A_hP2_194_c_target_nb_atoms128_rotid2_vac01.tar.gz\n",
      "INFO: Extracting file 4/5: /home/ziletti/Documents/calc_nomadml/rot_inv_3d/desc_folder/hcp/vac/A_hP2_194_c_target_nb_atoms128_rotid3_vac01.tar.gz\n",
      "INFO: Extracting file 4/5: /home/ziletti/Documents/calc_nomadml/rot_inv_3d/desc_folder/hcp/vac/A_hP2_194_c_target_nb_atoms128_rotid3_vac01.tar.gz\n",
      "INFO: Extracting file 4/5: /home/ziletti/Documents/calc_nomadml/rot_inv_3d/desc_folder/hcp/vac/A_hP2_194_c_target_nb_atoms128_rotid3_vac01.tar.gz\n",
      "INFO: Extracting file 5/5: /home/ziletti/Documents/calc_nomadml/rot_inv_3d/desc_folder/hcp/vac/A_hP2_194_c_target_nb_atoms128_rotid4_vac01.tar.gz\n",
      "INFO: Extracting file 5/5: /home/ziletti/Documents/calc_nomadml/rot_inv_3d/desc_folder/hcp/vac/A_hP2_194_c_target_nb_atoms128_rotid4_vac01.tar.gz\n",
      "INFO: Extracting file 5/5: /home/ziletti/Documents/calc_nomadml/rot_inv_3d/desc_folder/hcp/vac/A_hP2_194_c_target_nb_atoms128_rotid4_vac01.tar.gz\n",
      "INFO: Extracting file 1/5: /home/ziletti/Documents/calc_nomadml/rot_inv_3d/desc_folder/sc/vac/A_cP1_221_a_target_nb_atoms128_rotid0_vac01.tar.gz\n",
      "INFO: Extracting file 1/5: /home/ziletti/Documents/calc_nomadml/rot_inv_3d/desc_folder/sc/vac/A_cP1_221_a_target_nb_atoms128_rotid0_vac01.tar.gz\n",
      "INFO: Extracting file 1/5: /home/ziletti/Documents/calc_nomadml/rot_inv_3d/desc_folder/sc/vac/A_cP1_221_a_target_nb_atoms128_rotid0_vac01.tar.gz\n",
      "INFO: Extracting file 2/5: /home/ziletti/Documents/calc_nomadml/rot_inv_3d/desc_folder/sc/vac/A_cP1_221_a_target_nb_atoms128_rotid1_vac01.tar.gz\n",
      "INFO: Extracting file 2/5: /home/ziletti/Documents/calc_nomadml/rot_inv_3d/desc_folder/sc/vac/A_cP1_221_a_target_nb_atoms128_rotid1_vac01.tar.gz\n",
      "INFO: Extracting file 2/5: /home/ziletti/Documents/calc_nomadml/rot_inv_3d/desc_folder/sc/vac/A_cP1_221_a_target_nb_atoms128_rotid1_vac01.tar.gz\n",
      "INFO: Extracting file 3/5: /home/ziletti/Documents/calc_nomadml/rot_inv_3d/desc_folder/sc/vac/A_cP1_221_a_target_nb_atoms128_rotid2_vac01.tar.gz\n",
      "INFO: Extracting file 3/5: /home/ziletti/Documents/calc_nomadml/rot_inv_3d/desc_folder/sc/vac/A_cP1_221_a_target_nb_atoms128_rotid2_vac01.tar.gz\n",
      "INFO: Extracting file 3/5: /home/ziletti/Documents/calc_nomadml/rot_inv_3d/desc_folder/sc/vac/A_cP1_221_a_target_nb_atoms128_rotid2_vac01.tar.gz\n",
      "INFO: Extracting file 4/5: /home/ziletti/Documents/calc_nomadml/rot_inv_3d/desc_folder/sc/vac/A_cP1_221_a_target_nb_atoms128_rotid3_vac01.tar.gz\n",
      "INFO: Extracting file 4/5: /home/ziletti/Documents/calc_nomadml/rot_inv_3d/desc_folder/sc/vac/A_cP1_221_a_target_nb_atoms128_rotid3_vac01.tar.gz\n",
      "INFO: Extracting file 4/5: /home/ziletti/Documents/calc_nomadml/rot_inv_3d/desc_folder/sc/vac/A_cP1_221_a_target_nb_atoms128_rotid3_vac01.tar.gz\n",
      "INFO: Extracting file 5/5: /home/ziletti/Documents/calc_nomadml/rot_inv_3d/desc_folder/sc/vac/A_cP1_221_a_target_nb_atoms128_rotid4_vac01.tar.gz\n",
      "INFO: Extracting file 5/5: /home/ziletti/Documents/calc_nomadml/rot_inv_3d/desc_folder/sc/vac/A_cP1_221_a_target_nb_atoms128_rotid4_vac01.tar.gz\n",
      "INFO: Extracting file 5/5: /home/ziletti/Documents/calc_nomadml/rot_inv_3d/desc_folder/sc/vac/A_cP1_221_a_target_nb_atoms128_rotid4_vac01.tar.gz\n",
      "INFO: Extracting file 1/5: /home/ziletti/Documents/calc_nomadml/rot_inv_3d/desc_folder/fcc/vac/A_cF4_225_a_target_nb_atoms128_rotid0_vac01.tar.gz\n",
      "INFO: Extracting file 1/5: /home/ziletti/Documents/calc_nomadml/rot_inv_3d/desc_folder/fcc/vac/A_cF4_225_a_target_nb_atoms128_rotid0_vac01.tar.gz\n",
      "INFO: Extracting file 1/5: /home/ziletti/Documents/calc_nomadml/rot_inv_3d/desc_folder/fcc/vac/A_cF4_225_a_target_nb_atoms128_rotid0_vac01.tar.gz\n",
      "INFO: Extracting file 2/5: /home/ziletti/Documents/calc_nomadml/rot_inv_3d/desc_folder/fcc/vac/A_cF4_225_a_target_nb_atoms128_rotid1_vac01.tar.gz\n",
      "INFO: Extracting file 2/5: /home/ziletti/Documents/calc_nomadml/rot_inv_3d/desc_folder/fcc/vac/A_cF4_225_a_target_nb_atoms128_rotid1_vac01.tar.gz\n",
      "INFO: Extracting file 2/5: /home/ziletti/Documents/calc_nomadml/rot_inv_3d/desc_folder/fcc/vac/A_cF4_225_a_target_nb_atoms128_rotid1_vac01.tar.gz\n",
      "INFO: Extracting file 3/5: /home/ziletti/Documents/calc_nomadml/rot_inv_3d/desc_folder/fcc/vac/A_cF4_225_a_target_nb_atoms128_rotid2_vac01.tar.gz\n",
      "INFO: Extracting file 3/5: /home/ziletti/Documents/calc_nomadml/rot_inv_3d/desc_folder/fcc/vac/A_cF4_225_a_target_nb_atoms128_rotid2_vac01.tar.gz\n",
      "INFO: Extracting file 3/5: /home/ziletti/Documents/calc_nomadml/rot_inv_3d/desc_folder/fcc/vac/A_cF4_225_a_target_nb_atoms128_rotid2_vac01.tar.gz\n",
      "INFO: Extracting file 4/5: /home/ziletti/Documents/calc_nomadml/rot_inv_3d/desc_folder/fcc/vac/A_cF4_225_a_target_nb_atoms128_rotid3_vac01.tar.gz\n",
      "INFO: Extracting file 4/5: /home/ziletti/Documents/calc_nomadml/rot_inv_3d/desc_folder/fcc/vac/A_cF4_225_a_target_nb_atoms128_rotid3_vac01.tar.gz\n",
      "INFO: Extracting file 4/5: /home/ziletti/Documents/calc_nomadml/rot_inv_3d/desc_folder/fcc/vac/A_cF4_225_a_target_nb_atoms128_rotid3_vac01.tar.gz\n",
      "INFO: Extracting file 5/5: /home/ziletti/Documents/calc_nomadml/rot_inv_3d/desc_folder/fcc/vac/A_cF4_225_a_target_nb_atoms128_rotid4_vac01.tar.gz\n",
      "INFO: Extracting file 5/5: /home/ziletti/Documents/calc_nomadml/rot_inv_3d/desc_folder/fcc/vac/A_cF4_225_a_target_nb_atoms128_rotid4_vac01.tar.gz\n",
      "INFO: Extracting file 5/5: /home/ziletti/Documents/calc_nomadml/rot_inv_3d/desc_folder/fcc/vac/A_cF4_225_a_target_nb_atoms128_rotid4_vac01.tar.gz\n",
      "INFO: Extracting file 1/5: /home/ziletti/Documents/calc_nomadml/rot_inv_3d/desc_folder/diam/vac/A_cF8_227_a_target_nb_atoms128_rotid0_vac01.tar.gz\n",
      "INFO: Extracting file 1/5: /home/ziletti/Documents/calc_nomadml/rot_inv_3d/desc_folder/diam/vac/A_cF8_227_a_target_nb_atoms128_rotid0_vac01.tar.gz\n",
      "INFO: Extracting file 1/5: /home/ziletti/Documents/calc_nomadml/rot_inv_3d/desc_folder/diam/vac/A_cF8_227_a_target_nb_atoms128_rotid0_vac01.tar.gz\n",
      "INFO: Extracting file 2/5: /home/ziletti/Documents/calc_nomadml/rot_inv_3d/desc_folder/diam/vac/A_cF8_227_a_target_nb_atoms128_rotid1_vac01.tar.gz\n",
      "INFO: Extracting file 2/5: /home/ziletti/Documents/calc_nomadml/rot_inv_3d/desc_folder/diam/vac/A_cF8_227_a_target_nb_atoms128_rotid1_vac01.tar.gz\n",
      "INFO: Extracting file 2/5: /home/ziletti/Documents/calc_nomadml/rot_inv_3d/desc_folder/diam/vac/A_cF8_227_a_target_nb_atoms128_rotid1_vac01.tar.gz\n",
      "INFO: Extracting file 3/5: /home/ziletti/Documents/calc_nomadml/rot_inv_3d/desc_folder/diam/vac/A_cF8_227_a_target_nb_atoms128_rotid2_vac01.tar.gz\n",
      "INFO: Extracting file 3/5: /home/ziletti/Documents/calc_nomadml/rot_inv_3d/desc_folder/diam/vac/A_cF8_227_a_target_nb_atoms128_rotid2_vac01.tar.gz\n",
      "INFO: Extracting file 3/5: /home/ziletti/Documents/calc_nomadml/rot_inv_3d/desc_folder/diam/vac/A_cF8_227_a_target_nb_atoms128_rotid2_vac01.tar.gz\n",
      "INFO: Extracting file 4/5: /home/ziletti/Documents/calc_nomadml/rot_inv_3d/desc_folder/diam/vac/A_cF8_227_a_target_nb_atoms128_rotid3_vac01.tar.gz\n",
      "INFO: Extracting file 4/5: /home/ziletti/Documents/calc_nomadml/rot_inv_3d/desc_folder/diam/vac/A_cF8_227_a_target_nb_atoms128_rotid3_vac01.tar.gz\n",
      "INFO: Extracting file 4/5: /home/ziletti/Documents/calc_nomadml/rot_inv_3d/desc_folder/diam/vac/A_cF8_227_a_target_nb_atoms128_rotid3_vac01.tar.gz\n"
     ]
    },
    {
     "name": "stderr",
     "output_type": "stream",
     "text": [
      "INFO: Extracting file 5/5: /home/ziletti/Documents/calc_nomadml/rot_inv_3d/desc_folder/diam/vac/A_cF8_227_a_target_nb_atoms128_rotid4_vac01.tar.gz\n",
      "INFO: Extracting file 5/5: /home/ziletti/Documents/calc_nomadml/rot_inv_3d/desc_folder/diam/vac/A_cF8_227_a_target_nb_atoms128_rotid4_vac01.tar.gz\n",
      "INFO: Extracting file 5/5: /home/ziletti/Documents/calc_nomadml/rot_inv_3d/desc_folder/diam/vac/A_cF8_227_a_target_nb_atoms128_rotid4_vac01.tar.gz\n",
      "INFO: Extracting file 1/5: /home/ziletti/Documents/calc_nomadml/rot_inv_3d/desc_folder/bcc/vac/A_cI2_229_a_target_nb_atoms128_rotid0_vac01.tar.gz\n",
      "INFO: Extracting file 1/5: /home/ziletti/Documents/calc_nomadml/rot_inv_3d/desc_folder/bcc/vac/A_cI2_229_a_target_nb_atoms128_rotid0_vac01.tar.gz\n",
      "INFO: Extracting file 1/5: /home/ziletti/Documents/calc_nomadml/rot_inv_3d/desc_folder/bcc/vac/A_cI2_229_a_target_nb_atoms128_rotid0_vac01.tar.gz\n",
      "INFO: Extracting file 2/5: /home/ziletti/Documents/calc_nomadml/rot_inv_3d/desc_folder/bcc/vac/A_cI2_229_a_target_nb_atoms128_rotid1_vac01.tar.gz\n",
      "INFO: Extracting file 2/5: /home/ziletti/Documents/calc_nomadml/rot_inv_3d/desc_folder/bcc/vac/A_cI2_229_a_target_nb_atoms128_rotid1_vac01.tar.gz\n",
      "INFO: Extracting file 2/5: /home/ziletti/Documents/calc_nomadml/rot_inv_3d/desc_folder/bcc/vac/A_cI2_229_a_target_nb_atoms128_rotid1_vac01.tar.gz\n",
      "INFO: Extracting file 3/5: /home/ziletti/Documents/calc_nomadml/rot_inv_3d/desc_folder/bcc/vac/A_cI2_229_a_target_nb_atoms128_rotid2_vac01.tar.gz\n",
      "INFO: Extracting file 3/5: /home/ziletti/Documents/calc_nomadml/rot_inv_3d/desc_folder/bcc/vac/A_cI2_229_a_target_nb_atoms128_rotid2_vac01.tar.gz\n",
      "INFO: Extracting file 3/5: /home/ziletti/Documents/calc_nomadml/rot_inv_3d/desc_folder/bcc/vac/A_cI2_229_a_target_nb_atoms128_rotid2_vac01.tar.gz\n",
      "INFO: Extracting file 4/5: /home/ziletti/Documents/calc_nomadml/rot_inv_3d/desc_folder/bcc/vac/A_cI2_229_a_target_nb_atoms128_rotid3_vac01.tar.gz\n",
      "INFO: Extracting file 4/5: /home/ziletti/Documents/calc_nomadml/rot_inv_3d/desc_folder/bcc/vac/A_cI2_229_a_target_nb_atoms128_rotid3_vac01.tar.gz\n",
      "INFO: Extracting file 4/5: /home/ziletti/Documents/calc_nomadml/rot_inv_3d/desc_folder/bcc/vac/A_cI2_229_a_target_nb_atoms128_rotid3_vac01.tar.gz\n",
      "INFO: Extracting file 5/5: /home/ziletti/Documents/calc_nomadml/rot_inv_3d/desc_folder/bcc/vac/A_cI2_229_a_target_nb_atoms128_rotid4_vac01.tar.gz\n",
      "INFO: Extracting file 5/5: /home/ziletti/Documents/calc_nomadml/rot_inv_3d/desc_folder/bcc/vac/A_cI2_229_a_target_nb_atoms128_rotid4_vac01.tar.gz\n",
      "INFO: Extracting file 5/5: /home/ziletti/Documents/calc_nomadml/rot_inv_3d/desc_folder/bcc/vac/A_cI2_229_a_target_nb_atoms128_rotid4_vac01.tar.gz\n"
     ]
    }
   ],
   "source": [
    "# hcp - spacegroup 194\n",
    "filenames_vac1_hcp = ['hcp/vac/A_hP2_194_c_target_nb_atoms128_rotid0_vac01.tar.gz',\n",
    "                        'hcp/vac/A_hP2_194_c_target_nb_atoms128_rotid1_vac01.tar.gz',\n",
    "                        'hcp/vac/A_hP2_194_c_target_nb_atoms128_rotid2_vac01.tar.gz',\n",
    "                        'hcp/vac/A_hP2_194_c_target_nb_atoms128_rotid3_vac01.tar.gz',\n",
    "                        'hcp/vac/A_hP2_194_c_target_nb_atoms128_rotid4_vac01.tar.gz']\n",
    "# sc - spacegroup 221\n",
    "filenames_vac1_sc = ['sc/vac/A_cP1_221_a_target_nb_atoms128_rotid0_vac01.tar.gz',\n",
    "                       'sc/vac/A_cP1_221_a_target_nb_atoms128_rotid1_vac01.tar.gz',\n",
    "                       'sc/vac/A_cP1_221_a_target_nb_atoms128_rotid2_vac01.tar.gz',\n",
    "                       'sc/vac/A_cP1_221_a_target_nb_atoms128_rotid3_vac01.tar.gz',\n",
    "                       'sc/vac/A_cP1_221_a_target_nb_atoms128_rotid4_vac01.tar.gz']\n",
    "\n",
    "# fcc - spacegroup 225\n",
    "filenames_vac1_fcc = ['fcc/vac/A_cF4_225_a_target_nb_atoms128_rotid0_vac01.tar.gz',\n",
    "                         'fcc/vac/A_cF4_225_a_target_nb_atoms128_rotid1_vac01.tar.gz',\n",
    "                         'fcc/vac/A_cF4_225_a_target_nb_atoms128_rotid2_vac01.tar.gz',\n",
    "                         'fcc/vac/A_cF4_225_a_target_nb_atoms128_rotid3_vac01.tar.gz',\n",
    "                         'fcc/vac/A_cF4_225_a_target_nb_atoms128_rotid4_vac01.tar.gz']\n",
    "\n",
    "# diam - spacegroup 227\n",
    "filenames_vac1_diam = ['diam/vac/A_cF8_227_a_target_nb_atoms128_rotid0_vac01.tar.gz',\n",
    "                          'diam/vac/A_cF8_227_a_target_nb_atoms128_rotid1_vac01.tar.gz',\n",
    "                          'diam/vac/A_cF8_227_a_target_nb_atoms128_rotid2_vac01.tar.gz',\n",
    "                          'diam/vac/A_cF8_227_a_target_nb_atoms128_rotid3_vac01.tar.gz',\n",
    "                          'diam/vac/A_cF8_227_a_target_nb_atoms128_rotid4_vac01.tar.gz']\n",
    "# bcc - spacegroup 229\n",
    "filenames_vac1_bcc = ['bcc/vac/A_cI2_229_a_target_nb_atoms128_rotid0_vac01.tar.gz',\n",
    "                         'bcc/vac/A_cI2_229_a_target_nb_atoms128_rotid1_vac01.tar.gz',\n",
    "                         'bcc/vac/A_cI2_229_a_target_nb_atoms128_rotid2_vac01.tar.gz',\n",
    "                         'bcc/vac/A_cI2_229_a_target_nb_atoms128_rotid3_vac01.tar.gz',\n",
    "                         'bcc/vac/A_cI2_229_a_target_nb_atoms128_rotid4_vac01.tar.gz']\n",
    "                         \n",
    "                         \n",
    "desc_files_vac1_hcp = [os.path.join(configs['io']['desc_folder'], item) for item in filenames_vac1_hcp]\n",
    "desc_files_vac1_sc = [os.path.join(configs['io']['desc_folder'], item) for item in filenames_vac1_sc]\n",
    "desc_files_vac1_fcc = [os.path.join(configs['io']['desc_folder'], item) for item in filenames_vac1_fcc]\n",
    "desc_files_vac1_diam = [os.path.join(configs['io']['desc_folder'], item) for item in filenames_vac1_diam]\n",
    "desc_files_vac1_bcc = [os.path.join(configs['io']['desc_folder'], item) for item in filenames_vac1_bcc]\n",
    "\n",
    "y_true = []\n",
    "target_list_hcp_vac1, structure_list_hcp_vac1 = load_descriptor(desc_files=desc_files_vac1_hcp, configs=configs)\n",
    "y_true = y_true + [194]*len(structure_list_hcp_vac1)\n",
    "\n",
    "target_list_sc_vac1, structure_list_sc_vac1 = load_descriptor(desc_files=desc_files_vac1_sc, configs=configs)\n",
    "y_true = y_true + [221]*len(structure_list_sc_vac1)\n",
    "\n",
    "target_list_fcc_vac1, structure_list_fcc_vac1 = load_descriptor(desc_files=desc_files_vac1_fcc, configs=configs)\n",
    "y_true = y_true + [225]*len(structure_list_fcc_vac1)\n",
    "\n",
    "target_list_diam_vac1, structure_list_diam_vac1 = load_descriptor(desc_files=desc_files_vac1_diam, configs=configs)\n",
    "y_true = y_true + [227]*len(structure_list_diam_vac1)\n",
    "\n",
    "target_list_bcc_vac1, structure_list_bcc_vac1 = load_descriptor(desc_files=desc_files_vac1_bcc, configs=configs)\n",
    "y_true = y_true + [229]*len(structure_list_bcc_vac1)"
   ]
  },
  {
   "cell_type": "code",
   "execution_count": 57,
   "metadata": {
    "collapsed": true
   },
   "outputs": [],
   "source": [
    "structure_list_vac1 = structure_list_hcp_vac1 + structure_list_sc_vac1 + structure_list_fcc_vac1 + structure_list_diam_vac1 + structure_list_bcc_vac1\n",
    "target_list_vac1 = target_list_hcp_vac1 + target_list_sc_vac1 + target_list_fcc_vac1 + target_list_diam_vac1 + target_list_bcc_vac1\n",
    "\n",
    "for idx, item in enumerate(target_list_vac1):\n",
    "    item['data'][0]['target'] = y_true[idx]\n",
    "    \n",
    "for idx, structure in enumerate(structure_list_vac1):\n",
    "    structure.info['target'] = y_true[idx]\n",
    "    \n",
    "#y_pred_vac1 = []\n",
    "#for structure in structure_list_vac1:\n",
    "#    y_pred_vac1.append(ase_get_spacegroup(structure, symprec=1e-1).no)"
   ]
  },
  {
   "cell_type": "code",
   "execution_count": 58,
   "metadata": {},
   "outputs": [
    {
     "name": "stderr",
     "output_type": "stream",
     "text": [
      "INFO: Writing x to /home/ziletti/Documents/calc_nomadml/rot_inv_3d/datasets/hcp-sc-fcc-diam-bcc_vacancies-1%_x.pkl\n",
      "INFO: Writing x to /home/ziletti/Documents/calc_nomadml/rot_inv_3d/datasets/hcp-sc-fcc-diam-bcc_vacancies-1%_x.pkl\n",
      "INFO: Writing x to /home/ziletti/Documents/calc_nomadml/rot_inv_3d/datasets/hcp-sc-fcc-diam-bcc_vacancies-1%_x.pkl\n",
      "INFO: Writing y to /home/ziletti/Documents/calc_nomadml/rot_inv_3d/datasets/hcp-sc-fcc-diam-bcc_vacancies-1%_y.pkl\n",
      "INFO: Writing y to /home/ziletti/Documents/calc_nomadml/rot_inv_3d/datasets/hcp-sc-fcc-diam-bcc_vacancies-1%_y.pkl\n",
      "INFO: Writing y to /home/ziletti/Documents/calc_nomadml/rot_inv_3d/datasets/hcp-sc-fcc-diam-bcc_vacancies-1%_y.pkl\n",
      "INFO: Summary file written in /home/ziletti/Documents/calc_nomadml/rot_inv_3d/datasets/hcp-sc-fcc-diam-bcc_vacancies-1%_summary.json.\n",
      "INFO: Summary file written in /home/ziletti/Documents/calc_nomadml/rot_inv_3d/datasets/hcp-sc-fcc-diam-bcc_vacancies-1%_summary.json.\n",
      "INFO: Summary file written in /home/ziletti/Documents/calc_nomadml/rot_inv_3d/datasets/hcp-sc-fcc-diam-bcc_vacancies-1%_summary.json.\n"
     ]
    },
    {
     "data": {
      "text/plain": [
       "Counter({0: 4500, 1: 900, 2: 900, 3: 900, 4: 900})"
      ]
     },
     "execution_count": 58,
     "metadata": {},
     "output_type": "execute_result"
    }
   ],
   "source": [
    "# make dataset\n",
    "\n",
    "path_to_x, path_to_y, path_to_summary = prepare_dataset(\n",
    "    structure_list=structure_list_vac1,\n",
    "    target_list=target_list_vac1,\n",
    "    desc_metadata='diffraction_3d_sh_spectrum',\n",
    "    dataset_name='hcp-sc-fcc-diam-bcc_vacancies-1%',\n",
    "    target_name='target',\n",
    "    target_categorical=True,\n",
    "    input_dims=(50, 32),\n",
    "    configs=configs,\n",
    "    dataset_folder=dataset_folder,\n",
    "    main_folder=configs['io']['main_folder'],\n",
    "    desc_folder=configs['io']['desc_folder'],\n",
    "    tmp_folder=configs['io']['tmp_folder'],\n",
    "    notes=\"Hcp, sc, fcc, diam and sc structures with 1% vacancies\")\n",
    "\n",
    "x, y, dataset_info = load_dataset_from_file(path_to_x=path_to_x, path_to_y=path_to_y,\n",
    "                                                              path_to_summary=path_to_summary)\n",
    "\n",
    "\n",
    "Counter(y)"
   ]
  },
  {
   "cell_type": "markdown",
   "metadata": {},
   "source": [
    "## Vacancies 25%"
   ]
  },
  {
   "cell_type": "code",
   "execution_count": 59,
   "metadata": {
    "code_folding": []
   },
   "outputs": [
    {
     "name": "stderr",
     "output_type": "stream",
     "text": [
      "INFO: Extracting file 1/5: /home/ziletti/Documents/calc_nomadml/rot_inv_3d/desc_folder/hcp/vac/A_hP2_194_c_target_nb_atoms128_rotid0_vac25.tar.gz\n",
      "INFO: Extracting file 1/5: /home/ziletti/Documents/calc_nomadml/rot_inv_3d/desc_folder/hcp/vac/A_hP2_194_c_target_nb_atoms128_rotid0_vac25.tar.gz\n",
      "INFO: Extracting file 1/5: /home/ziletti/Documents/calc_nomadml/rot_inv_3d/desc_folder/hcp/vac/A_hP2_194_c_target_nb_atoms128_rotid0_vac25.tar.gz\n",
      "INFO: Extracting file 2/5: /home/ziletti/Documents/calc_nomadml/rot_inv_3d/desc_folder/hcp/vac/A_hP2_194_c_target_nb_atoms128_rotid1_vac25.tar.gz\n",
      "INFO: Extracting file 2/5: /home/ziletti/Documents/calc_nomadml/rot_inv_3d/desc_folder/hcp/vac/A_hP2_194_c_target_nb_atoms128_rotid1_vac25.tar.gz\n",
      "INFO: Extracting file 2/5: /home/ziletti/Documents/calc_nomadml/rot_inv_3d/desc_folder/hcp/vac/A_hP2_194_c_target_nb_atoms128_rotid1_vac25.tar.gz\n",
      "INFO: Extracting file 3/5: /home/ziletti/Documents/calc_nomadml/rot_inv_3d/desc_folder/hcp/vac/A_hP2_194_c_target_nb_atoms128_rotid2_vac25.tar.gz\n",
      "INFO: Extracting file 3/5: /home/ziletti/Documents/calc_nomadml/rot_inv_3d/desc_folder/hcp/vac/A_hP2_194_c_target_nb_atoms128_rotid2_vac25.tar.gz\n",
      "INFO: Extracting file 3/5: /home/ziletti/Documents/calc_nomadml/rot_inv_3d/desc_folder/hcp/vac/A_hP2_194_c_target_nb_atoms128_rotid2_vac25.tar.gz\n",
      "INFO: Extracting file 4/5: /home/ziletti/Documents/calc_nomadml/rot_inv_3d/desc_folder/hcp/vac/A_hP2_194_c_target_nb_atoms128_rotid3_vac25.tar.gz\n",
      "INFO: Extracting file 4/5: /home/ziletti/Documents/calc_nomadml/rot_inv_3d/desc_folder/hcp/vac/A_hP2_194_c_target_nb_atoms128_rotid3_vac25.tar.gz\n",
      "INFO: Extracting file 4/5: /home/ziletti/Documents/calc_nomadml/rot_inv_3d/desc_folder/hcp/vac/A_hP2_194_c_target_nb_atoms128_rotid3_vac25.tar.gz\n",
      "INFO: Extracting file 5/5: /home/ziletti/Documents/calc_nomadml/rot_inv_3d/desc_folder/hcp/vac/A_hP2_194_c_target_nb_atoms128_rotid4_vac25.tar.gz\n",
      "INFO: Extracting file 5/5: /home/ziletti/Documents/calc_nomadml/rot_inv_3d/desc_folder/hcp/vac/A_hP2_194_c_target_nb_atoms128_rotid4_vac25.tar.gz\n",
      "INFO: Extracting file 5/5: /home/ziletti/Documents/calc_nomadml/rot_inv_3d/desc_folder/hcp/vac/A_hP2_194_c_target_nb_atoms128_rotid4_vac25.tar.gz\n",
      "INFO: Extracting file 1/5: /home/ziletti/Documents/calc_nomadml/rot_inv_3d/desc_folder/sc/vac/A_cP1_221_a_target_nb_atoms128_rotid0_vac25.tar.gz\n",
      "INFO: Extracting file 1/5: /home/ziletti/Documents/calc_nomadml/rot_inv_3d/desc_folder/sc/vac/A_cP1_221_a_target_nb_atoms128_rotid0_vac25.tar.gz\n",
      "INFO: Extracting file 1/5: /home/ziletti/Documents/calc_nomadml/rot_inv_3d/desc_folder/sc/vac/A_cP1_221_a_target_nb_atoms128_rotid0_vac25.tar.gz\n",
      "INFO: Extracting file 2/5: /home/ziletti/Documents/calc_nomadml/rot_inv_3d/desc_folder/sc/vac/A_cP1_221_a_target_nb_atoms128_rotid1_vac25.tar.gz\n",
      "INFO: Extracting file 2/5: /home/ziletti/Documents/calc_nomadml/rot_inv_3d/desc_folder/sc/vac/A_cP1_221_a_target_nb_atoms128_rotid1_vac25.tar.gz\n",
      "INFO: Extracting file 2/5: /home/ziletti/Documents/calc_nomadml/rot_inv_3d/desc_folder/sc/vac/A_cP1_221_a_target_nb_atoms128_rotid1_vac25.tar.gz\n",
      "INFO: Extracting file 3/5: /home/ziletti/Documents/calc_nomadml/rot_inv_3d/desc_folder/sc/vac/A_cP1_221_a_target_nb_atoms128_rotid2_vac25.tar.gz\n",
      "INFO: Extracting file 3/5: /home/ziletti/Documents/calc_nomadml/rot_inv_3d/desc_folder/sc/vac/A_cP1_221_a_target_nb_atoms128_rotid2_vac25.tar.gz\n",
      "INFO: Extracting file 3/5: /home/ziletti/Documents/calc_nomadml/rot_inv_3d/desc_folder/sc/vac/A_cP1_221_a_target_nb_atoms128_rotid2_vac25.tar.gz\n",
      "INFO: Extracting file 4/5: /home/ziletti/Documents/calc_nomadml/rot_inv_3d/desc_folder/sc/vac/A_cP1_221_a_target_nb_atoms128_rotid3_vac25.tar.gz\n",
      "INFO: Extracting file 4/5: /home/ziletti/Documents/calc_nomadml/rot_inv_3d/desc_folder/sc/vac/A_cP1_221_a_target_nb_atoms128_rotid3_vac25.tar.gz\n",
      "INFO: Extracting file 4/5: /home/ziletti/Documents/calc_nomadml/rot_inv_3d/desc_folder/sc/vac/A_cP1_221_a_target_nb_atoms128_rotid3_vac25.tar.gz\n",
      "INFO: Extracting file 5/5: /home/ziletti/Documents/calc_nomadml/rot_inv_3d/desc_folder/sc/vac/A_cP1_221_a_target_nb_atoms128_rotid4_vac25.tar.gz\n",
      "INFO: Extracting file 5/5: /home/ziletti/Documents/calc_nomadml/rot_inv_3d/desc_folder/sc/vac/A_cP1_221_a_target_nb_atoms128_rotid4_vac25.tar.gz\n",
      "INFO: Extracting file 5/5: /home/ziletti/Documents/calc_nomadml/rot_inv_3d/desc_folder/sc/vac/A_cP1_221_a_target_nb_atoms128_rotid4_vac25.tar.gz\n",
      "INFO: Extracting file 1/5: /home/ziletti/Documents/calc_nomadml/rot_inv_3d/desc_folder/fcc/vac/A_cF4_225_a_target_nb_atoms128_rotid0_vac25.tar.gz\n",
      "INFO: Extracting file 1/5: /home/ziletti/Documents/calc_nomadml/rot_inv_3d/desc_folder/fcc/vac/A_cF4_225_a_target_nb_atoms128_rotid0_vac25.tar.gz\n",
      "INFO: Extracting file 1/5: /home/ziletti/Documents/calc_nomadml/rot_inv_3d/desc_folder/fcc/vac/A_cF4_225_a_target_nb_atoms128_rotid0_vac25.tar.gz\n",
      "INFO: Extracting file 2/5: /home/ziletti/Documents/calc_nomadml/rot_inv_3d/desc_folder/fcc/vac/A_cF4_225_a_target_nb_atoms128_rotid1_vac25.tar.gz\n",
      "INFO: Extracting file 2/5: /home/ziletti/Documents/calc_nomadml/rot_inv_3d/desc_folder/fcc/vac/A_cF4_225_a_target_nb_atoms128_rotid1_vac25.tar.gz\n",
      "INFO: Extracting file 2/5: /home/ziletti/Documents/calc_nomadml/rot_inv_3d/desc_folder/fcc/vac/A_cF4_225_a_target_nb_atoms128_rotid1_vac25.tar.gz\n",
      "INFO: Extracting file 3/5: /home/ziletti/Documents/calc_nomadml/rot_inv_3d/desc_folder/fcc/vac/A_cF4_225_a_target_nb_atoms128_rotid2_vac25.tar.gz\n",
      "INFO: Extracting file 3/5: /home/ziletti/Documents/calc_nomadml/rot_inv_3d/desc_folder/fcc/vac/A_cF4_225_a_target_nb_atoms128_rotid2_vac25.tar.gz\n",
      "INFO: Extracting file 3/5: /home/ziletti/Documents/calc_nomadml/rot_inv_3d/desc_folder/fcc/vac/A_cF4_225_a_target_nb_atoms128_rotid2_vac25.tar.gz\n",
      "INFO: Extracting file 4/5: /home/ziletti/Documents/calc_nomadml/rot_inv_3d/desc_folder/fcc/vac/A_cF4_225_a_target_nb_atoms128_rotid3_vac25.tar.gz\n",
      "INFO: Extracting file 4/5: /home/ziletti/Documents/calc_nomadml/rot_inv_3d/desc_folder/fcc/vac/A_cF4_225_a_target_nb_atoms128_rotid3_vac25.tar.gz\n",
      "INFO: Extracting file 4/5: /home/ziletti/Documents/calc_nomadml/rot_inv_3d/desc_folder/fcc/vac/A_cF4_225_a_target_nb_atoms128_rotid3_vac25.tar.gz\n",
      "INFO: Extracting file 5/5: /home/ziletti/Documents/calc_nomadml/rot_inv_3d/desc_folder/fcc/vac/A_cF4_225_a_target_nb_atoms128_rotid4_vac25.tar.gz\n",
      "INFO: Extracting file 5/5: /home/ziletti/Documents/calc_nomadml/rot_inv_3d/desc_folder/fcc/vac/A_cF4_225_a_target_nb_atoms128_rotid4_vac25.tar.gz\n",
      "INFO: Extracting file 5/5: /home/ziletti/Documents/calc_nomadml/rot_inv_3d/desc_folder/fcc/vac/A_cF4_225_a_target_nb_atoms128_rotid4_vac25.tar.gz\n",
      "INFO: Extracting file 1/5: /home/ziletti/Documents/calc_nomadml/rot_inv_3d/desc_folder/diam/vac/A_cF8_227_a_target_nb_atoms128_rotid0_vac25.tar.gz\n",
      "INFO: Extracting file 1/5: /home/ziletti/Documents/calc_nomadml/rot_inv_3d/desc_folder/diam/vac/A_cF8_227_a_target_nb_atoms128_rotid0_vac25.tar.gz\n",
      "INFO: Extracting file 1/5: /home/ziletti/Documents/calc_nomadml/rot_inv_3d/desc_folder/diam/vac/A_cF8_227_a_target_nb_atoms128_rotid0_vac25.tar.gz\n",
      "INFO: Extracting file 2/5: /home/ziletti/Documents/calc_nomadml/rot_inv_3d/desc_folder/diam/vac/A_cF8_227_a_target_nb_atoms128_rotid1_vac25.tar.gz\n",
      "INFO: Extracting file 2/5: /home/ziletti/Documents/calc_nomadml/rot_inv_3d/desc_folder/diam/vac/A_cF8_227_a_target_nb_atoms128_rotid1_vac25.tar.gz\n",
      "INFO: Extracting file 2/5: /home/ziletti/Documents/calc_nomadml/rot_inv_3d/desc_folder/diam/vac/A_cF8_227_a_target_nb_atoms128_rotid1_vac25.tar.gz\n",
      "INFO: Extracting file 3/5: /home/ziletti/Documents/calc_nomadml/rot_inv_3d/desc_folder/diam/vac/A_cF8_227_a_target_nb_atoms128_rotid2_vac25.tar.gz\n",
      "INFO: Extracting file 3/5: /home/ziletti/Documents/calc_nomadml/rot_inv_3d/desc_folder/diam/vac/A_cF8_227_a_target_nb_atoms128_rotid2_vac25.tar.gz\n",
      "INFO: Extracting file 3/5: /home/ziletti/Documents/calc_nomadml/rot_inv_3d/desc_folder/diam/vac/A_cF8_227_a_target_nb_atoms128_rotid2_vac25.tar.gz\n",
      "INFO: Extracting file 4/5: /home/ziletti/Documents/calc_nomadml/rot_inv_3d/desc_folder/diam/vac/A_cF8_227_a_target_nb_atoms128_rotid3_vac25.tar.gz\n",
      "INFO: Extracting file 4/5: /home/ziletti/Documents/calc_nomadml/rot_inv_3d/desc_folder/diam/vac/A_cF8_227_a_target_nb_atoms128_rotid3_vac25.tar.gz\n",
      "INFO: Extracting file 4/5: /home/ziletti/Documents/calc_nomadml/rot_inv_3d/desc_folder/diam/vac/A_cF8_227_a_target_nb_atoms128_rotid3_vac25.tar.gz\n"
     ]
    },
    {
     "name": "stderr",
     "output_type": "stream",
     "text": [
      "INFO: Extracting file 5/5: /home/ziletti/Documents/calc_nomadml/rot_inv_3d/desc_folder/diam/vac/A_cF8_227_a_target_nb_atoms128_rotid4_vac25.tar.gz\n",
      "INFO: Extracting file 5/5: /home/ziletti/Documents/calc_nomadml/rot_inv_3d/desc_folder/diam/vac/A_cF8_227_a_target_nb_atoms128_rotid4_vac25.tar.gz\n",
      "INFO: Extracting file 5/5: /home/ziletti/Documents/calc_nomadml/rot_inv_3d/desc_folder/diam/vac/A_cF8_227_a_target_nb_atoms128_rotid4_vac25.tar.gz\n",
      "INFO: Extracting file 1/5: /home/ziletti/Documents/calc_nomadml/rot_inv_3d/desc_folder/bcc/vac/A_cI2_229_a_target_nb_atoms128_rotid0_vac25.tar.gz\n",
      "INFO: Extracting file 1/5: /home/ziletti/Documents/calc_nomadml/rot_inv_3d/desc_folder/bcc/vac/A_cI2_229_a_target_nb_atoms128_rotid0_vac25.tar.gz\n",
      "INFO: Extracting file 1/5: /home/ziletti/Documents/calc_nomadml/rot_inv_3d/desc_folder/bcc/vac/A_cI2_229_a_target_nb_atoms128_rotid0_vac25.tar.gz\n",
      "INFO: Extracting file 2/5: /home/ziletti/Documents/calc_nomadml/rot_inv_3d/desc_folder/bcc/vac/A_cI2_229_a_target_nb_atoms128_rotid1_vac25.tar.gz\n",
      "INFO: Extracting file 2/5: /home/ziletti/Documents/calc_nomadml/rot_inv_3d/desc_folder/bcc/vac/A_cI2_229_a_target_nb_atoms128_rotid1_vac25.tar.gz\n",
      "INFO: Extracting file 2/5: /home/ziletti/Documents/calc_nomadml/rot_inv_3d/desc_folder/bcc/vac/A_cI2_229_a_target_nb_atoms128_rotid1_vac25.tar.gz\n",
      "INFO: Extracting file 3/5: /home/ziletti/Documents/calc_nomadml/rot_inv_3d/desc_folder/bcc/vac/A_cI2_229_a_target_nb_atoms128_rotid2_vac25.tar.gz\n",
      "INFO: Extracting file 3/5: /home/ziletti/Documents/calc_nomadml/rot_inv_3d/desc_folder/bcc/vac/A_cI2_229_a_target_nb_atoms128_rotid2_vac25.tar.gz\n",
      "INFO: Extracting file 3/5: /home/ziletti/Documents/calc_nomadml/rot_inv_3d/desc_folder/bcc/vac/A_cI2_229_a_target_nb_atoms128_rotid2_vac25.tar.gz\n",
      "INFO: Extracting file 4/5: /home/ziletti/Documents/calc_nomadml/rot_inv_3d/desc_folder/bcc/vac/A_cI2_229_a_target_nb_atoms128_rotid3_vac25.tar.gz\n",
      "INFO: Extracting file 4/5: /home/ziletti/Documents/calc_nomadml/rot_inv_3d/desc_folder/bcc/vac/A_cI2_229_a_target_nb_atoms128_rotid3_vac25.tar.gz\n",
      "INFO: Extracting file 4/5: /home/ziletti/Documents/calc_nomadml/rot_inv_3d/desc_folder/bcc/vac/A_cI2_229_a_target_nb_atoms128_rotid3_vac25.tar.gz\n",
      "INFO: Extracting file 5/5: /home/ziletti/Documents/calc_nomadml/rot_inv_3d/desc_folder/bcc/vac/A_cI2_229_a_target_nb_atoms128_rotid4_vac25.tar.gz\n",
      "INFO: Extracting file 5/5: /home/ziletti/Documents/calc_nomadml/rot_inv_3d/desc_folder/bcc/vac/A_cI2_229_a_target_nb_atoms128_rotid4_vac25.tar.gz\n",
      "INFO: Extracting file 5/5: /home/ziletti/Documents/calc_nomadml/rot_inv_3d/desc_folder/bcc/vac/A_cI2_229_a_target_nb_atoms128_rotid4_vac25.tar.gz\n"
     ]
    }
   ],
   "source": [
    "# hcp - spacegroup 194\n",
    "filenames_vac25_hcp = ['hcp/vac/A_hP2_194_c_target_nb_atoms128_rotid0_vac25.tar.gz',\n",
    "                        'hcp/vac/A_hP2_194_c_target_nb_atoms128_rotid1_vac25.tar.gz',\n",
    "                        'hcp/vac/A_hP2_194_c_target_nb_atoms128_rotid2_vac25.tar.gz',\n",
    "                        'hcp/vac/A_hP2_194_c_target_nb_atoms128_rotid3_vac25.tar.gz',\n",
    "                        'hcp/vac/A_hP2_194_c_target_nb_atoms128_rotid4_vac25.tar.gz']\n",
    "# sc - spacegroup 221\n",
    "filenames_vac25_sc = ['sc/vac/A_cP1_221_a_target_nb_atoms128_rotid0_vac25.tar.gz',\n",
    "                       'sc/vac/A_cP1_221_a_target_nb_atoms128_rotid1_vac25.tar.gz',\n",
    "                       'sc/vac/A_cP1_221_a_target_nb_atoms128_rotid2_vac25.tar.gz',\n",
    "                       'sc/vac/A_cP1_221_a_target_nb_atoms128_rotid3_vac25.tar.gz',\n",
    "                       'sc/vac/A_cP1_221_a_target_nb_atoms128_rotid4_vac25.tar.gz']\n",
    "\n",
    "# fcc - spacegroup 225\n",
    "filenames_vac25_fcc = ['fcc/vac/A_cF4_225_a_target_nb_atoms128_rotid0_vac25.tar.gz',\n",
    "                         'fcc/vac/A_cF4_225_a_target_nb_atoms128_rotid1_vac25.tar.gz',\n",
    "                         'fcc/vac/A_cF4_225_a_target_nb_atoms128_rotid2_vac25.tar.gz',\n",
    "                         'fcc/vac/A_cF4_225_a_target_nb_atoms128_rotid3_vac25.tar.gz',\n",
    "                         'fcc/vac/A_cF4_225_a_target_nb_atoms128_rotid4_vac25.tar.gz']\n",
    "\n",
    "# diam - spacegroup 227\n",
    "filenames_vac25_diam = ['diam/vac/A_cF8_227_a_target_nb_atoms128_rotid0_vac25.tar.gz',\n",
    "                          'diam/vac/A_cF8_227_a_target_nb_atoms128_rotid1_vac25.tar.gz',\n",
    "                          'diam/vac/A_cF8_227_a_target_nb_atoms128_rotid2_vac25.tar.gz',\n",
    "                          'diam/vac/A_cF8_227_a_target_nb_atoms128_rotid3_vac25.tar.gz',\n",
    "                          'diam/vac/A_cF8_227_a_target_nb_atoms128_rotid4_vac25.tar.gz']\n",
    "# bcc - spacegroup 229\n",
    "filenames_vac25_bcc = ['bcc/vac/A_cI2_229_a_target_nb_atoms128_rotid0_vac25.tar.gz',\n",
    "                         'bcc/vac/A_cI2_229_a_target_nb_atoms128_rotid1_vac25.tar.gz',\n",
    "                         'bcc/vac/A_cI2_229_a_target_nb_atoms128_rotid2_vac25.tar.gz',\n",
    "                         'bcc/vac/A_cI2_229_a_target_nb_atoms128_rotid3_vac25.tar.gz',\n",
    "                         'bcc/vac/A_cI2_229_a_target_nb_atoms128_rotid4_vac25.tar.gz']\n",
    "                         \n",
    "                         \n",
    "desc_files_vac25_hcp = [os.path.join(configs['io']['desc_folder'], item) for item in filenames_vac25_hcp]\n",
    "desc_files_vac25_sc = [os.path.join(configs['io']['desc_folder'], item) for item in filenames_vac25_sc]\n",
    "desc_files_vac25_fcc = [os.path.join(configs['io']['desc_folder'], item) for item in filenames_vac25_fcc]\n",
    "desc_files_vac25_diam = [os.path.join(configs['io']['desc_folder'], item) for item in filenames_vac25_diam]\n",
    "desc_files_vac25_bcc = [os.path.join(configs['io']['desc_folder'], item) for item in filenames_vac25_bcc]\n",
    "\n",
    "y_true = []\n",
    "target_list_hcp_vac25, structure_list_hcp_vac25 = load_descriptor(desc_files=desc_files_vac25_hcp, configs=configs)\n",
    "y_true = y_true + [194]*len(structure_list_hcp_vac25)\n",
    "\n",
    "target_list_sc_vac25, structure_list_sc_vac25 = load_descriptor(desc_files=desc_files_vac25_sc, configs=configs)\n",
    "y_true = y_true + [221]*len(structure_list_sc_vac25)\n",
    "\n",
    "target_list_fcc_vac25, structure_list_fcc_vac25 = load_descriptor(desc_files=desc_files_vac25_fcc, configs=configs)\n",
    "y_true = y_true + [225]*len(structure_list_fcc_vac25)\n",
    "\n",
    "target_list_diam_vac25, structure_list_diam_vac25 = load_descriptor(desc_files=desc_files_vac25_diam, configs=configs)\n",
    "y_true = y_true + [227]*len(structure_list_diam_vac25)\n",
    "\n",
    "target_list_bcc_vac25, structure_list_bcc_vac25 = load_descriptor(desc_files=desc_files_vac25_bcc, configs=configs)\n",
    "y_true = y_true + [229]*len(structure_list_bcc_vac25)"
   ]
  },
  {
   "cell_type": "code",
   "execution_count": 60,
   "metadata": {
    "collapsed": true
   },
   "outputs": [],
   "source": [
    "structure_list_vac25 = structure_list_hcp_vac25 + structure_list_sc_vac25 + structure_list_fcc_vac25 + structure_list_diam_vac25 + structure_list_bcc_vac25\n",
    "target_list_vac25 = target_list_hcp_vac25 + target_list_sc_vac25 + target_list_fcc_vac25 + target_list_diam_vac25 + target_list_bcc_vac25\n",
    "\n",
    "for idx, item in enumerate(target_list_vac25):\n",
    "    item['data'][0]['target'] = y_true[idx]\n",
    "    \n",
    "for idx, structure in enumerate(structure_list_vac25):\n",
    "    structure.info['target'] = y_true[idx]\n",
    "    \n",
    "#y_pred_vac25 = []\n",
    "#for structure in structure_list_vac25:\n",
    "#    y_pred_vac25.append(ase_get_spacegroup(structure, symprec=1e-1).no)"
   ]
  },
  {
   "cell_type": "code",
   "execution_count": 61,
   "metadata": {},
   "outputs": [
    {
     "name": "stderr",
     "output_type": "stream",
     "text": [
      "INFO: Writing x to /home/ziletti/Documents/calc_nomadml/rot_inv_3d/datasets/hcp-sc-fcc-diam-bcc_vacancies-25%_x.pkl\n",
      "INFO: Writing x to /home/ziletti/Documents/calc_nomadml/rot_inv_3d/datasets/hcp-sc-fcc-diam-bcc_vacancies-25%_x.pkl\n",
      "INFO: Writing x to /home/ziletti/Documents/calc_nomadml/rot_inv_3d/datasets/hcp-sc-fcc-diam-bcc_vacancies-25%_x.pkl\n",
      "INFO: Writing y to /home/ziletti/Documents/calc_nomadml/rot_inv_3d/datasets/hcp-sc-fcc-diam-bcc_vacancies-25%_y.pkl\n",
      "INFO: Writing y to /home/ziletti/Documents/calc_nomadml/rot_inv_3d/datasets/hcp-sc-fcc-diam-bcc_vacancies-25%_y.pkl\n",
      "INFO: Writing y to /home/ziletti/Documents/calc_nomadml/rot_inv_3d/datasets/hcp-sc-fcc-diam-bcc_vacancies-25%_y.pkl\n",
      "INFO: Summary file written in /home/ziletti/Documents/calc_nomadml/rot_inv_3d/datasets/hcp-sc-fcc-diam-bcc_vacancies-25%_summary.json.\n",
      "INFO: Summary file written in /home/ziletti/Documents/calc_nomadml/rot_inv_3d/datasets/hcp-sc-fcc-diam-bcc_vacancies-25%_summary.json.\n",
      "INFO: Summary file written in /home/ziletti/Documents/calc_nomadml/rot_inv_3d/datasets/hcp-sc-fcc-diam-bcc_vacancies-25%_summary.json.\n"
     ]
    },
    {
     "data": {
      "text/plain": [
       "Counter({0: 4500, 1: 900, 2: 900, 3: 900, 4: 900})"
      ]
     },
     "execution_count": 61,
     "metadata": {},
     "output_type": "execute_result"
    }
   ],
   "source": [
    "# make dataset\n",
    "\n",
    "path_to_x, path_to_y, path_to_summary = prepare_dataset(\n",
    "    structure_list=structure_list_vac25,\n",
    "    target_list=target_list_vac25,\n",
    "    desc_metadata='diffraction_3d_sh_spectrum',\n",
    "    dataset_name='hcp-sc-fcc-diam-bcc_vacancies-25%',\n",
    "    target_name='target',\n",
    "    target_categorical=True,\n",
    "    input_dims=(50, 32),\n",
    "    configs=configs,\n",
    "    dataset_folder=dataset_folder,\n",
    "    main_folder=configs['io']['main_folder'],\n",
    "    desc_folder=configs['io']['desc_folder'],\n",
    "    tmp_folder=configs['io']['tmp_folder'],\n",
    "    notes=\"Hcp, sc, fcc, diam and sc structures with 25% vacancies\")\n",
    "\n",
    "x, y, dataset_info = load_dataset_from_file(path_to_x=path_to_x, path_to_y=path_to_y,\n",
    "                                                              path_to_summary=path_to_summary)\n",
    "\n",
    "\n",
    "Counter(y)"
   ]
  },
  {
   "cell_type": "markdown",
   "metadata": {},
   "source": [
    "## Vacancies 50%"
   ]
  },
  {
   "cell_type": "code",
   "execution_count": 62,
   "metadata": {
    "code_folding": []
   },
   "outputs": [
    {
     "name": "stderr",
     "output_type": "stream",
     "text": [
      "INFO: Extracting file 1/5: /home/ziletti/Documents/calc_nomadml/rot_inv_3d/desc_folder/hcp/vac/A_hP2_194_c_target_nb_atoms128_rotid0_vac50.tar.gz\n",
      "INFO: Extracting file 1/5: /home/ziletti/Documents/calc_nomadml/rot_inv_3d/desc_folder/hcp/vac/A_hP2_194_c_target_nb_atoms128_rotid0_vac50.tar.gz\n",
      "INFO: Extracting file 1/5: /home/ziletti/Documents/calc_nomadml/rot_inv_3d/desc_folder/hcp/vac/A_hP2_194_c_target_nb_atoms128_rotid0_vac50.tar.gz\n",
      "INFO: Extracting file 2/5: /home/ziletti/Documents/calc_nomadml/rot_inv_3d/desc_folder/hcp/vac/A_hP2_194_c_target_nb_atoms128_rotid1_vac50.tar.gz\n",
      "INFO: Extracting file 2/5: /home/ziletti/Documents/calc_nomadml/rot_inv_3d/desc_folder/hcp/vac/A_hP2_194_c_target_nb_atoms128_rotid1_vac50.tar.gz\n",
      "INFO: Extracting file 2/5: /home/ziletti/Documents/calc_nomadml/rot_inv_3d/desc_folder/hcp/vac/A_hP2_194_c_target_nb_atoms128_rotid1_vac50.tar.gz\n",
      "INFO: Extracting file 3/5: /home/ziletti/Documents/calc_nomadml/rot_inv_3d/desc_folder/hcp/vac/A_hP2_194_c_target_nb_atoms128_rotid2_vac50.tar.gz\n",
      "INFO: Extracting file 3/5: /home/ziletti/Documents/calc_nomadml/rot_inv_3d/desc_folder/hcp/vac/A_hP2_194_c_target_nb_atoms128_rotid2_vac50.tar.gz\n",
      "INFO: Extracting file 3/5: /home/ziletti/Documents/calc_nomadml/rot_inv_3d/desc_folder/hcp/vac/A_hP2_194_c_target_nb_atoms128_rotid2_vac50.tar.gz\n",
      "INFO: Extracting file 4/5: /home/ziletti/Documents/calc_nomadml/rot_inv_3d/desc_folder/hcp/vac/A_hP2_194_c_target_nb_atoms128_rotid3_vac50.tar.gz\n",
      "INFO: Extracting file 4/5: /home/ziletti/Documents/calc_nomadml/rot_inv_3d/desc_folder/hcp/vac/A_hP2_194_c_target_nb_atoms128_rotid3_vac50.tar.gz\n",
      "INFO: Extracting file 4/5: /home/ziletti/Documents/calc_nomadml/rot_inv_3d/desc_folder/hcp/vac/A_hP2_194_c_target_nb_atoms128_rotid3_vac50.tar.gz\n",
      "INFO: Extracting file 5/5: /home/ziletti/Documents/calc_nomadml/rot_inv_3d/desc_folder/hcp/vac/A_hP2_194_c_target_nb_atoms128_rotid4_vac50.tar.gz\n",
      "INFO: Extracting file 5/5: /home/ziletti/Documents/calc_nomadml/rot_inv_3d/desc_folder/hcp/vac/A_hP2_194_c_target_nb_atoms128_rotid4_vac50.tar.gz\n",
      "INFO: Extracting file 5/5: /home/ziletti/Documents/calc_nomadml/rot_inv_3d/desc_folder/hcp/vac/A_hP2_194_c_target_nb_atoms128_rotid4_vac50.tar.gz\n",
      "INFO: Extracting file 1/5: /home/ziletti/Documents/calc_nomadml/rot_inv_3d/desc_folder/sc/vac/A_cP1_221_a_target_nb_atoms128_rotid0_vac50.tar.gz\n",
      "INFO: Extracting file 1/5: /home/ziletti/Documents/calc_nomadml/rot_inv_3d/desc_folder/sc/vac/A_cP1_221_a_target_nb_atoms128_rotid0_vac50.tar.gz\n",
      "INFO: Extracting file 1/5: /home/ziletti/Documents/calc_nomadml/rot_inv_3d/desc_folder/sc/vac/A_cP1_221_a_target_nb_atoms128_rotid0_vac50.tar.gz\n",
      "INFO: Extracting file 2/5: /home/ziletti/Documents/calc_nomadml/rot_inv_3d/desc_folder/sc/vac/A_cP1_221_a_target_nb_atoms128_rotid1_vac50.tar.gz\n",
      "INFO: Extracting file 2/5: /home/ziletti/Documents/calc_nomadml/rot_inv_3d/desc_folder/sc/vac/A_cP1_221_a_target_nb_atoms128_rotid1_vac50.tar.gz\n",
      "INFO: Extracting file 2/5: /home/ziletti/Documents/calc_nomadml/rot_inv_3d/desc_folder/sc/vac/A_cP1_221_a_target_nb_atoms128_rotid1_vac50.tar.gz\n",
      "INFO: Extracting file 3/5: /home/ziletti/Documents/calc_nomadml/rot_inv_3d/desc_folder/sc/vac/A_cP1_221_a_target_nb_atoms128_rotid2_vac50.tar.gz\n",
      "INFO: Extracting file 3/5: /home/ziletti/Documents/calc_nomadml/rot_inv_3d/desc_folder/sc/vac/A_cP1_221_a_target_nb_atoms128_rotid2_vac50.tar.gz\n",
      "INFO: Extracting file 3/5: /home/ziletti/Documents/calc_nomadml/rot_inv_3d/desc_folder/sc/vac/A_cP1_221_a_target_nb_atoms128_rotid2_vac50.tar.gz\n",
      "INFO: Extracting file 4/5: /home/ziletti/Documents/calc_nomadml/rot_inv_3d/desc_folder/sc/vac/A_cP1_221_a_target_nb_atoms128_rotid3_vac50.tar.gz\n",
      "INFO: Extracting file 4/5: /home/ziletti/Documents/calc_nomadml/rot_inv_3d/desc_folder/sc/vac/A_cP1_221_a_target_nb_atoms128_rotid3_vac50.tar.gz\n",
      "INFO: Extracting file 4/5: /home/ziletti/Documents/calc_nomadml/rot_inv_3d/desc_folder/sc/vac/A_cP1_221_a_target_nb_atoms128_rotid3_vac50.tar.gz\n",
      "INFO: Extracting file 5/5: /home/ziletti/Documents/calc_nomadml/rot_inv_3d/desc_folder/sc/vac/A_cP1_221_a_target_nb_atoms128_rotid4_vac50.tar.gz\n",
      "INFO: Extracting file 5/5: /home/ziletti/Documents/calc_nomadml/rot_inv_3d/desc_folder/sc/vac/A_cP1_221_a_target_nb_atoms128_rotid4_vac50.tar.gz\n",
      "INFO: Extracting file 5/5: /home/ziletti/Documents/calc_nomadml/rot_inv_3d/desc_folder/sc/vac/A_cP1_221_a_target_nb_atoms128_rotid4_vac50.tar.gz\n",
      "INFO: Extracting file 1/5: /home/ziletti/Documents/calc_nomadml/rot_inv_3d/desc_folder/fcc/vac/A_cF4_225_a_target_nb_atoms128_rotid0_vac50.tar.gz\n",
      "INFO: Extracting file 1/5: /home/ziletti/Documents/calc_nomadml/rot_inv_3d/desc_folder/fcc/vac/A_cF4_225_a_target_nb_atoms128_rotid0_vac50.tar.gz\n",
      "INFO: Extracting file 1/5: /home/ziletti/Documents/calc_nomadml/rot_inv_3d/desc_folder/fcc/vac/A_cF4_225_a_target_nb_atoms128_rotid0_vac50.tar.gz\n",
      "INFO: Extracting file 2/5: /home/ziletti/Documents/calc_nomadml/rot_inv_3d/desc_folder/fcc/vac/A_cF4_225_a_target_nb_atoms128_rotid1_vac50.tar.gz\n",
      "INFO: Extracting file 2/5: /home/ziletti/Documents/calc_nomadml/rot_inv_3d/desc_folder/fcc/vac/A_cF4_225_a_target_nb_atoms128_rotid1_vac50.tar.gz\n",
      "INFO: Extracting file 2/5: /home/ziletti/Documents/calc_nomadml/rot_inv_3d/desc_folder/fcc/vac/A_cF4_225_a_target_nb_atoms128_rotid1_vac50.tar.gz\n",
      "INFO: Extracting file 3/5: /home/ziletti/Documents/calc_nomadml/rot_inv_3d/desc_folder/fcc/vac/A_cF4_225_a_target_nb_atoms128_rotid2_vac50.tar.gz\n",
      "INFO: Extracting file 3/5: /home/ziletti/Documents/calc_nomadml/rot_inv_3d/desc_folder/fcc/vac/A_cF4_225_a_target_nb_atoms128_rotid2_vac50.tar.gz\n",
      "INFO: Extracting file 3/5: /home/ziletti/Documents/calc_nomadml/rot_inv_3d/desc_folder/fcc/vac/A_cF4_225_a_target_nb_atoms128_rotid2_vac50.tar.gz\n",
      "INFO: Extracting file 4/5: /home/ziletti/Documents/calc_nomadml/rot_inv_3d/desc_folder/fcc/vac/A_cF4_225_a_target_nb_atoms128_rotid3_vac50.tar.gz\n",
      "INFO: Extracting file 4/5: /home/ziletti/Documents/calc_nomadml/rot_inv_3d/desc_folder/fcc/vac/A_cF4_225_a_target_nb_atoms128_rotid3_vac50.tar.gz\n",
      "INFO: Extracting file 4/5: /home/ziletti/Documents/calc_nomadml/rot_inv_3d/desc_folder/fcc/vac/A_cF4_225_a_target_nb_atoms128_rotid3_vac50.tar.gz\n",
      "INFO: Extracting file 5/5: /home/ziletti/Documents/calc_nomadml/rot_inv_3d/desc_folder/fcc/vac/A_cF4_225_a_target_nb_atoms128_rotid4_vac50.tar.gz\n",
      "INFO: Extracting file 5/5: /home/ziletti/Documents/calc_nomadml/rot_inv_3d/desc_folder/fcc/vac/A_cF4_225_a_target_nb_atoms128_rotid4_vac50.tar.gz\n",
      "INFO: Extracting file 5/5: /home/ziletti/Documents/calc_nomadml/rot_inv_3d/desc_folder/fcc/vac/A_cF4_225_a_target_nb_atoms128_rotid4_vac50.tar.gz\n",
      "INFO: Extracting file 1/5: /home/ziletti/Documents/calc_nomadml/rot_inv_3d/desc_folder/diam/vac/A_cF8_227_a_target_nb_atoms128_rotid0_vac50.tar.gz\n",
      "INFO: Extracting file 1/5: /home/ziletti/Documents/calc_nomadml/rot_inv_3d/desc_folder/diam/vac/A_cF8_227_a_target_nb_atoms128_rotid0_vac50.tar.gz\n",
      "INFO: Extracting file 1/5: /home/ziletti/Documents/calc_nomadml/rot_inv_3d/desc_folder/diam/vac/A_cF8_227_a_target_nb_atoms128_rotid0_vac50.tar.gz\n",
      "INFO: Extracting file 2/5: /home/ziletti/Documents/calc_nomadml/rot_inv_3d/desc_folder/diam/vac/A_cF8_227_a_target_nb_atoms128_rotid1_vac50.tar.gz\n",
      "INFO: Extracting file 2/5: /home/ziletti/Documents/calc_nomadml/rot_inv_3d/desc_folder/diam/vac/A_cF8_227_a_target_nb_atoms128_rotid1_vac50.tar.gz\n",
      "INFO: Extracting file 2/5: /home/ziletti/Documents/calc_nomadml/rot_inv_3d/desc_folder/diam/vac/A_cF8_227_a_target_nb_atoms128_rotid1_vac50.tar.gz\n",
      "INFO: Extracting file 3/5: /home/ziletti/Documents/calc_nomadml/rot_inv_3d/desc_folder/diam/vac/A_cF8_227_a_target_nb_atoms128_rotid2_vac50.tar.gz\n",
      "INFO: Extracting file 3/5: /home/ziletti/Documents/calc_nomadml/rot_inv_3d/desc_folder/diam/vac/A_cF8_227_a_target_nb_atoms128_rotid2_vac50.tar.gz\n",
      "INFO: Extracting file 3/5: /home/ziletti/Documents/calc_nomadml/rot_inv_3d/desc_folder/diam/vac/A_cF8_227_a_target_nb_atoms128_rotid2_vac50.tar.gz\n",
      "INFO: Extracting file 4/5: /home/ziletti/Documents/calc_nomadml/rot_inv_3d/desc_folder/diam/vac/A_cF8_227_a_target_nb_atoms128_rotid3_vac50.tar.gz\n",
      "INFO: Extracting file 4/5: /home/ziletti/Documents/calc_nomadml/rot_inv_3d/desc_folder/diam/vac/A_cF8_227_a_target_nb_atoms128_rotid3_vac50.tar.gz\n",
      "INFO: Extracting file 4/5: /home/ziletti/Documents/calc_nomadml/rot_inv_3d/desc_folder/diam/vac/A_cF8_227_a_target_nb_atoms128_rotid3_vac50.tar.gz\n"
     ]
    },
    {
     "name": "stderr",
     "output_type": "stream",
     "text": [
      "INFO: Extracting file 5/5: /home/ziletti/Documents/calc_nomadml/rot_inv_3d/desc_folder/diam/vac/A_cF8_227_a_target_nb_atoms128_rotid4_vac50.tar.gz\n",
      "INFO: Extracting file 5/5: /home/ziletti/Documents/calc_nomadml/rot_inv_3d/desc_folder/diam/vac/A_cF8_227_a_target_nb_atoms128_rotid4_vac50.tar.gz\n",
      "INFO: Extracting file 5/5: /home/ziletti/Documents/calc_nomadml/rot_inv_3d/desc_folder/diam/vac/A_cF8_227_a_target_nb_atoms128_rotid4_vac50.tar.gz\n",
      "INFO: Extracting file 1/5: /home/ziletti/Documents/calc_nomadml/rot_inv_3d/desc_folder/bcc/vac/A_cI2_229_a_target_nb_atoms128_rotid0_vac50.tar.gz\n",
      "INFO: Extracting file 1/5: /home/ziletti/Documents/calc_nomadml/rot_inv_3d/desc_folder/bcc/vac/A_cI2_229_a_target_nb_atoms128_rotid0_vac50.tar.gz\n",
      "INFO: Extracting file 1/5: /home/ziletti/Documents/calc_nomadml/rot_inv_3d/desc_folder/bcc/vac/A_cI2_229_a_target_nb_atoms128_rotid0_vac50.tar.gz\n",
      "INFO: Extracting file 2/5: /home/ziletti/Documents/calc_nomadml/rot_inv_3d/desc_folder/bcc/vac/A_cI2_229_a_target_nb_atoms128_rotid1_vac50.tar.gz\n",
      "INFO: Extracting file 2/5: /home/ziletti/Documents/calc_nomadml/rot_inv_3d/desc_folder/bcc/vac/A_cI2_229_a_target_nb_atoms128_rotid1_vac50.tar.gz\n",
      "INFO: Extracting file 2/5: /home/ziletti/Documents/calc_nomadml/rot_inv_3d/desc_folder/bcc/vac/A_cI2_229_a_target_nb_atoms128_rotid1_vac50.tar.gz\n",
      "INFO: Extracting file 3/5: /home/ziletti/Documents/calc_nomadml/rot_inv_3d/desc_folder/bcc/vac/A_cI2_229_a_target_nb_atoms128_rotid2_vac50.tar.gz\n",
      "INFO: Extracting file 3/5: /home/ziletti/Documents/calc_nomadml/rot_inv_3d/desc_folder/bcc/vac/A_cI2_229_a_target_nb_atoms128_rotid2_vac50.tar.gz\n",
      "INFO: Extracting file 3/5: /home/ziletti/Documents/calc_nomadml/rot_inv_3d/desc_folder/bcc/vac/A_cI2_229_a_target_nb_atoms128_rotid2_vac50.tar.gz\n",
      "INFO: Extracting file 4/5: /home/ziletti/Documents/calc_nomadml/rot_inv_3d/desc_folder/bcc/vac/A_cI2_229_a_target_nb_atoms128_rotid3_vac50.tar.gz\n",
      "INFO: Extracting file 4/5: /home/ziletti/Documents/calc_nomadml/rot_inv_3d/desc_folder/bcc/vac/A_cI2_229_a_target_nb_atoms128_rotid3_vac50.tar.gz\n",
      "INFO: Extracting file 4/5: /home/ziletti/Documents/calc_nomadml/rot_inv_3d/desc_folder/bcc/vac/A_cI2_229_a_target_nb_atoms128_rotid3_vac50.tar.gz\n",
      "INFO: Extracting file 5/5: /home/ziletti/Documents/calc_nomadml/rot_inv_3d/desc_folder/bcc/vac/A_cI2_229_a_target_nb_atoms128_rotid4_vac50.tar.gz\n",
      "INFO: Extracting file 5/5: /home/ziletti/Documents/calc_nomadml/rot_inv_3d/desc_folder/bcc/vac/A_cI2_229_a_target_nb_atoms128_rotid4_vac50.tar.gz\n",
      "INFO: Extracting file 5/5: /home/ziletti/Documents/calc_nomadml/rot_inv_3d/desc_folder/bcc/vac/A_cI2_229_a_target_nb_atoms128_rotid4_vac50.tar.gz\n"
     ]
    }
   ],
   "source": [
    "# hcp - spacegroup 194\n",
    "filenames_vac50_hcp = ['hcp/vac/A_hP2_194_c_target_nb_atoms128_rotid0_vac50.tar.gz',\n",
    "                        'hcp/vac/A_hP2_194_c_target_nb_atoms128_rotid1_vac50.tar.gz',\n",
    "                        'hcp/vac/A_hP2_194_c_target_nb_atoms128_rotid2_vac50.tar.gz',\n",
    "                        'hcp/vac/A_hP2_194_c_target_nb_atoms128_rotid3_vac50.tar.gz',\n",
    "                        'hcp/vac/A_hP2_194_c_target_nb_atoms128_rotid4_vac50.tar.gz']\n",
    "# sc - spacegroup 221\n",
    "filenames_vac50_sc = ['sc/vac/A_cP1_221_a_target_nb_atoms128_rotid0_vac50.tar.gz',\n",
    "                       'sc/vac/A_cP1_221_a_target_nb_atoms128_rotid1_vac50.tar.gz',\n",
    "                       'sc/vac/A_cP1_221_a_target_nb_atoms128_rotid2_vac50.tar.gz',\n",
    "                       'sc/vac/A_cP1_221_a_target_nb_atoms128_rotid3_vac50.tar.gz',\n",
    "                       'sc/vac/A_cP1_221_a_target_nb_atoms128_rotid4_vac50.tar.gz']\n",
    "\n",
    "# fcc - spacegroup 225\n",
    "filenames_vac50_fcc = ['fcc/vac/A_cF4_225_a_target_nb_atoms128_rotid0_vac50.tar.gz',\n",
    "                         'fcc/vac/A_cF4_225_a_target_nb_atoms128_rotid1_vac50.tar.gz',\n",
    "                         'fcc/vac/A_cF4_225_a_target_nb_atoms128_rotid2_vac50.tar.gz',\n",
    "                         'fcc/vac/A_cF4_225_a_target_nb_atoms128_rotid3_vac50.tar.gz',\n",
    "                         'fcc/vac/A_cF4_225_a_target_nb_atoms128_rotid4_vac50.tar.gz']\n",
    "\n",
    "# diam - spacegroup 227\n",
    "filenames_vac50_diam = ['diam/vac/A_cF8_227_a_target_nb_atoms128_rotid0_vac50.tar.gz',\n",
    "                          'diam/vac/A_cF8_227_a_target_nb_atoms128_rotid1_vac50.tar.gz',\n",
    "                          'diam/vac/A_cF8_227_a_target_nb_atoms128_rotid2_vac50.tar.gz',\n",
    "                          'diam/vac/A_cF8_227_a_target_nb_atoms128_rotid3_vac50.tar.gz',\n",
    "                          'diam/vac/A_cF8_227_a_target_nb_atoms128_rotid4_vac50.tar.gz']\n",
    "# bcc - spacegroup 229\n",
    "filenames_vac50_bcc = ['bcc/vac/A_cI2_229_a_target_nb_atoms128_rotid0_vac50.tar.gz',\n",
    "                         'bcc/vac/A_cI2_229_a_target_nb_atoms128_rotid1_vac50.tar.gz',\n",
    "                         'bcc/vac/A_cI2_229_a_target_nb_atoms128_rotid2_vac50.tar.gz',\n",
    "                         'bcc/vac/A_cI2_229_a_target_nb_atoms128_rotid3_vac50.tar.gz',\n",
    "                         'bcc/vac/A_cI2_229_a_target_nb_atoms128_rotid4_vac50.tar.gz']\n",
    "                         \n",
    "                         \n",
    "desc_files_vac50_hcp = [os.path.join(configs['io']['desc_folder'], item) for item in filenames_vac50_hcp]\n",
    "desc_files_vac50_sc = [os.path.join(configs['io']['desc_folder'], item) for item in filenames_vac50_sc]\n",
    "desc_files_vac50_fcc = [os.path.join(configs['io']['desc_folder'], item) for item in filenames_vac50_fcc]\n",
    "desc_files_vac50_diam = [os.path.join(configs['io']['desc_folder'], item) for item in filenames_vac50_diam]\n",
    "desc_files_vac50_bcc = [os.path.join(configs['io']['desc_folder'], item) for item in filenames_vac50_bcc]\n",
    "\n",
    "y_true = []\n",
    "target_list_hcp_vac50, structure_list_hcp_vac50 = load_descriptor(desc_files=desc_files_vac50_hcp, configs=configs)\n",
    "y_true = y_true + [194]*len(structure_list_hcp_vac50)\n",
    "\n",
    "target_list_sc_vac50, structure_list_sc_vac50 = load_descriptor(desc_files=desc_files_vac50_sc, configs=configs)\n",
    "y_true = y_true + [221]*len(structure_list_sc_vac50)\n",
    "\n",
    "target_list_fcc_vac50, structure_list_fcc_vac50 = load_descriptor(desc_files=desc_files_vac50_fcc, configs=configs)\n",
    "y_true = y_true + [225]*len(structure_list_fcc_vac50)\n",
    "\n",
    "target_list_diam_vac50, structure_list_diam_vac50 = load_descriptor(desc_files=desc_files_vac50_diam, configs=configs)\n",
    "y_true = y_true + [227]*len(structure_list_diam_vac50)\n",
    "\n",
    "target_list_bcc_vac50, structure_list_bcc_vac50 = load_descriptor(desc_files=desc_files_vac50_bcc, configs=configs)\n",
    "y_true = y_true + [229]*len(structure_list_bcc_vac50)"
   ]
  },
  {
   "cell_type": "code",
   "execution_count": 63,
   "metadata": {},
   "outputs": [],
   "source": [
    "structure_list_vac50 = structure_list_hcp_vac50 + structure_list_sc_vac50 + structure_list_fcc_vac50 + structure_list_diam_vac50 + structure_list_bcc_vac50\n",
    "target_list_vac50 = target_list_hcp_vac50 + target_list_sc_vac50 + target_list_fcc_vac50 + target_list_diam_vac50 + target_list_bcc_vac50\n",
    "\n",
    "for idx, item in enumerate(target_list_vac50):\n",
    "    item['data'][0]['target'] = y_true[idx]\n",
    "    \n",
    "for idx, structure in enumerate(structure_list_vac50):\n",
    "    structure.info['target'] = y_true[idx]\n",
    "    \n",
    "#y_pred_vac50 = []\n",
    "#for structure in structure_list_vac25:\n",
    "#    y_pred_vac50.append(ase_get_spacegroup(structure, symprec=1e-1).no)"
   ]
  },
  {
   "cell_type": "code",
   "execution_count": 64,
   "metadata": {},
   "outputs": [
    {
     "name": "stderr",
     "output_type": "stream",
     "text": [
      "INFO: Writing x to /home/ziletti/Documents/calc_nomadml/rot_inv_3d/datasets/hcp-sc-fcc-diam-bcc_vacancies-50%_x.pkl\n",
      "INFO: Writing x to /home/ziletti/Documents/calc_nomadml/rot_inv_3d/datasets/hcp-sc-fcc-diam-bcc_vacancies-50%_x.pkl\n",
      "INFO: Writing x to /home/ziletti/Documents/calc_nomadml/rot_inv_3d/datasets/hcp-sc-fcc-diam-bcc_vacancies-50%_x.pkl\n",
      "INFO: Writing y to /home/ziletti/Documents/calc_nomadml/rot_inv_3d/datasets/hcp-sc-fcc-diam-bcc_vacancies-50%_y.pkl\n",
      "INFO: Writing y to /home/ziletti/Documents/calc_nomadml/rot_inv_3d/datasets/hcp-sc-fcc-diam-bcc_vacancies-50%_y.pkl\n",
      "INFO: Writing y to /home/ziletti/Documents/calc_nomadml/rot_inv_3d/datasets/hcp-sc-fcc-diam-bcc_vacancies-50%_y.pkl\n",
      "INFO: Summary file written in /home/ziletti/Documents/calc_nomadml/rot_inv_3d/datasets/hcp-sc-fcc-diam-bcc_vacancies-50%_summary.json.\n",
      "INFO: Summary file written in /home/ziletti/Documents/calc_nomadml/rot_inv_3d/datasets/hcp-sc-fcc-diam-bcc_vacancies-50%_summary.json.\n",
      "INFO: Summary file written in /home/ziletti/Documents/calc_nomadml/rot_inv_3d/datasets/hcp-sc-fcc-diam-bcc_vacancies-50%_summary.json.\n"
     ]
    },
    {
     "data": {
      "text/plain": [
       "Counter({0: 4500, 1: 900, 2: 900, 3: 900, 4: 900})"
      ]
     },
     "execution_count": 64,
     "metadata": {},
     "output_type": "execute_result"
    }
   ],
   "source": [
    "# make dataset\n",
    "\n",
    "path_to_x, path_to_y, path_to_summary = prepare_dataset(\n",
    "    structure_list=structure_list_vac50,\n",
    "    target_list=target_list_vac50,\n",
    "    desc_metadata='diffraction_3d_sh_spectrum',\n",
    "    dataset_name='hcp-sc-fcc-diam-bcc_vacancies-50%',\n",
    "    target_name='target',\n",
    "    target_categorical=True,\n",
    "    input_dims=(50, 32),\n",
    "    configs=configs,\n",
    "    dataset_folder=dataset_folder,\n",
    "    main_folder=configs['io']['main_folder'],\n",
    "    desc_folder=configs['io']['desc_folder'],\n",
    "    tmp_folder=configs['io']['tmp_folder'],\n",
    "    notes=\"Hcp, sc, fcc, diam and sc structures with 50% vacancies\")\n",
    "\n",
    "x, y, dataset_info = load_dataset_from_file(path_to_x=path_to_x, path_to_y=path_to_y,\n",
    "                                                              path_to_summary=path_to_summary)\n",
    "\n",
    "\n",
    "Counter(y)"
   ]
  },
  {
   "cell_type": "markdown",
   "metadata": {},
   "source": [
    "## Classification results spglib"
   ]
  },
  {
   "cell_type": "code",
   "execution_count": 65,
   "metadata": {},
   "outputs": [
    {
     "ename": "NameError",
     "evalue": "name 'y_pred_disp04' is not defined",
     "output_type": "error",
     "traceback": [
      "\u001b[0;31m---------------------------------------------------------------------------\u001b[0m",
      "\u001b[0;31mNameError\u001b[0m                                 Traceback (most recent call last)",
      "\u001b[0;32m<ipython-input-65-811a7a9499c1>\u001b[0m in \u001b[0;36m<module>\u001b[0;34m()\u001b[0m\n\u001b[0;32m----> 1\u001b[0;31m \u001b[0maccuracy_score\u001b[0m\u001b[0;34m(\u001b[0m\u001b[0my_true\u001b[0m\u001b[0;34m,\u001b[0m \u001b[0my_pred_disp04\u001b[0m\u001b[0;34m)\u001b[0m\u001b[0;34m\u001b[0m\u001b[0m\n\u001b[0m",
      "\u001b[0;31mNameError\u001b[0m: name 'y_pred_disp04' is not defined"
     ]
    }
   ],
   "source": [
    "accuracy_score(y_true, y_pred_disp04)"
   ]
  },
  {
   "cell_type": "code",
   "execution_count": null,
   "metadata": {},
   "outputs": [],
   "source": [
    "accuracy_score(y_true, y_pred_disp1)"
   ]
  },
  {
   "cell_type": "code",
   "execution_count": null,
   "metadata": {},
   "outputs": [],
   "source": [
    "accuracy_score(y_true, y_pred_disp2)"
   ]
  },
  {
   "cell_type": "code",
   "execution_count": null,
   "metadata": {},
   "outputs": [],
   "source": [
    "accuracy_score(y_true, y_pred_disp4)"
   ]
  },
  {
   "cell_type": "code",
   "execution_count": null,
   "metadata": {
    "collapsed": true
   },
   "outputs": [],
   "source": [
    "accuracy_score(y_true, y_pred_vac1)"
   ]
  },
  {
   "cell_type": "code",
   "execution_count": null,
   "metadata": {
    "collapsed": true
   },
   "outputs": [],
   "source": [
    "accuracy_score(y_true, y_pred_vac25)"
   ]
  },
  {
   "cell_type": "code",
   "execution_count": null,
   "metadata": {
    "collapsed": true
   },
   "outputs": [],
   "source": [
    "accuracy_score(y_true, y_pred_vac50)"
   ]
  },
  {
   "cell_type": "code",
   "execution_count": null,
   "metadata": {},
   "outputs": [],
   "source": [
    "# Compute confusion matrix\n",
    "cnf_matrix = confusion_matrix(y_true, y_pred)\n",
    "np.set_printoptions(precision=2)\n",
    "cnf_matrix"
   ]
  },
  {
   "cell_type": "markdown",
   "metadata": {},
   "source": [
    "## Classification results using DISH and neural network"
   ]
  },
  {
   "cell_type": "code",
   "execution_count": null,
   "metadata": {
    "collapsed": true
   },
   "outputs": [],
   "source": []
  },
  {
   "cell_type": "markdown",
   "metadata": {},
   "source": [
    "## Loading prototype database and check the classification for pristine structures"
   ]
  },
  {
   "cell_type": "code",
   "execution_count": null,
   "metadata": {},
   "outputs": [],
   "source": [
    "from ase.visualize import view\n",
    "idx=0\n",
    "# change idx if you want to visualize another structure \n",
    "# idx=0 visualizes the first structure in the list\n",
    "# Note: 0<=idx<len(ase_atoms_list)\n",
    "view(structure*(1, 1, 1), viewer='x3d')"
   ]
  },
  {
   "cell_type": "code",
   "execution_count": null,
   "metadata": {
    "collapsed": true
   },
   "outputs": [],
   "source": [
    "db_files_prototypes_basedir = '/home/ziletti/Documents/calc_nomadml/rot_inv_3d/db_ase/'\n",
    "\n",
    "proto_names = ['A_cP1_221_a']\n",
    "\n",
    "prototypes_basedir = '/home/ziletti/Documents/calc_nomadml/rot_inv_3d/prototypes_aflow_new'\n",
    "ase_db_files = [os.path.join(db_files_prototypes_basedir, proto_name) + '.db' for proto_name in proto_names]\n",
    "\n",
    "db_protos = zip(proto_names, ase_db_files)"
   ]
  },
  {
   "cell_type": "code",
   "execution_count": null,
   "metadata": {
    "collapsed": true
   },
   "outputs": [],
   "source": [
    "from ai4materials.utils.utils_data_retrieval import read_ase_db\n",
    "from ai4materials.utils.utils_crystals import create_supercell\n",
    "import random \n",
    "\n",
    "for idx_db, db_proto in enumerate(db_protos):\n",
    "    ase_atoms_list = read_ase_db(db_path=ase_db_files[idx_db])"
   ]
  },
  {
   "cell_type": "code",
   "execution_count": null,
   "metadata": {},
   "outputs": [],
   "source": [
    "y_pred = []\n",
    "y_pred_sc = []\n",
    "for idx, structure in enumerate(ase_atoms_list[:4]):\n",
    "    print idx\n",
    "    supercell =  create_supercell(structure, create_replicas_by='nb_atoms', target_nb_atoms=128, optimal_supercell=True)\n",
    "    alpha = random.random() * 360.0\n",
    "    structure.rotate(alpha, 'x', rotate_cell=True, center='COU')\n",
    "\n",
    "    beta = random.random() * 360.0\n",
    "    structure.rotate(beta, 'y', rotate_cell=True, center='COU')\n",
    "\n",
    "    gamma = random.random() * 360.0\n",
    "    structure.rotate(gamma, 'z', rotate_cell=True, center='COU')\n",
    "        \n",
    "    y_pred.append(ase_get_spacegroup(structure, symprec=1e-1).no)\n",
    "    y_pred_sc.append(ase_get_spacegroup(supercell, symprec=1e-1).no)"
   ]
  },
  {
   "cell_type": "code",
   "execution_count": null,
   "metadata": {},
   "outputs": [],
   "source": [
    "y_true = [221]*len(ase_atoms_list)\n",
    "accuracy_score(y_pred, y_pred_sc)"
   ]
  },
  {
   "cell_type": "code",
   "execution_count": null,
   "metadata": {
    "collapsed": true
   },
   "outputs": [],
   "source": []
  }
 ],
 "metadata": {
  "anaconda-cloud": {},
  "kernelspec": {
   "display_name": "Python [conda env:anaconda2]",
   "language": "python",
   "name": "conda-env-anaconda2-py"
  },
  "language_info": {
   "codemirror_mode": {
    "name": "ipython",
    "version": 2
   },
   "file_extension": ".py",
   "mimetype": "text/x-python",
   "name": "python",
   "nbconvert_exporter": "python",
   "pygments_lexer": "ipython2",
   "version": "2.7.15"
  }
 },
 "nbformat": 4,
 "nbformat_minor": 2
}
