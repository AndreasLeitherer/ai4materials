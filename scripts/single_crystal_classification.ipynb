{
 "cells": [
  {
   "cell_type": "markdown",
   "metadata": {},
   "source": [
    "# Spacegroup determination: comparing spglib vs neural network based on the diffraction intensity in spherical harmonics (DISH) descriptor\n",
    "\n",
    "Author: Angelo Ziletti (angelo.ziletti@gmail.com; ziletti@fhi-berlin.mpg.de)"
   ]
  },
  {
   "cell_type": "code",
   "execution_count": 1,
   "metadata": {},
   "outputs": [
    {
     "name": "stderr",
     "output_type": "stream",
     "text": [
      "/home/ziletti/anaconda2/lib/python2.7/site-packages/pymatgen/__init__.py:87: UserWarning: \n",
      "Pymatgen will drop Py2k support from v2019.1.1. Pls consult the documentation\n",
      "at https://www.pymatgen.org for more details.\n",
      "  at https://www.pymatgen.org for more details.\"\"\")\n"
     ]
    }
   ],
   "source": [
    "from ai4materials.dataprocessing.preprocessing import load_dataset_from_file\n",
    "from ai4materials.wrappers import load_descriptor\n",
    "from ai4materials.utils.utils_config import set_configs\n",
    "from ai4materials.utils.utils_config import setup_logger\n",
    "from ai4materials.dataprocessing.preprocessing import load_dataset_from_file\n",
    "from ai4materials.dataprocessing.preprocessing import prepare_dataset\n",
    "from ai4materials.utils.utils_crystals import random_displace_atoms\n",
    "from ai4materials.utils.utils_crystals import get_spacegroup, get_spacegroup_analyzer\n",
    "from ai4materials.utils.utils_data_retrieval import read_ase_db\n",
    "from ase.spacegroup import get_spacegroup as ase_get_spacegroup\n",
    "from asap3.analysis.localstructure import RestrictedCNA\n",
    "from asap3 import FullNeighborList\n",
    "from asap3.analysis import CoordinationNumbers, FullCNA, PTM\n",
    "from collections import Counter\n",
    "import itertools\n",
    "import matplotlib.pyplot as plt\n",
    "import numpy as np\n",
    "import os\n",
    "from sklearn.metrics import accuracy_score\n",
    "from sklearn.metrics import confusion_matrix\n",
    "%matplotlib inline  \n",
    "\n",
    "main_folder = '/home/ziletti/Documents/calc_nomadml/rot_inv_3d/'\n",
    "dataset_folder = os.path.abspath(os.path.normpath(os.path.join(main_folder, 'datasets')))\n",
    "desc_folder = os.path.abspath(os.path.normpath(os.path.join(main_folder, 'desc_folder')))\n",
    "\n",
    "configs = set_configs(main_folder=main_folder)\n",
    "logger = setup_logger(configs, level='INFO', display_configs=False)\n",
    "configs['io']['dataset_folder'] = dataset_folder\n",
    "configs['io']['desc_folder'] = desc_folder"
   ]
  },
  {
   "cell_type": "code",
   "execution_count": 2,
   "metadata": {
    "collapsed": true
   },
   "outputs": [],
   "source": [
    "def plot_confusion_matrix(cm, classes,\n",
    "                          normalize=False,\n",
    "                          title='Confusion matrix',\n",
    "                          cmap=plt.cm.Blues):\n",
    "    \"\"\"\n",
    "    This function prints and plots the confusion matrix.\n",
    "    Normalization can be applied by setting `normalize=True`.\n",
    "    \"\"\"\n",
    "    if normalize:\n",
    "        cm = cm.astype('float') / cm.sum(axis=1)[:, np.newaxis]\n",
    "        print(\"Normalized confusion matrix\")\n",
    "    else:\n",
    "        print('Confusion matrix, without normalization')\n",
    "\n",
    "    print(cm)\n",
    "\n",
    "    plt.imshow(cm, interpolation='nearest', cmap=cmap)\n",
    "    plt.title(title)\n",
    "    plt.colorbar()\n",
    "    tick_marks = np.arange(len(classes))\n",
    "    plt.xticks(tick_marks, classes, rotation=45)\n",
    "    plt.yticks(tick_marks, classes)\n",
    "\n",
    "    fmt = '.2f' if normalize else 'd'\n",
    "    thresh = cm.max() / 2.\n",
    "    for i, j in itertools.product(range(cm.shape[0]), range(cm.shape[1])):\n",
    "        plt.text(j, i, format(cm[i, j], fmt),\n",
    "                 horizontalalignment=\"center\",\n",
    "                 color=\"white\" if cm[i, j] > thresh else \"black\")\n",
    "\n",
    "    plt.ylabel('True label')\n",
    "    plt.xlabel('Predicted label')\n",
    "    plt.tight_layout()\n"
   ]
  },
  {
   "cell_type": "markdown",
   "metadata": {},
   "source": [
    "## Loading prototype database and check the classification for pristine structures"
   ]
  },
  {
   "cell_type": "code",
   "execution_count": null,
   "metadata": {
    "collapsed": true
   },
   "outputs": [],
   "source": [
    "db_files_prototypes_basedir = '/home/ziletti/Documents/calc_nomadml/rot_inv_3d/db_ase/'\n",
    "\n",
    "proto_names = ['A_cP1_221_a']\n",
    "\n",
    "prototypes_basedir = '/home/ziletti/Documents/calc_nomadml/rot_inv_3d/prototypes_aflow_new'\n",
    "ase_db_files = [os.path.join(db_files_prototypes_basedir, proto_name) + '.db' for proto_name in proto_names]\n",
    "\n",
    "db_protos = zip(proto_names, ase_db_files)"
   ]
  },
  {
   "cell_type": "code",
   "execution_count": null,
   "metadata": {
    "collapsed": true
   },
   "outputs": [],
   "source": [
    "from ai4materials.utils.utils_data_retrieval import read_ase_db\n",
    "from ai4materials.utils.utils_crystals import create_supercell\n",
    "import random \n",
    "\n",
    "y_pred = []\n",
    "for idx_db, db_proto in enumerate(db_protos):\n",
    "    ase_atoms_list = read_ase_db(db_path=ase_db_files[idx_db])"
   ]
  },
  {
   "cell_type": "code",
   "execution_count": null,
   "metadata": {
    "collapsed": true
   },
   "outputs": [],
   "source": [
    "print(len(ase_atoms_list[0]))"
   ]
  },
  {
   "cell_type": "code",
   "execution_count": null,
   "metadata": {
    "collapsed": true
   },
   "outputs": [],
   "source": []
  },
  {
   "cell_type": "markdown",
   "metadata": {},
   "source": [
    "## Polyhedral template matching"
   ]
  },
  {
   "cell_type": "code",
   "execution_count": 16,
   "metadata": {
    "collapsed": true
   },
   "outputs": [],
   "source": [
    "ase_db_dataset_dir = '/home/ziletti/Documents/calc_nomadml/rot_inv_3d/db_ase'\n",
    "\n",
    "ase_db_pristine = os.path.join(ase_db_dataset_dir, 'hcp-sc-fcc-diam-bcc_pristine' + '.db')\n",
    "\n",
    "ase_db_disp1 = os.path.join(ase_db_dataset_dir, 'hcp-sc-fcc-diam-bcc_displacement-1%' + '.db')\n",
    "ase_db_disp2 = os.path.join(ase_db_dataset_dir, 'hcp-sc-fcc-diam-bcc_displacement-2%' + '.db')\n",
    "\n",
    "ase_db_vac1 = os.path.join(ase_db_dataset_dir, 'hcp-sc-fcc-diam-bcc_vacancies-1%' + '.db')\n",
    "ase_db_vac2 = os.path.join(ase_db_dataset_dir, 'hcp-sc-fcc-diam-bcc_vacancies-2%' + '.db')\n",
    "ase_db_vac5 = os.path.join(ase_db_dataset_dir, 'hcp-sc-fcc-diam-bcc_vacancies-5%' + '.db')\n",
    "ase_db_vac10 = os.path.join(ase_db_dataset_dir, 'hcp-sc-fcc-diam-bcc_vacancies-10%' + '.db')\n",
    "ase_db_vac20 = os.path.join(ase_db_dataset_dir, 'hcp-sc-fcc-diam-bcc_vacancies-20%' + '.db')\n",
    "ase_db_vac25 = os.path.join(ase_db_dataset_dir, 'hcp-sc-fcc-diam-bcc_vacancies-25%' + '.db')\n",
    "ase_db_vac50 = os.path.join(ase_db_dataset_dir, 'hcp-sc-fcc-diam-bcc_vacancies-50%' + '.db')\n",
    "\n",
    "#ase_atoms_pristine = read_ase_db(db_path=ase_db_pristine)\n",
    "#ase_atoms_disp1 = read_ase_db(db_path=ase_db_disp1)\n",
    "#ase_atoms_disp2 = read_ase_db(db_path=ase_db_disp2)\n",
    "#ase_atoms_vac1 = read_ase_db(db_path=ase_db_vac1)\n",
    "#ase_atoms_vac2 = read_ase_db(db_path=ase_db_vac2)\n",
    "ase_atoms_vac5 = read_ase_db(db_path=ase_db_vac5)\n",
    "#ase_atoms_vac10 = read_ase_db(db_path=ase_db_vac10)\n",
    "#ase_atoms_vac20 = read_ase_db(db_path=ase_db_vac20)\n",
    "\n",
    "#ase_atoms_vac25 = read_ase_db(db_path=ase_db_vac25)\n",
    "#ase_atoms_vac50 = read_ase_db(db_path=ase_db_vac50)"
   ]
  },
  {
   "cell_type": "markdown",
   "metadata": {},
   "source": [
    "## Vacancies"
   ]
  },
  {
   "cell_type": "code",
   "execution_count": 17,
   "metadata": {},
   "outputs": [
    {
     "name": "stdout",
     "output_type": "stream",
     "text": [
      "0\n",
      "1000\n",
      "2000\n",
      "3000\n",
      "4000\n",
      "5000\n",
      "6000\n",
      "7000\n",
      "8000\n",
      "7117880\n",
      "(Counter({'194': 4461680, '229': 892800, '221': 885600, '225': 877800}), Counter())\n"
     ]
    }
   ],
   "source": [
    "#ptm.keys()\n",
    "#classes = ['None', 'FCC', 'HCP', 'BCC', 'Ic', 'SC']\n",
    "classes = ['None', '225', '194', '229', 'Ic', '221']\n",
    "y_pred_ptm = []\n",
    "y_true = []\n",
    "\n",
    "for idx, atoms in enumerate(ase_atoms_vac5):\n",
    "    if idx%1000 == 0: \n",
    "        print(idx)\n",
    "    \n",
    "    if str(atoms.info['target']) == '227':\n",
    "        pass\n",
    "    else:\n",
    "        atoms=atoms*(2, 2, 2)\n",
    "        #ptm = PTM(atoms=atoms)\n",
    "        #atom_class_ptm = [classes[item] for item in ptm['structure']]\n",
    "        #data = Counter(atom_class)\n",
    "        #print(data.most_common(2))\n",
    "        #y_pred_ptm.append(data.most_common(1)[0][0])\n",
    "        atom_class_true = [str(atoms.info['target'])]*len(atoms)\n",
    "        y_true.extend(atom_class_true)\n",
    "        #y_pred_ptm.extend(atom_class_ptm)\n",
    "\n",
    "print(len(y_true))\n",
    "print(Counter(y_true), Counter(y_pred_ptm))\n"
   ]
  },
  {
   "cell_type": "code",
   "execution_count": 14,
   "metadata": {},
   "outputs": [
    {
     "name": "stdout",
     "output_type": "stream",
     "text": [
      "Accuracy: 0.126298413419\n"
     ]
    }
   ],
   "source": [
    "print('Accuracy: {}'.format(accuracy_score(y_true, y_pred_ptm)))\n",
    "cnf_matrix = confusion_matrix(y_true, y_pred_ptm)\n",
    "np.set_printoptions(precision=2)"
   ]
  },
  {
   "cell_type": "code",
   "execution_count": 15,
   "metadata": {},
   "outputs": [
    {
     "name": "stderr",
     "output_type": "stream",
     "text": [
      "/home/ziletti/anaconda2/lib/python2.7/site-packages/ipykernel/__main__.py:10: RuntimeWarning: invalid value encountered in divide\n"
     ]
    },
    {
     "name": "stdout",
     "output_type": "stream",
     "text": [
      "Normalized confusion matrix\n",
      "[[1.10e-01 3.68e-01 1.67e-02 1.37e-02 1.72e-03 4.89e-01]\n",
      " [1.11e-01 4.04e-01 1.86e-02 2.21e-02 3.01e-04 4.44e-01]\n",
      " [1.37e-01 3.46e-01 2.14e-02 2.54e-02 1.18e-03 4.69e-01]\n",
      " [1.52e-01 3.91e-01 2.17e-02 3.14e-02 2.43e-03 4.02e-01]\n",
      " [     nan      nan      nan      nan      nan      nan]\n",
      " [     nan      nan      nan      nan      nan      nan]]\n"
     ]
    },
    {
     "data": {
      "image/png": "[encoded data removed]",
      "text/plain": [
       "<Figure size 432x288 with 2 Axes>"
      ]
     },
     "metadata": {},
     "output_type": "display_data"
    }
   ],
   "source": [
    "#print(cnf_matrix)\n",
    "plot_confusion_matrix(cnf_matrix, classes=['194', '221', '225', '229', 'None'],\n",
    "                      normalize=True, title='Confusion matrix, without normalization')"
   ]
  },
  {
   "cell_type": "markdown",
   "metadata": {},
   "source": [
    "## Displacements"
   ]
  },
  {
   "cell_type": "code",
   "execution_count": null,
   "metadata": {
    "code_folding": [],
    "collapsed": true
   },
   "outputs": [],
   "source": [
    "#ptm.keys()\n",
    "#classes = ['None', 'FCC', 'HCP', 'BCC', 'Ic', 'SC']\n",
    "classes = ['None', '225', '194', '229', 'Ic', '221']\n",
    "y_pred_ptm = []\n",
    "y_true = []\n",
    "\n",
    "for idx, atoms in enumerate(ase_atoms_disp1):\n",
    "    if idx%1000 == 0: \n",
    "        print(idx)\n",
    "    \n",
    "    if str(atoms.info['target']) == '227':\n",
    "        pass\n",
    "    else:\n",
    "        atoms=atoms*(2, 2, 2)\n",
    "        ptm = PTM(atoms=atoms)\n",
    "        atom_class_ptm = [classes[item] for item in ptm['structure']]\n",
    "        #data = Counter(atom_class)\n",
    "        #print(data.most_common(2))\n",
    "        #y_pred_ptm.append(data.most_common(1)[0][0])\n",
    "        atom_class_true = [str(atoms.info['target'])]*len(atoms)\n",
    "        y_true.extend(atom_class_true)\n",
    "        y_pred_ptm.extend(atom_class_ptm)\n",
    "\n",
    "print(Counter(y_true), Counter(y_pred_ptm))\n"
   ]
  },
  {
   "cell_type": "code",
   "execution_count": null,
   "metadata": {
    "collapsed": true
   },
   "outputs": [],
   "source": [
    "print('Accuracy: {}'.format(accuracy_score(y_true, y_pred_ptm)))\n",
    "cnf_matrix = confusion_matrix(y_true, y_pred_ptm)\n",
    "np.set_printoptions(precision=2)"
   ]
  },
  {
   "cell_type": "code",
   "execution_count": null,
   "metadata": {
    "collapsed": true
   },
   "outputs": [],
   "source": [
    "#print(cnf_matrix)\n",
    "plot_confusion_matrix(cnf_matrix, classes=['194', '221', '225', '229', 'None'],\n",
    "                      normalize=True, title='Confusion matrix, without normalization')"
   ]
  },
  {
   "cell_type": "markdown",
   "metadata": {},
   "source": [
    "## Classification results spglib"
   ]
  },
  {
   "cell_type": "code",
   "execution_count": null,
   "metadata": {
    "collapsed": true
   },
   "outputs": [],
   "source": [
    "y_pred = []\n",
    "y_true = []\n",
    "ase_atoms_list = ase_atoms_list[:5]\n",
    "\n",
    "y_true = y_true + [221]*len(ase_atoms_list)\n",
    "\n",
    "for idx, structure in enumerate(ase_atoms_list):\n",
    "    y_pred.append(ase_get_spacegroup(structure, symprec=1e-3).no)"
   ]
  },
  {
   "cell_type": "code",
   "execution_count": null,
   "metadata": {
    "collapsed": true
   },
   "outputs": [],
   "source": [
    "accuracy_score(y_true, y_pred)"
   ]
  },
  {
   "cell_type": "code",
   "execution_count": null,
   "metadata": {
    "collapsed": true
   },
   "outputs": [],
   "source": [
    "Counter(y_true), Counter(y_pred)"
   ]
  },
  {
   "cell_type": "code",
   "execution_count": null,
   "metadata": {
    "collapsed": true
   },
   "outputs": [],
   "source": [
    "# Compute confusion matrix\n",
    "cnf_matrix = confusion_matrix(y_true, y_pred)\n",
    "np.set_printoptions(precision=2)\n",
    "cnf_matrix"
   ]
  },
  {
   "cell_type": "code",
   "execution_count": null,
   "metadata": {
    "collapsed": true
   },
   "outputs": [],
   "source": []
  },
  {
   "cell_type": "markdown",
   "metadata": {},
   "source": [
    "## Supercell creation"
   ]
  },
  {
   "cell_type": "code",
   "execution_count": null,
   "metadata": {
    "collapsed": true
   },
   "outputs": [],
   "source": [
    "y_pred = []\n",
    "y_pred_sc1 = []\n",
    "y_pred_sc2 = []\n",
    "y_pred_sc3 = []\n",
    "\n",
    "ase_atoms_list_supercell = []\n",
    "\n",
    "for idx, structure in enumerate(ase_atoms_list):\n",
    "    #supercell =  create_supercell(structure, create_replicas_by='nb_atoms', \n",
    "    #                              target_nb_atoms=128, optimal_supercell=True)\n",
    "    \n",
    "    #supercell =  random_displace_atoms(structure, displacement_scaled=1e-12, \n",
    "    #                                   create_replicas_by='nb_atoms', \n",
    "    #                                   noise_distribution='uniform_scaled', \n",
    "    #                                   target_nb_atoms=128,\n",
    "    #                                   optimal_supercell=True)\n",
    "\n",
    "    supercell =  random_displace_atoms(structure, displacement_scaled=0.01, \n",
    "                                       create_replicas_by='nb_atoms', \n",
    "                                       noise_distribution='uniform_scaled', \n",
    "                                       target_nb_atoms=128,\n",
    "                                       optimal_supercell=True)\n",
    "        \n",
    "    alpha = random.random() * 360.0\n",
    "    structure.rotate(alpha, 'x', rotate_cell=True, center='COU')\n",
    "\n",
    "    beta = random.random() * 360.0\n",
    "    structure.rotate(beta, 'y', rotate_cell=True, center='COU')\n",
    "\n",
    "    gamma = random.random() * 360.0\n",
    "    structure.rotate(gamma, 'z', rotate_cell=True, center='COU')\n",
    "    \n",
    "    ase_atoms_list_supercell.append(supercell)\n",
    "    \n",
    "    get_spacegroup(supercell, symprec=[1e-1, 1e-2, 1e-3], angle_tolerance=5.0)\n",
    "\n",
    "    y_pred_sc1.append(supercell.info['spacegroup_nb_0.1'])\n",
    "    y_pred_sc2.append(supercell.info['spacegroup_nb_0.01'])\n",
    "    y_pred_sc3.append(supercell.info['spacegroup_nb_0.001'])\n"
   ]
  },
  {
   "cell_type": "code",
   "execution_count": null,
   "metadata": {
    "collapsed": true
   },
   "outputs": [],
   "source": [
    "for structure in ase_atoms_list_supercell:\n",
    "    print(structure.info.keys())"
   ]
  },
  {
   "cell_type": "code",
   "execution_count": null,
   "metadata": {
    "collapsed": true
   },
   "outputs": [],
   "source": [
    "y_true = [221]*len(ase_atoms_list)\n",
    "#accuracy_score(y_pred, y_pred_sc)\n",
    "accuracy_score(y_true, y_pred_sc1), accuracy_score(y_true, y_pred_sc2), accuracy_score(y_true, y_pred_sc3)"
   ]
  },
  {
   "cell_type": "code",
   "execution_count": null,
   "metadata": {
    "collapsed": true
   },
   "outputs": [],
   "source": [
    "Counter(y_true), Counter(y_pred_sc1), Counter(y_pred_sc2), Counter(y_pred_sc3)"
   ]
  },
  {
   "cell_type": "code",
   "execution_count": null,
   "metadata": {
    "collapsed": true
   },
   "outputs": [],
   "source": [
    "from ase.visualize import view\n",
    "idx=1\n",
    "# change idx if you want to visualize another structure \n",
    "# idx=0 visualizes the first structure in the list\n",
    "# Note: 0<=idx<len(ase_atoms_list)\n",
    "view(ase_atoms_list_supercell[idx]*(1, 1, 1), viewer='x3d')\n",
    "#view(ase_atoms_list[idx]*(3, 3, 3), viewer='x3d')"
   ]
  },
  {
   "cell_type": "code",
   "execution_count": null,
   "metadata": {
    "collapsed": true
   },
   "outputs": [],
   "source": []
  },
  {
   "cell_type": "code",
   "execution_count": null,
   "metadata": {
    "collapsed": true
   },
   "outputs": [],
   "source": [
    "atoms = ase_atoms_list_supercell[0]\n",
    "coord_num = CoordinationNumbers(atoms, rCut=4.)\n",
    "print(coord_num)"
   ]
  },
  {
   "cell_type": "code",
   "execution_count": null,
   "metadata": {
    "collapsed": true
   },
   "outputs": [],
   "source": [
    "print(coord_num)"
   ]
  },
  {
   "cell_type": "code",
   "execution_count": null,
   "metadata": {
    "collapsed": true
   },
   "outputs": [],
   "source": [
    "fig, ax = plt.subplots(figsize=(10,5))\n",
    "bins = np.arange(-0.5, max(coord_num) + 1)\n",
    "ax.hist(coord_num, bins)\n",
    "ax.set_title('Coordination number')\n",
    "ax.set_xlabel(\"Number of nearest neighbors\")\n",
    "ax.set_ylabel(\"Number of atoms\")\n",
    "plt.show()"
   ]
  },
  {
   "cell_type": "code",
   "execution_count": null,
   "metadata": {
    "collapsed": true
   },
   "outputs": [],
   "source": [
    "r_scale_list = np.linspace(0.5, 2.0, 20)\n",
    "avg_neihbour = []\n",
    "for r_scale in r_scale_list:\n",
    "    coord_num = CoordinationNumbers(atoms=atoms, rCut=r_scale * 4.0)\n",
    "    avg_neihbour.append(np.average(coord_num))\n",
    "fig, ax = plt.subplots(figsize=(10,6))\n",
    "ax.plot(r_scale_list, avg_neihbour)\n",
    "ax.set_xlabel(\"r_scale\")\n",
    "ax.set_ylabel(\"Average of nearest neighbors\")\n",
    "ax.set_title(\"Coordination Numbers\")\n",
    "plt.show()"
   ]
  },
  {
   "cell_type": "code",
   "execution_count": null,
   "metadata": {
    "collapsed": true
   },
   "outputs": [],
   "source": []
  },
  {
   "cell_type": "code",
   "execution_count": null,
   "metadata": {
    "collapsed": true
   },
   "outputs": [],
   "source": [
    "classes = ['None', 'FCC', 'HCP', 'BCC', 'Ic', 'SC']\n",
    "\n",
    "y_pred_ptm = [classes[item] for item in ptm['structure']]"
   ]
  },
  {
   "cell_type": "code",
   "execution_count": null,
   "metadata": {
    "collapsed": true
   },
   "outputs": [],
   "source": [
    "fig, (ax1, ax2) = plt.subplots(1, 2, figsize=(16,5))\n",
    "ax1.hist(ptm['structure'], range(0, 7))\n",
    "# ax1.set_yscale('symlog')\n",
    "ax1.set_xticks([x + .5 for x in range(6)])\n",
    "ax1.set_xticklabels(['None', 'FCC', 'HCP', 'BCC', 'Ic', 'SC'])\n",
    "ax1.set_title('Structure')\n",
    "ax2.hist(ptm['scale'])\n",
    "# ax2.set_yscale('symlog')\n",
    "ax2.set_title('The average distance scale')\n",
    "plt.show()"
   ]
  },
  {
   "cell_type": "code",
   "execution_count": null,
   "metadata": {
    "collapsed": true
   },
   "outputs": [],
   "source": []
  }
 ],
 "metadata": {
  "anaconda-cloud": {},
  "kernelspec": {
   "display_name": "Python [conda env:anaconda2]",
   "language": "python",
   "name": "conda-env-anaconda2-py"
  },
  "language_info": {
   "codemirror_mode": {
    "name": "ipython",
    "version": 2
   },
   "file_extension": ".py",
   "mimetype": "text/x-python",
   "name": "python",
   "nbconvert_exporter": "python",
   "pygments_lexer": "ipython2",
   "version": "2.7.15"
  }
 },
 "nbformat": 4,
 "nbformat_minor": 2
}
