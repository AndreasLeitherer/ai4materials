{
 "cells": [
  {
   "cell_type": "markdown",
   "metadata": {},
   "source": [
    "# Polycrystals classification\n",
    "\n",
    "\n",
    "Author: Angelo Ziletti (angelo.ziletti@gmail.com; ziletti@fhi-berlin.mpg.de)\n",
    "\n",
    "\n",
    "### Brief summary\n",
    "This notebook shows how to classify a polycrystals using the strided pattern matching technique.\n",
    "\n",
    "1. The function *make_strided_pattern_matching_dataset* will calculate the descriptor for each material patch obtained from the strided-pattern-matching procedure, and save them to file\n",
    "2. The function *get_classification_map* loads the descriptor file, and make the predictions using a pre-trained neural network. Uncertainty estimates are also computed. The results are returned as two-dimensional classification maps."
   ]
  },
  {
   "cell_type": "code",
   "execution_count": 1,
   "metadata": {},
   "outputs": [
    {
     "name": "stderr",
     "output_type": "stream",
     "text": [
      "/home/ziletti/anaconda2/lib/python2.7/site-packages/pymatgen/__init__.py:87: UserWarning: \n",
      "Pymatgen will drop Py2k support from v2019.1.1. Pls consult the documentation\n",
      "at https://www.pymatgen.org for more details.\n",
      "  at https://www.pymatgen.org for more details.\"\"\")\n",
      "Using TensorFlow backend.\n",
      "/home/ziletti/PycharmProjects/ai4materials/ai4materials/utils/utils_plotting.py:32: UserWarning: \n",
      "This call to matplotlib.use() has no effect because the backend has already\n",
      "been chosen; matplotlib.use() must be called *before* pylab, matplotlib.pyplot,\n",
      "or matplotlib.backends is imported for the first time.\n",
      "\n",
      "The backend was *originally* set to 'module://ipykernel.pylab.backend_inline' by the following code:\n",
      "  File \"/home/ziletti/anaconda2/lib/python2.7/runpy.py\", line 174, in _run_module_as_main\n",
      "    \"__main__\", fname, loader, pkg_name)\n",
      "  File \"/home/ziletti/anaconda2/lib/python2.7/runpy.py\", line 72, in _run_code\n",
      "    exec code in run_globals\n",
      "  File \"/home/ziletti/anaconda2/lib/python2.7/site-packages/ipykernel/__main__.py\", line 3, in <module>\n",
      "    app.launch_new_instance()\n",
      "  File \"/home/ziletti/anaconda2/lib/python2.7/site-packages/traitlets/config/application.py\", line 658, in launch_instance\n",
      "    app.start()\n",
      "  File \"/home/ziletti/anaconda2/lib/python2.7/site-packages/ipykernel/kernelapp.py\", line 477, in start\n",
      "    ioloop.IOLoop.instance().start()\n",
      "  File \"/home/ziletti/anaconda2/lib/python2.7/site-packages/zmq/eventloop/ioloop.py\", line 177, in start\n",
      "    super(ZMQIOLoop, self).start()\n",
      "  File \"/home/ziletti/anaconda2/lib/python2.7/site-packages/tornado/ioloop.py\", line 888, in start\n",
      "    handler_func(fd_obj, events)\n",
      "  File \"/home/ziletti/anaconda2/lib/python2.7/site-packages/tornado/stack_context.py\", line 277, in null_wrapper\n",
      "    return fn(*args, **kwargs)\n",
      "  File \"/home/ziletti/anaconda2/lib/python2.7/site-packages/zmq/eventloop/zmqstream.py\", line 440, in _handle_events\n",
      "    self._handle_recv()\n",
      "  File \"/home/ziletti/anaconda2/lib/python2.7/site-packages/zmq/eventloop/zmqstream.py\", line 472, in _handle_recv\n",
      "    self._run_callback(callback, msg)\n",
      "  File \"/home/ziletti/anaconda2/lib/python2.7/site-packages/zmq/eventloop/zmqstream.py\", line 414, in _run_callback\n",
      "    callback(*args, **kwargs)\n",
      "  File \"/home/ziletti/anaconda2/lib/python2.7/site-packages/tornado/stack_context.py\", line 277, in null_wrapper\n",
      "    return fn(*args, **kwargs)\n",
      "  File \"/home/ziletti/anaconda2/lib/python2.7/site-packages/ipykernel/kernelbase.py\", line 283, in dispatcher\n",
      "    return self.dispatch_shell(stream, msg)\n",
      "  File \"/home/ziletti/anaconda2/lib/python2.7/site-packages/ipykernel/kernelbase.py\", line 235, in dispatch_shell\n",
      "    handler(stream, idents, msg)\n",
      "  File \"/home/ziletti/anaconda2/lib/python2.7/site-packages/ipykernel/kernelbase.py\", line 399, in execute_request\n",
      "    user_expressions, allow_stdin)\n",
      "  File \"/home/ziletti/anaconda2/lib/python2.7/site-packages/ipykernel/ipkernel.py\", line 196, in do_execute\n",
      "    res = shell.run_cell(code, store_history=store_history, silent=silent)\n",
      "  File \"/home/ziletti/anaconda2/lib/python2.7/site-packages/ipykernel/zmqshell.py\", line 533, in run_cell\n",
      "    return super(ZMQInteractiveShell, self).run_cell(*args, **kwargs)\n",
      "  File \"/home/ziletti/anaconda2/lib/python2.7/site-packages/IPython/core/interactiveshell.py\", line 2718, in run_cell\n",
      "    interactivity=interactivity, compiler=compiler, result=result)\n",
      "  File \"/home/ziletti/anaconda2/lib/python2.7/site-packages/IPython/core/interactiveshell.py\", line 2822, in run_ast_nodes\n",
      "    if self.run_code(code, result):\n",
      "  File \"/home/ziletti/anaconda2/lib/python2.7/site-packages/IPython/core/interactiveshell.py\", line 2882, in run_code\n",
      "    exec(code_obj, self.user_global_ns, self.user_ns)\n",
      "  File \"<ipython-input-1-92fe0bce93b0>\", line 1, in <module>\n",
      "    from ai4materials.models.strided_pattern_matching import make_strided_pattern_matching_dataset\n",
      "  File \"/home/ziletti/PycharmProjects/ai4materials/ai4materials/models/strided_pattern_matching.py\", line 26, in <module>\n",
      "    import matplotlib.pyplot as plt\n",
      "  File \"/home/ziletti/anaconda2/lib/python2.7/site-packages/matplotlib/pyplot.py\", line 71, in <module>\n",
      "    from matplotlib.backends import pylab_setup\n",
      "  File \"/home/ziletti/anaconda2/lib/python2.7/site-packages/matplotlib/backends/__init__.py\", line 16, in <module>\n",
      "    line for line in traceback.format_stack()\n",
      "\n",
      "\n",
      "  matplotlib.use('Agg')\n"
     ]
    }
   ],
   "source": [
    "from ai4materials.models.strided_pattern_matching import make_strided_pattern_matching_dataset\n",
    "from ai4materials.utils.utils_config import set_configs\n",
    "from ai4materials.utils.utils_config import setup_logger\n",
    "from ai4materials.descriptors.diffraction3d import DISH\n",
    "from ai4materials.models.strided_pattern_matching import get_classification_map\n",
    "import os    \n",
    "\n",
    "# define folders\n",
    "# config_file = '/home/ziletti/Documents/calc_nomadml/rot_inv_3d/config_diff3d.yml'\n",
    "main_folder = '/home/ziletti/Documents/calc_nomadml/rot_inv_3d/'\n",
    "# prototypes_basedir = '/home/ziletti/Documents/calc_nomadml/rot_inv_3d/prototypes_aflow_new'\n",
    "# db_files_prototypes_basedir = '/home/ziletti/Documents/calc_nomadml/rot_inv_3d/db_ase_prototypes'\n",
    "\n",
    "\n",
    "# read config file\n",
    "configs = set_configs(main_folder=main_folder)\n",
    "logger = setup_logger(configs, level='INFO', display_configs=False)\n",
    "\n",
    "# setup folder and files\n",
    "checkpoint_dir = os.path.abspath(os.path.normpath(os.path.join(main_folder, 'saved_models/enc_dec_drop12.5')))\n",
    "dataset_folder = os.path.abspath(os.path.normpath(os.path.join(main_folder, 'datasets')))\n",
    "figure_dir = os.path.abspath(os.path.normpath(os.path.join(main_folder, 'attentive_resp_maps')))\n",
    "conf_matrix_file = os.path.abspath(os.path.normpath(os.path.join(main_folder, 'confusion_matrix.png')))\n",
    "results_file = os.path.abspath(os.path.normpath(os.path.join(main_folder, 'results.csv')))\n",
    "lookup_file = os.path.abspath(os.path.normpath(os.path.join(main_folder, 'lookup.dat')))\n",
    "control_file = os.path.abspath(os.path.normpath(os.path.join(main_folder, 'control.json')))\n",
    "results_file = os.path.abspath(os.path.normpath(os.path.join(main_folder, 'results.csv')))\n",
    "filtered_file = os.path.abspath(os.path.normpath(os.path.join(main_folder, 'filtered_file.json')))\n",
    "results_file = os.path.abspath(os.path.normpath(os.path.join(main_folder, 'results.csv')))\n",
    "\n",
    "configs['io']['dataset_folder'] = dataset_folder"
   ]
  },
  {
   "cell_type": "markdown",
   "metadata": {},
   "source": [
    "## 1. Descriptor calculation"
   ]
  },
  {
   "cell_type": "markdown",
   "metadata": {},
   "source": [
    "Let us first define which is the file that contains the atomic coordinates of the polycrystal.\n",
    "The file needs to be in the *.xyz* format."
   ]
  },
  {
   "cell_type": "code",
   "execution_count": 2,
   "metadata": {},
   "outputs": [],
   "source": [
    "structure_file = os.path.join(main_folder, 'structures_for_paper/small_edge_dislocation/small_edge_dislocation.xyz')"
   ]
  },
  {
   "cell_type": "code",
   "execution_count": 3,
   "metadata": {},
   "outputs": [
    {
     "name": "stderr",
     "output_type": "stream",
     "text": [
      "INFO: Metadata for descriptor DISH: [u'diffraction_3d_sh_spectrum', u'diffraction_3d_sh_spectrum_image', u'diffraction_3d_real_space', u'diffraction_3d_phase', u'diffraction_3d_coordinates']\n"
     ]
    }
   ],
   "source": [
    "# define a descriptor to represent crystal structures\n",
    "# here we use the diffraction intensity in spherical harmonics (DISH)\n",
    "descriptor = DISH(configs=configs)"
   ]
  },
  {
   "cell_type": "code",
   "execution_count": 4,
   "metadata": {},
   "outputs": [],
   "source": [
    "# comment if you have already calculated the descriptor for the .xyz file\n",
    "path_to_x_test, path_to_y_test, path_to_summary_test, path_to_strided_pattern_pos = make_strided_pattern_matching_dataset(\n",
    "    polycrystal_file=structure_file, descriptor=descriptor, desc_metadata='diffraction_3d_sh_spectrum',\n",
    "    configs=configs, operations_on_structure=None, stride_size=(10., 10., 20.), box_size=10.,\n",
    "    init_sliding_volume=(14., 14., 14.), desc_file=None, desc_only=False, show_plot_lengths=True,\n",
    "    desc_file_suffix_name='', nb_jobs=6, padding_ratio=None)\n",
    "\n",
    "print(path_to_x_test)\n",
    "print(path_to_y_test)\n",
    "print(path_to_summary_test)\n",
    "print(path_to_strided_pattern_pos)"
   ]
  },
  {
   "cell_type": "code",
   "execution_count": 5,
   "metadata": {},
   "outputs": [
    {
     "name": "stderr",
     "output_type": "stream",
     "text": [
      "INFO: Loading test dataset for prediction.\n",
      "INFO: Loading and formatting of data completed.\n",
      "INFO: Predicting...\n",
      "INFO: Using multiple passes to have principles probability and uncertainty estimates\n",
      "INFO: Calculating classification uncertainty.\n",
      "INFO: Performing forward pass: 1/2\n",
      "INFO: Accuracy: 0.0%\n",
      "INFO: Confusion matrix, without normalization: \n",
      "INFO: [[ 0 84]\n",
      " [ 0  0]]\n",
      "INFO: Predictions written to: /home/ziletti/Documents/calc_nomadml/rot_inv_3d/results_folder/results.csv\n",
      "INFO: Confusion matrix written to /home/ziletti/Documents/calc_nomadml/rot_inv_3d/confusion_matrix.png.\n",
      "INFO: Creating two-dimensional plot.\n",
      "INFO: File saved at prob_class0.eps.\n",
      "INFO: Creating two-dimensional plot.\n",
      "INFO: File saved at prob_class1.eps.\n",
      "INFO: Creating two-dimensional plot.\n",
      "INFO: File saved at prob_class2.eps.\n",
      "INFO: Creating two-dimensional plot.\n",
      "INFO: File saved at prob_class3.eps.\n",
      "INFO: Creating two-dimensional plot.\n",
      "INFO: File saved at prob_class4.eps.\n",
      "INFO: Creating two-dimensional plot.\n",
      "INFO: File saved at uncertainty_variation_ratio.eps.\n",
      "INFO: Creating two-dimensional plot.\n",
      "INFO: File saved at uncertainty_mutual_information.eps.\n",
      "INFO: Creating two-dimensional plot.\n",
      "INFO: File saved at uncertainty_predictive_entropy.eps.\n"
     ]
    }
   ],
   "source": [
    "path_to_x_test = '/home/ziletti/Documents/calc_nomadml/rot_inv_3d/datasets/small_edge_dislocation.xyz_stride_10.0_10.0_20.0_box_size_10.0_.tar.gz_x.pkl'\n",
    "path_to_y_test = '/home/ziletti/Documents/calc_nomadml/rot_inv_3d/datasets/small_edge_dislocation.xyz_stride_10.0_10.0_20.0_box_size_10.0_.tar.gz_y.pkl'\n",
    "path_to_summary_test = '/home/ziletti/Documents/calc_nomadml/rot_inv_3d/datasets/small_edge_dislocation.xyz_stride_10.0_10.0_20.0_box_size_10.0_.tar.gz_summary.json'\n",
    "path_to_strided_pattern_pos = '/home/ziletti/Documents/calc_nomadml/rot_inv_3d/datasets/small_edge_dislocation.xyz_stride_10.0_10.0_20.0_box_size_10.0_.tar.gz_strided_pattern_pos.pkl'\n",
    "\n",
    "get_classification_map(configs, path_to_x_test, path_to_y_test, path_to_summary_test, path_to_strided_pattern_pos, checkpoint_dir, checkpoint_filename='model.h5',\n",
    "                           mc_samples=2, interpolation='none', results_file=None, calc_uncertainty=True,\n",
    "                           conf_matrix_file=conf_matrix_file, train_set_name='hcp-sc-fcc-diam-bcc_pristine',\n",
    "                           cmap_uncertainty='hot', interpolation_uncertainty='none')"
   ]
  },
  {
   "cell_type": "code",
   "execution_count": null,
   "metadata": {
    "collapsed": true
   },
   "outputs": [],
   "source": []
  }
 ],
 "metadata": {
  "anaconda-cloud": {},
  "kernelspec": {
   "display_name": "Python [conda env:anaconda2]",
   "language": "python",
   "name": "conda-env-anaconda2-py"
  },
  "language_info": {
   "codemirror_mode": {
    "name": "ipython",
    "version": 2
   },
   "file_extension": ".py",
   "mimetype": "text/x-python",
   "name": "python",
   "nbconvert_exporter": "python",
   "pygments_lexer": "ipython2",
   "version": "2.7.15"
  }
 },
 "nbformat": 4,
 "nbformat_minor": 2
}
